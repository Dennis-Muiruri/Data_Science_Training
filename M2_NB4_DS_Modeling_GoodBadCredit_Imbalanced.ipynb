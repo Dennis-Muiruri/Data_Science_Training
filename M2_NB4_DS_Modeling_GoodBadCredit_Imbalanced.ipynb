{
 "cells": [
  {
   "cell_type": "markdown",
   "metadata": {},
   "source": [
    "<h1>Modeling for the Imbalanced Classification of Good and Bad Credit</h1><p>Misclassification errors on the minority class are more important than other types of prediction errors for some imbalanced classification tasks. \n",
    "\n",
    "One example is the problem of classifying bank customers as to whether they should receive a loan or not. Giving a loan to a bad customer marked as a good customer results in a greater cost to the bank than denying a loan to a good customer marked as a bad customer.</p><p>This requires careful selection of a performance metric that both promotes minimizing misclassification errors in general, and favors minimizing one type of misclassification error over another.</p><p>The <strong>German credit dataset</strong> is a standard imbalanced classification dataset that has this property of differing costs to misclassification errors. Models evaluated on this dataset can be evaluated using the <a href=\"#\">Fbeta-Measure</a> that provides a way of both quantifying model performance generally, and captures the requirement that one type of misclassification error is more costly than another.</p>"
   ]
  },
  {
   "cell_type": "markdown",
   "metadata": {},
   "source": [
    "<h2>German Credit Dataset</h2><p>In this project, we will use a standard imbalanced machine learning dataset referred to as the “<a href=\"https://archive.ics.uci.edu/ml/datasets/Statlog+(German+Credit+Data)\">German Credit</a>” dataset or simply “<em>German</em>.”</p><p>The dataset was used as part of the Statlog project, a European-based initiative in the 1990s to evaluate and compare a large number (at the time) of machine learning algorithms on a range of different classification tasks. The dataset is credited to Hans Hofmann.</p><p>The german credit dataset describes financial and banking details for customers and the task is to determine whether the customer is good or bad. The assumption is that the task involves predicting whether a customer will pay back a loan or credit.</p>"
   ]
  },
  {
   "cell_type": "markdown",
   "metadata": {},
   "source": [
    "<p>The dataset includes 1,000 examples and 20 input variables, 7 of which are numerical (integer) and 13 are categorical.</p><ul>\n",
    "<li>Status of existing checking account</li>\n",
    "<li>Duration in month</li>\n",
    "<li>Credit history</li>\n",
    "<li>Purpose</li>\n",
    "<li>Credit amount</li>\n",
    "<li>Savings account</li>\n",
    "<li>Present employment since</li>\n",
    "<li>Installment rate in percentage of disposable income</li>\n",
    "<li>Personal status and sex</li>\n",
    "<li>Other debtors</li>\n",
    "<li>Present residence since</li>\n",
    "<li>Property</li>\n",
    "<li>Age in years</li>\n",
    "<li>Other installment plans</li>\n",
    "<li>Housing</li>\n",
    "<li>Number of existing credits at this bank</li>\n",
    "<li>Job</li>\n",
    "<li>Number of dependents</li>\n",
    "<li>Telephone</li>\n",
    "<li>Foreign worker</li>\n",
    "</ul>"
   ]
  },
  {
   "cell_type": "markdown",
   "metadata": {},
   "source": [
    "<p>Some of the categorical variables have an ordinal relationship, such as “<em>Savings account</em>,” although most do not.</p><p>There are two classes, 1 for good customers and 2 for bad customers. Good customers are the default or negative class, whereas bad customers are the exception or positive class. A total of 70 percent of the examples are good customers, whereas the remaining 30 percent of examples are bad customers.</p><ul>\n",
    "<li><strong>Good Customers</strong>: Negative or majority class (70%).</li>\n",
    "<li><strong>Bad Customers</strong>: Positive or minority class (30%).</li>\n",
    "</ul><p>A cost matrix is provided with the dataset that gives a different penalty to each misclassification error for the positive class. Specifically, a cost of five is applied to a false negative (marking a bad customer as good) and a cost of one is assigned for a false positive (marking a good customer as bad).</p><ul>\n",
    "<li><strong>Cost for False Negative</strong>: 5</li>\n",
    "<li><strong>Cost for False Positive</strong>: 1</li>\n",
    "</ul><p>This suggests that the positive class is the focus of the prediction task and that it is more costly to the bank or financial institution to give money to a bad customer than to not give money to a good customer. This must be taken into account when selecting a performance metric.</p><p>Next, let’s take a closer look at the data.</p>"
   ]
  },
  {
   "cell_type": "markdown",
   "metadata": {},
   "source": [
    "<h2>Explore the Dataset</h2><p>First, download the dataset and save it in your current working directory with the name “<em>german.csv</em>“.</p><ul>\n",
    "<li><a href=\"https://raw.githubusercontent.com/jbrownlee/Datasets/master/german.csv\">Download German Credit Dataset (german.csv)</a></li>\n",
    "</ul><p>Review the contents of the file.</p><p>The first few lines of the file should look as follows:<div class=\"crayon-pre\" style=\"font-size: 12px !important; line-height: 15px !important; -moz-tab-size:4; -o-tab-size:4; -webkit-tab-size:4; tab-size:4;\"><div class=\"crayon-line\" id=\"urvanov-syntax-highlighter-5f3f75da15c4c416089650-1\">A11,6,A34,A43,1169,A65,A75,4,A93,A101,4,A121,67,A143,A152,2,A173,1,A192,A201,1</div><div class=\"crayon-line crayon-striped-line\" id=\"urvanov-syntax-highlighter-5f3f75da15c4c416089650-2\">A12,48,A32,A43,5951,A61,A73,2,A92,A101,2,A121,22,A143,A152,1,A173,1,A191,A201,2</div><div class=\"crayon-line\" id=\"urvanov-syntax-highlighter-5f3f75da15c4c416089650-3\">A14,12,A34,A46,2096,A61,A74,2,A93,A101,3,A121,49,A143,A152,1,A172,2,A191,A201,1</div><div class=\"crayon-line crayon-striped-line\" id=\"urvanov-syntax-highlighter-5f3f75da15c4c416089650-4\">A11,42,A32,A42,7882,A61,A74,2,A93,A103,4,A122,45,A143,A153,1,A173,2,A191,A201,1</div><div class=\"crayon-line\" id=\"urvanov-syntax-highlighter-5f3f75da15c4c416089650-5\">A11,24,A33,A40,4870,A61,A73,3,A93,A101,4,A124,53,A143,A153,2,A173,2,A191,A201,2</div><div class=\"crayon-line crayon-striped-line\" id=\"urvanov-syntax-highlighter-5f3f75da15c4c416089650-6\">...</div></div><p>We can see that the categorical columns are encoded with an <em>Axxx</em> format, where “<em>x</em>” are integers for different labels. A one-hot encoding of the categorical variables will be required.</p><p>We can also see that the numerical variables have different scales, e.g. 6, 48, and 12 in column 2, and 1169, 5951, etc. in column 5. This suggests that scaling of the integer columns will be needed for those algorithms that are sensitive to scale.</p><p>The target variable or class is the last column and contains values of 1 and 2. These will need to be label encoded to 0 and 1, respectively, to meet the general expectation for imbalanced binary classification tasks where 0 represents the negative case and 1 represents the positive case.</p><p>The dataset can be loaded as a DataFrame using the <a href=\"https://pandas.pydata.org/pandas-docs/stable/reference/api/pandas.read_csv.html\">read_csv() Pandas function</a>, specifying the location and the fact that there is no header line.</p>"
   ]
  },
  {
   "cell_type": "markdown",
   "metadata": {},
   "source": [
    "### One-hot Encoding Explained\n",
    "One-hot encoding is a method used to convert categorical data into a format that can be provided to machine learning algorithms to do a better job in prediction. This encoding helps to convert nominal (name-based) categorical data, or categorical ordinal (order-based) data into a numerical format.\n",
    "### How does it work?\n",
    "One-hot encoding works by converting a single column of categorical data into multiple columns of binary values. Each of the new columns represents a unique value from the original column. The new columns (or binary variables) take the value 0 or 1, indicating the absence or presence of some categorical value.\n",
    "### Example:\n",
    "Let's say we have a dataset with a single feature called \"Cars\" with three categories: \"Toyota\", \"Subaru\", and \"Nissan\".\n",
    "### Original Data:\n",
    "|         | **Cars**  |\n",
    "|---------|-----------|\n",
    "|    0    |  Toyota   |\n",
    "|    1    |  Subaru   |\n",
    "|    2    |  Nissan   |        \n",
    "|    3    |  Toyota   |\n",
    "|    4    |  Subaru   |\n",
    "\n",
    "After one-hot encoding, it would be converted to:\n",
    "\n",
    "|         | **Toyota**  | **Subaru**  | **Nissan**  |\n",
    "|---------|-------------|-------------|-------------|\n",
    "|    0    |     1       |      0      |      0      |\n",
    "|    1    |     0       |      1      |      0      |\n",
    "|    2    |     0       |      0      |      1      |        \n",
    "|    3    |     1       |      0      |      0      |\n",
    "|    4    |     0       |      1      |      0      |\n",
    "\n",
    "For the first row of the original data (\"Toyota\"), the \"Toyota\" column in the transformed data gets a 1, while the \"Subaru\" and \"Nissan\" columns get 0s.\n",
    "For the second row of the original data (\"Subaru\"), the \"Subaru\" column gets a 1, while the \"Toyota\" and \"Nissan\" columns get 0s.\n",
    "... and so on.\n",
    "\n",
    "### Caution\n",
    "One-hot encoding can significantly increase the dataset's dimensionality if the categorical variable has many unique values. In such cases, other encoding methods or dimensionality reduction might be considered."
   ]
  },
  {
   "cell_type": "code",
   "execution_count": 1,
   "metadata": {},
   "outputs": [],
   "source": [
    "# load and summarize the dataset\n",
    "import pandas as pd\n",
    "from collections import Counter"
   ]
  },
  {
   "cell_type": "markdown",
   "metadata": {},
   "source": [
    "<p>Load the dataset as a DataFrame using the <a href=\"https://pandas.pydata.org/pandas-docs/stable/reference/api/pandas.read_csv.html\">read_csv() Pandas function</a>, specifying the location and the fact that there is no header line.</p>"
   ]
  },
  {
   "cell_type": "code",
   "execution_count": 2,
   "metadata": {},
   "outputs": [
    {
     "data": {
      "text/html": [
       "<div>\n",
       "<style scoped>\n",
       "    .dataframe tbody tr th:only-of-type {\n",
       "        vertical-align: middle;\n",
       "    }\n",
       "\n",
       "    .dataframe tbody tr th {\n",
       "        vertical-align: top;\n",
       "    }\n",
       "\n",
       "    .dataframe thead th {\n",
       "        text-align: right;\n",
       "    }\n",
       "</style>\n",
       "<table border=\"1\" class=\"dataframe\">\n",
       "  <thead>\n",
       "    <tr style=\"text-align: right;\">\n",
       "      <th></th>\n",
       "      <th>0</th>\n",
       "      <th>1</th>\n",
       "      <th>2</th>\n",
       "      <th>3</th>\n",
       "      <th>4</th>\n",
       "      <th>5</th>\n",
       "      <th>6</th>\n",
       "      <th>7</th>\n",
       "      <th>8</th>\n",
       "      <th>9</th>\n",
       "      <th>...</th>\n",
       "      <th>11</th>\n",
       "      <th>12</th>\n",
       "      <th>13</th>\n",
       "      <th>14</th>\n",
       "      <th>15</th>\n",
       "      <th>16</th>\n",
       "      <th>17</th>\n",
       "      <th>18</th>\n",
       "      <th>19</th>\n",
       "      <th>20</th>\n",
       "    </tr>\n",
       "  </thead>\n",
       "  <tbody>\n",
       "    <tr>\n",
       "      <th>0</th>\n",
       "      <td>A11</td>\n",
       "      <td>6</td>\n",
       "      <td>A34</td>\n",
       "      <td>A43</td>\n",
       "      <td>1169</td>\n",
       "      <td>A65</td>\n",
       "      <td>A75</td>\n",
       "      <td>4</td>\n",
       "      <td>A93</td>\n",
       "      <td>A101</td>\n",
       "      <td>...</td>\n",
       "      <td>A121</td>\n",
       "      <td>67</td>\n",
       "      <td>A143</td>\n",
       "      <td>A152</td>\n",
       "      <td>2</td>\n",
       "      <td>A173</td>\n",
       "      <td>1</td>\n",
       "      <td>A192</td>\n",
       "      <td>A201</td>\n",
       "      <td>1</td>\n",
       "    </tr>\n",
       "    <tr>\n",
       "      <th>1</th>\n",
       "      <td>A12</td>\n",
       "      <td>48</td>\n",
       "      <td>A32</td>\n",
       "      <td>A43</td>\n",
       "      <td>5951</td>\n",
       "      <td>A61</td>\n",
       "      <td>A73</td>\n",
       "      <td>2</td>\n",
       "      <td>A92</td>\n",
       "      <td>A101</td>\n",
       "      <td>...</td>\n",
       "      <td>A121</td>\n",
       "      <td>22</td>\n",
       "      <td>A143</td>\n",
       "      <td>A152</td>\n",
       "      <td>1</td>\n",
       "      <td>A173</td>\n",
       "      <td>1</td>\n",
       "      <td>A191</td>\n",
       "      <td>A201</td>\n",
       "      <td>2</td>\n",
       "    </tr>\n",
       "    <tr>\n",
       "      <th>2</th>\n",
       "      <td>A14</td>\n",
       "      <td>12</td>\n",
       "      <td>A34</td>\n",
       "      <td>A46</td>\n",
       "      <td>2096</td>\n",
       "      <td>A61</td>\n",
       "      <td>A74</td>\n",
       "      <td>2</td>\n",
       "      <td>A93</td>\n",
       "      <td>A101</td>\n",
       "      <td>...</td>\n",
       "      <td>A121</td>\n",
       "      <td>49</td>\n",
       "      <td>A143</td>\n",
       "      <td>A152</td>\n",
       "      <td>1</td>\n",
       "      <td>A172</td>\n",
       "      <td>2</td>\n",
       "      <td>A191</td>\n",
       "      <td>A201</td>\n",
       "      <td>1</td>\n",
       "    </tr>\n",
       "    <tr>\n",
       "      <th>3</th>\n",
       "      <td>A11</td>\n",
       "      <td>42</td>\n",
       "      <td>A32</td>\n",
       "      <td>A42</td>\n",
       "      <td>7882</td>\n",
       "      <td>A61</td>\n",
       "      <td>A74</td>\n",
       "      <td>2</td>\n",
       "      <td>A93</td>\n",
       "      <td>A103</td>\n",
       "      <td>...</td>\n",
       "      <td>A122</td>\n",
       "      <td>45</td>\n",
       "      <td>A143</td>\n",
       "      <td>A153</td>\n",
       "      <td>1</td>\n",
       "      <td>A173</td>\n",
       "      <td>2</td>\n",
       "      <td>A191</td>\n",
       "      <td>A201</td>\n",
       "      <td>1</td>\n",
       "    </tr>\n",
       "    <tr>\n",
       "      <th>4</th>\n",
       "      <td>A11</td>\n",
       "      <td>24</td>\n",
       "      <td>A33</td>\n",
       "      <td>A40</td>\n",
       "      <td>4870</td>\n",
       "      <td>A61</td>\n",
       "      <td>A73</td>\n",
       "      <td>3</td>\n",
       "      <td>A93</td>\n",
       "      <td>A101</td>\n",
       "      <td>...</td>\n",
       "      <td>A124</td>\n",
       "      <td>53</td>\n",
       "      <td>A143</td>\n",
       "      <td>A153</td>\n",
       "      <td>2</td>\n",
       "      <td>A173</td>\n",
       "      <td>2</td>\n",
       "      <td>A191</td>\n",
       "      <td>A201</td>\n",
       "      <td>2</td>\n",
       "    </tr>\n",
       "  </tbody>\n",
       "</table>\n",
       "<p>5 rows × 21 columns</p>\n",
       "</div>"
      ],
      "text/plain": [
       "    0   1    2    3     4    5    6   7    8     9   ...    11  12    13  \\\n",
       "0  A11   6  A34  A43  1169  A65  A75   4  A93  A101  ...  A121  67  A143   \n",
       "1  A12  48  A32  A43  5951  A61  A73   2  A92  A101  ...  A121  22  A143   \n",
       "2  A14  12  A34  A46  2096  A61  A74   2  A93  A101  ...  A121  49  A143   \n",
       "3  A11  42  A32  A42  7882  A61  A74   2  A93  A103  ...  A122  45  A143   \n",
       "4  A11  24  A33  A40  4870  A61  A73   3  A93  A101  ...  A124  53  A143   \n",
       "\n",
       "     14 15    16 17    18    19 20  \n",
       "0  A152  2  A173  1  A192  A201  1  \n",
       "1  A152  1  A173  1  A191  A201  2  \n",
       "2  A152  1  A172  2  A191  A201  1  \n",
       "3  A153  1  A173  2  A191  A201  1  \n",
       "4  A153  2  A173  2  A191  A201  2  \n",
       "\n",
       "[5 rows x 21 columns]"
      ]
     },
     "execution_count": 2,
     "metadata": {},
     "output_type": "execute_result"
    }
   ],
   "source": [
    "# define the dataset location\n",
    "filename = 'german.csv'\n",
    "# load the csv file as a data frame\n",
    "dataframe = pd.read_csv(filename, header=None)\n",
    "dataframe.head()"
   ]
  },
  {
   "cell_type": "code",
   "execution_count": 3,
   "metadata": {},
   "outputs": [
    {
     "data": {
      "text/plain": [
       "20"
      ]
     },
     "execution_count": 3,
     "metadata": {},
     "output_type": "execute_result"
    }
   ],
   "source": [
    "last_ix = len(dataframe.columns) - 1\n",
    "X, y = dataframe.drop(last_ix, axis=1), dataframe[last_ix]\n",
    "last_ix"
   ]
  },
  {
   "cell_type": "code",
   "execution_count": 4,
   "metadata": {
    "scrolled": true
   },
   "outputs": [
    {
     "data": {
      "text/html": [
       "<div>\n",
       "<style scoped>\n",
       "    .dataframe tbody tr th:only-of-type {\n",
       "        vertical-align: middle;\n",
       "    }\n",
       "\n",
       "    .dataframe tbody tr th {\n",
       "        vertical-align: top;\n",
       "    }\n",
       "\n",
       "    .dataframe thead th {\n",
       "        text-align: right;\n",
       "    }\n",
       "</style>\n",
       "<table border=\"1\" class=\"dataframe\">\n",
       "  <thead>\n",
       "    <tr style=\"text-align: right;\">\n",
       "      <th></th>\n",
       "      <th>0</th>\n",
       "      <th>1</th>\n",
       "      <th>2</th>\n",
       "      <th>3</th>\n",
       "      <th>4</th>\n",
       "      <th>5</th>\n",
       "      <th>6</th>\n",
       "      <th>7</th>\n",
       "      <th>8</th>\n",
       "      <th>9</th>\n",
       "      <th>10</th>\n",
       "      <th>11</th>\n",
       "      <th>12</th>\n",
       "      <th>13</th>\n",
       "      <th>14</th>\n",
       "      <th>15</th>\n",
       "      <th>16</th>\n",
       "      <th>17</th>\n",
       "      <th>18</th>\n",
       "      <th>19</th>\n",
       "    </tr>\n",
       "  </thead>\n",
       "  <tbody>\n",
       "    <tr>\n",
       "      <th>0</th>\n",
       "      <td>A11</td>\n",
       "      <td>6</td>\n",
       "      <td>A34</td>\n",
       "      <td>A43</td>\n",
       "      <td>1169</td>\n",
       "      <td>A65</td>\n",
       "      <td>A75</td>\n",
       "      <td>4</td>\n",
       "      <td>A93</td>\n",
       "      <td>A101</td>\n",
       "      <td>4</td>\n",
       "      <td>A121</td>\n",
       "      <td>67</td>\n",
       "      <td>A143</td>\n",
       "      <td>A152</td>\n",
       "      <td>2</td>\n",
       "      <td>A173</td>\n",
       "      <td>1</td>\n",
       "      <td>A192</td>\n",
       "      <td>A201</td>\n",
       "    </tr>\n",
       "    <tr>\n",
       "      <th>1</th>\n",
       "      <td>A12</td>\n",
       "      <td>48</td>\n",
       "      <td>A32</td>\n",
       "      <td>A43</td>\n",
       "      <td>5951</td>\n",
       "      <td>A61</td>\n",
       "      <td>A73</td>\n",
       "      <td>2</td>\n",
       "      <td>A92</td>\n",
       "      <td>A101</td>\n",
       "      <td>2</td>\n",
       "      <td>A121</td>\n",
       "      <td>22</td>\n",
       "      <td>A143</td>\n",
       "      <td>A152</td>\n",
       "      <td>1</td>\n",
       "      <td>A173</td>\n",
       "      <td>1</td>\n",
       "      <td>A191</td>\n",
       "      <td>A201</td>\n",
       "    </tr>\n",
       "    <tr>\n",
       "      <th>2</th>\n",
       "      <td>A14</td>\n",
       "      <td>12</td>\n",
       "      <td>A34</td>\n",
       "      <td>A46</td>\n",
       "      <td>2096</td>\n",
       "      <td>A61</td>\n",
       "      <td>A74</td>\n",
       "      <td>2</td>\n",
       "      <td>A93</td>\n",
       "      <td>A101</td>\n",
       "      <td>3</td>\n",
       "      <td>A121</td>\n",
       "      <td>49</td>\n",
       "      <td>A143</td>\n",
       "      <td>A152</td>\n",
       "      <td>1</td>\n",
       "      <td>A172</td>\n",
       "      <td>2</td>\n",
       "      <td>A191</td>\n",
       "      <td>A201</td>\n",
       "    </tr>\n",
       "    <tr>\n",
       "      <th>3</th>\n",
       "      <td>A11</td>\n",
       "      <td>42</td>\n",
       "      <td>A32</td>\n",
       "      <td>A42</td>\n",
       "      <td>7882</td>\n",
       "      <td>A61</td>\n",
       "      <td>A74</td>\n",
       "      <td>2</td>\n",
       "      <td>A93</td>\n",
       "      <td>A103</td>\n",
       "      <td>4</td>\n",
       "      <td>A122</td>\n",
       "      <td>45</td>\n",
       "      <td>A143</td>\n",
       "      <td>A153</td>\n",
       "      <td>1</td>\n",
       "      <td>A173</td>\n",
       "      <td>2</td>\n",
       "      <td>A191</td>\n",
       "      <td>A201</td>\n",
       "    </tr>\n",
       "    <tr>\n",
       "      <th>4</th>\n",
       "      <td>A11</td>\n",
       "      <td>24</td>\n",
       "      <td>A33</td>\n",
       "      <td>A40</td>\n",
       "      <td>4870</td>\n",
       "      <td>A61</td>\n",
       "      <td>A73</td>\n",
       "      <td>3</td>\n",
       "      <td>A93</td>\n",
       "      <td>A101</td>\n",
       "      <td>4</td>\n",
       "      <td>A124</td>\n",
       "      <td>53</td>\n",
       "      <td>A143</td>\n",
       "      <td>A153</td>\n",
       "      <td>2</td>\n",
       "      <td>A173</td>\n",
       "      <td>2</td>\n",
       "      <td>A191</td>\n",
       "      <td>A201</td>\n",
       "    </tr>\n",
       "  </tbody>\n",
       "</table>\n",
       "</div>"
      ],
      "text/plain": [
       "    0   1    2    3     4    5    6   7    8     9   10    11  12    13    14  \\\n",
       "0  A11   6  A34  A43  1169  A65  A75   4  A93  A101   4  A121  67  A143  A152   \n",
       "1  A12  48  A32  A43  5951  A61  A73   2  A92  A101   2  A121  22  A143  A152   \n",
       "2  A14  12  A34  A46  2096  A61  A74   2  A93  A101   3  A121  49  A143  A152   \n",
       "3  A11  42  A32  A42  7882  A61  A74   2  A93  A103   4  A122  45  A143  A153   \n",
       "4  A11  24  A33  A40  4870  A61  A73   3  A93  A101   4  A124  53  A143  A153   \n",
       "\n",
       "   15    16  17    18    19  \n",
       "0   2  A173   1  A192  A201  \n",
       "1   1  A173   1  A191  A201  \n",
       "2   1  A172   2  A191  A201  \n",
       "3   1  A173   2  A191  A201  \n",
       "4   2  A173   2  A191  A201  "
      ]
     },
     "execution_count": 4,
     "metadata": {},
     "output_type": "execute_result"
    }
   ],
   "source": [
    "X.head()"
   ]
  },
  {
   "cell_type": "code",
   "execution_count": 5,
   "metadata": {},
   "outputs": [
    {
     "data": {
      "text/plain": [
       "0    1\n",
       "1    2\n",
       "2    1\n",
       "3    1\n",
       "4    2\n",
       "Name: 20, dtype: int64"
      ]
     },
     "execution_count": 5,
     "metadata": {},
     "output_type": "execute_result"
    }
   ],
   "source": [
    "y.head()"
   ]
  },
  {
   "cell_type": "markdown",
   "metadata": {},
   "source": [
    "<p>Once loaded, we can summarize the number of rows and columns by printing the shape of the <a href=\"https://pandas.pydata.org/pandas-docs/stable/reference/api/pandas.DataFrame.html\">DataFrame</a>.</p>"
   ]
  },
  {
   "cell_type": "code",
   "execution_count": 6,
   "metadata": {},
   "outputs": [
    {
     "data": {
      "text/plain": [
       "(1000, 21)"
      ]
     },
     "execution_count": 6,
     "metadata": {},
     "output_type": "execute_result"
    }
   ],
   "source": [
    "# summarize the shape of the dataset\n",
    "dataframe.shape"
   ]
  },
  {
   "cell_type": "markdown",
   "metadata": {},
   "source": [
    "<p>We can also summarize the number of examples in each class using the <a href=\"https://docs.python.org/3/library/collections.html\">Counter</a> object.</p>"
   ]
  },
  {
   "cell_type": "code",
   "execution_count": 7,
   "metadata": {
    "scrolled": true
   },
   "outputs": [
    {
     "name": "stdout",
     "output_type": "stream",
     "text": [
      "Class=1, Count=700, Percentage=70.00%\n",
      "Class=2, Count=300, Percentage=30.00%\n"
     ]
    }
   ],
   "source": [
    "# summarize the class distribution\n",
    "target = dataframe.values[:,-1]\n",
    "counter = Counter(target)\n",
    "for k,v in counter.items():\n",
    "    per = v / len(target) * 100\n",
    "    print('Class=%d, Count=%d, Percentage=%.2f%%' % (k, v, per))"
   ]
  },
  {
   "cell_type": "markdown",
   "metadata": {},
   "source": [
    "<p>Running the example first loads the dataset and confirms the number of rows and columns, that is 1,000 rows and 20 input variables and 1 target variable.</p><p>The class distribution is then summarized, confirming the number of good and bad customers and the percentage of cases in the minority and majority classes.</p><p>We can also take a look at the distribution of the seven numerical input variables by creating a histogram for each.</p><p>First, we can select the columns with numeric variables by calling the <a href=\"https://pandas.pydata.org/pandas-docs/stable/reference/api/pandas.DataFrame.select_dtypes.html\">select_dtypes() function</a> on the DataFrame. We can then select just those columns from the DataFrame. We would expect there to be seven, plus the numerical class labels.</p>"
   ]
  },
  {
   "cell_type": "code",
   "execution_count": 8,
   "metadata": {},
   "outputs": [
    {
     "data": {
      "text/html": [
       "<div>\n",
       "<style scoped>\n",
       "    .dataframe tbody tr th:only-of-type {\n",
       "        vertical-align: middle;\n",
       "    }\n",
       "\n",
       "    .dataframe tbody tr th {\n",
       "        vertical-align: top;\n",
       "    }\n",
       "\n",
       "    .dataframe thead th {\n",
       "        text-align: right;\n",
       "    }\n",
       "</style>\n",
       "<table border=\"1\" class=\"dataframe\">\n",
       "  <thead>\n",
       "    <tr style=\"text-align: right;\">\n",
       "      <th></th>\n",
       "      <th>0</th>\n",
       "      <th>1</th>\n",
       "      <th>2</th>\n",
       "      <th>3</th>\n",
       "      <th>4</th>\n",
       "      <th>5</th>\n",
       "      <th>6</th>\n",
       "      <th>7</th>\n",
       "      <th>8</th>\n",
       "      <th>9</th>\n",
       "      <th>...</th>\n",
       "      <th>11</th>\n",
       "      <th>12</th>\n",
       "      <th>13</th>\n",
       "      <th>14</th>\n",
       "      <th>15</th>\n",
       "      <th>16</th>\n",
       "      <th>17</th>\n",
       "      <th>18</th>\n",
       "      <th>19</th>\n",
       "      <th>20</th>\n",
       "    </tr>\n",
       "  </thead>\n",
       "  <tbody>\n",
       "    <tr>\n",
       "      <th>0</th>\n",
       "      <td>A11</td>\n",
       "      <td>6</td>\n",
       "      <td>A34</td>\n",
       "      <td>A43</td>\n",
       "      <td>1169</td>\n",
       "      <td>A65</td>\n",
       "      <td>A75</td>\n",
       "      <td>4</td>\n",
       "      <td>A93</td>\n",
       "      <td>A101</td>\n",
       "      <td>...</td>\n",
       "      <td>A121</td>\n",
       "      <td>67</td>\n",
       "      <td>A143</td>\n",
       "      <td>A152</td>\n",
       "      <td>2</td>\n",
       "      <td>A173</td>\n",
       "      <td>1</td>\n",
       "      <td>A192</td>\n",
       "      <td>A201</td>\n",
       "      <td>1</td>\n",
       "    </tr>\n",
       "    <tr>\n",
       "      <th>1</th>\n",
       "      <td>A12</td>\n",
       "      <td>48</td>\n",
       "      <td>A32</td>\n",
       "      <td>A43</td>\n",
       "      <td>5951</td>\n",
       "      <td>A61</td>\n",
       "      <td>A73</td>\n",
       "      <td>2</td>\n",
       "      <td>A92</td>\n",
       "      <td>A101</td>\n",
       "      <td>...</td>\n",
       "      <td>A121</td>\n",
       "      <td>22</td>\n",
       "      <td>A143</td>\n",
       "      <td>A152</td>\n",
       "      <td>1</td>\n",
       "      <td>A173</td>\n",
       "      <td>1</td>\n",
       "      <td>A191</td>\n",
       "      <td>A201</td>\n",
       "      <td>2</td>\n",
       "    </tr>\n",
       "    <tr>\n",
       "      <th>2</th>\n",
       "      <td>A14</td>\n",
       "      <td>12</td>\n",
       "      <td>A34</td>\n",
       "      <td>A46</td>\n",
       "      <td>2096</td>\n",
       "      <td>A61</td>\n",
       "      <td>A74</td>\n",
       "      <td>2</td>\n",
       "      <td>A93</td>\n",
       "      <td>A101</td>\n",
       "      <td>...</td>\n",
       "      <td>A121</td>\n",
       "      <td>49</td>\n",
       "      <td>A143</td>\n",
       "      <td>A152</td>\n",
       "      <td>1</td>\n",
       "      <td>A172</td>\n",
       "      <td>2</td>\n",
       "      <td>A191</td>\n",
       "      <td>A201</td>\n",
       "      <td>1</td>\n",
       "    </tr>\n",
       "    <tr>\n",
       "      <th>3</th>\n",
       "      <td>A11</td>\n",
       "      <td>42</td>\n",
       "      <td>A32</td>\n",
       "      <td>A42</td>\n",
       "      <td>7882</td>\n",
       "      <td>A61</td>\n",
       "      <td>A74</td>\n",
       "      <td>2</td>\n",
       "      <td>A93</td>\n",
       "      <td>A103</td>\n",
       "      <td>...</td>\n",
       "      <td>A122</td>\n",
       "      <td>45</td>\n",
       "      <td>A143</td>\n",
       "      <td>A153</td>\n",
       "      <td>1</td>\n",
       "      <td>A173</td>\n",
       "      <td>2</td>\n",
       "      <td>A191</td>\n",
       "      <td>A201</td>\n",
       "      <td>1</td>\n",
       "    </tr>\n",
       "    <tr>\n",
       "      <th>4</th>\n",
       "      <td>A11</td>\n",
       "      <td>24</td>\n",
       "      <td>A33</td>\n",
       "      <td>A40</td>\n",
       "      <td>4870</td>\n",
       "      <td>A61</td>\n",
       "      <td>A73</td>\n",
       "      <td>3</td>\n",
       "      <td>A93</td>\n",
       "      <td>A101</td>\n",
       "      <td>...</td>\n",
       "      <td>A124</td>\n",
       "      <td>53</td>\n",
       "      <td>A143</td>\n",
       "      <td>A153</td>\n",
       "      <td>2</td>\n",
       "      <td>A173</td>\n",
       "      <td>2</td>\n",
       "      <td>A191</td>\n",
       "      <td>A201</td>\n",
       "      <td>2</td>\n",
       "    </tr>\n",
       "  </tbody>\n",
       "</table>\n",
       "<p>5 rows × 21 columns</p>\n",
       "</div>"
      ],
      "text/plain": [
       "    0   1    2    3     4    5    6   7    8     9   ...    11  12    13  \\\n",
       "0  A11   6  A34  A43  1169  A65  A75   4  A93  A101  ...  A121  67  A143   \n",
       "1  A12  48  A32  A43  5951  A61  A73   2  A92  A101  ...  A121  22  A143   \n",
       "2  A14  12  A34  A46  2096  A61  A74   2  A93  A101  ...  A121  49  A143   \n",
       "3  A11  42  A32  A42  7882  A61  A74   2  A93  A103  ...  A122  45  A143   \n",
       "4  A11  24  A33  A40  4870  A61  A73   3  A93  A101  ...  A124  53  A143   \n",
       "\n",
       "     14 15    16 17    18    19 20  \n",
       "0  A152  2  A173  1  A192  A201  1  \n",
       "1  A152  1  A173  1  A191  A201  2  \n",
       "2  A152  1  A172  2  A191  A201  1  \n",
       "3  A153  1  A173  2  A191  A201  1  \n",
       "4  A153  2  A173  2  A191  A201  2  \n",
       "\n",
       "[5 rows x 21 columns]"
      ]
     },
     "execution_count": 8,
     "metadata": {},
     "output_type": "execute_result"
    }
   ],
   "source": [
    "# define the dataset location\n",
    "filename = 'german.csv'\n",
    "# load the csv file as a data frame\n",
    "df = pd.read_csv(filename, header=None)\n",
    "df.head()"
   ]
  },
  {
   "cell_type": "markdown",
   "metadata": {},
   "source": [
    "<p>We select the columns with numeric variables by calling the <a href=\"https://pandas.pydata.org/pandas-docs/stable/reference/api/pandas.DataFrame.select_dtypes.html\">select_dtypes() function</a> on the DataFrame. We then select just those columns from the DataFrame. We would expect there to be seven, plus the numerical class labels.</p>"
   ]
  },
  {
   "cell_type": "code",
   "execution_count": 9,
   "metadata": {},
   "outputs": [
    {
     "data": {
      "text/html": [
       "<div>\n",
       "<style scoped>\n",
       "    .dataframe tbody tr th:only-of-type {\n",
       "        vertical-align: middle;\n",
       "    }\n",
       "\n",
       "    .dataframe tbody tr th {\n",
       "        vertical-align: top;\n",
       "    }\n",
       "\n",
       "    .dataframe thead th {\n",
       "        text-align: right;\n",
       "    }\n",
       "</style>\n",
       "<table border=\"1\" class=\"dataframe\">\n",
       "  <thead>\n",
       "    <tr style=\"text-align: right;\">\n",
       "      <th></th>\n",
       "      <th>1</th>\n",
       "      <th>4</th>\n",
       "      <th>7</th>\n",
       "      <th>10</th>\n",
       "      <th>12</th>\n",
       "      <th>15</th>\n",
       "      <th>17</th>\n",
       "      <th>20</th>\n",
       "    </tr>\n",
       "  </thead>\n",
       "  <tbody>\n",
       "    <tr>\n",
       "      <th>0</th>\n",
       "      <td>6</td>\n",
       "      <td>1169</td>\n",
       "      <td>4</td>\n",
       "      <td>4</td>\n",
       "      <td>67</td>\n",
       "      <td>2</td>\n",
       "      <td>1</td>\n",
       "      <td>1</td>\n",
       "    </tr>\n",
       "    <tr>\n",
       "      <th>1</th>\n",
       "      <td>48</td>\n",
       "      <td>5951</td>\n",
       "      <td>2</td>\n",
       "      <td>2</td>\n",
       "      <td>22</td>\n",
       "      <td>1</td>\n",
       "      <td>1</td>\n",
       "      <td>2</td>\n",
       "    </tr>\n",
       "    <tr>\n",
       "      <th>2</th>\n",
       "      <td>12</td>\n",
       "      <td>2096</td>\n",
       "      <td>2</td>\n",
       "      <td>3</td>\n",
       "      <td>49</td>\n",
       "      <td>1</td>\n",
       "      <td>2</td>\n",
       "      <td>1</td>\n",
       "    </tr>\n",
       "    <tr>\n",
       "      <th>3</th>\n",
       "      <td>42</td>\n",
       "      <td>7882</td>\n",
       "      <td>2</td>\n",
       "      <td>4</td>\n",
       "      <td>45</td>\n",
       "      <td>1</td>\n",
       "      <td>2</td>\n",
       "      <td>1</td>\n",
       "    </tr>\n",
       "    <tr>\n",
       "      <th>4</th>\n",
       "      <td>24</td>\n",
       "      <td>4870</td>\n",
       "      <td>3</td>\n",
       "      <td>4</td>\n",
       "      <td>53</td>\n",
       "      <td>2</td>\n",
       "      <td>2</td>\n",
       "      <td>2</td>\n",
       "    </tr>\n",
       "  </tbody>\n",
       "</table>\n",
       "</div>"
      ],
      "text/plain": [
       "   1     4   7   10  12  15  17  20\n",
       "0   6  1169   4   4  67   2   1   1\n",
       "1  48  5951   2   2  22   1   1   2\n",
       "2  12  2096   2   3  49   1   2   1\n",
       "3  42  7882   2   4  45   1   2   1\n",
       "4  24  4870   3   4  53   2   2   2"
      ]
     },
     "execution_count": 9,
     "metadata": {},
     "output_type": "execute_result"
    }
   ],
   "source": [
    "# select columns with numerical data types\n",
    "num_ix = df.select_dtypes(include=['int64', 'float64']).columns\n",
    "# select a subset of the dataframe with the chosen columns\n",
    "subset = df[num_ix]\n",
    "subset.head()"
   ]
  },
  {
   "cell_type": "markdown",
   "metadata": {},
   "source": [
    "<p>We can then create histograms of each numeric input variable.</p>"
   ]
  },
  {
   "cell_type": "code",
   "execution_count": 10,
   "metadata": {},
   "outputs": [
    {
     "data": {
      "image/png": "[encoded data removed]",
      "text/plain": [
       "<Figure size 1000x1000 with 9 Axes>"
      ]
     },
     "metadata": {},
     "output_type": "display_data"
    }
   ],
   "source": [
    "# create a histogram plot of each numeric variable\n",
    "from matplotlib import pyplot\n",
    "ax = subset.hist(figsize=(10, 10))\n",
    "# disable axis labels to avoid the clutter\n",
    "for axis in ax.flatten():\n",
    "    axis.set_xticklabels([])\n",
    "    axis.set_yticklabels([])\n",
    "# show the plot\n",
    "pyplot.show()"
   ]
  },
  {
   "cell_type": "markdown",
   "metadata": {},
   "source": [
    "<p>Running the example creates the figure with one histogram subplot for each of the seven input variables and one class label in the dataset. The title of each subplot indicates the column number in the DataFrame (e.g. zero-offset from 0 to 20).</p><p>We can see many different distributions, some with <a href=\"https://machinelearningmastery.com/continuous-probability-distributions-for-machine-learning/\">Gaussian-like distributions</a>, others with seemingly exponential or discrete distributions.</p><p>Depending on the choice of modeling algorithms, we would expect scaling the distributions to the same range to be useful, and perhaps the use of some power transforms.</p>"
   ]
  },
  {
   "cell_type": "markdown",
   "metadata": {},
   "source": [
    "<p>Now that we have reviewed the dataset, let’s look at developing a test harness for evaluating candidate models.</p>"
   ]
  },
  {
   "cell_type": "markdown",
   "metadata": {},
   "source": [
    "<h2>Model Test and Baseline Result</h2><p>We will evaluate candidate models using repeated stratified k-fold cross-validation.</p><p>The <a href=\"https://machinelearningmastery.com/k-fold-cross-validation/\">k-fold cross-validation procedure</a> provides a good general estimate of model performance that is not too optimistically biased, at least compared to a single train-test split. We will use k=10, meaning each fold will contain about 1000/10 or 100 examples.</p><p>Stratified means that each fold will contain the same mixture of examples by class, that is about 70 percent to 30 percent good to bad customers. Repeated means that the evaluation process will be performed multiple times to help avoid fluke results and better capture the variance of the chosen model. We will use three repeats.</p><p>This means a single model will be fit and evaluated 10 * 3 or 30 times and the mean and standard deviation of these runs will be reported.</p><p>This can be achieved using the <a href=\"https://scikit-learn.org/stable/modules/generated/sklearn.model_selection.RepeatedStratifiedKFold.html\">RepeatedStratifiedKFold scikit-learn class</a>.</p><p>We will predict class labels of whether a customer is good or not. Therefore, we need a measure that is appropriate for evaluating the predicted class labels.</p><p>The focus of the task is on the positive class (bad customers). Precision and recall are a good place to start. Maximizing precision will minimize the false positives and maximizing recall will minimize the false negatives in the predictions made by a model.</p><ul>\n",
    "<li>Precision = TruePositives / (TruePositives + FalsePositives)</li>\n",
    "<li>Recall = TruePositives / (TruePositives + FalseNegatives)</li>\n",
    "</ul><p>Using the F-Measure we will calculate the <a href=\"https://www.mathsisfun.com/numbers/harmonic-mean.html\">harmonic mean</a> between precision and recall. This is a good single number that can be used to compare and select a model on this problem. The issue is that false negatives are more damaging than false positives.</p>"
   ]
  },
  {
   "cell_type": "markdown",
   "metadata": {},
   "source": [
    "<ul>\n",
    "<li>F-Measure = (2 x Precision x Recall) / (Precision + Recall)</li>\n",
    "</ul><p>Remember that false negatives on this dataset are cases of a bad customer being marked as a good customer and being given a loan. False positives are cases of a good customer being marked as a bad customer and not being given a loan.</p><ul>\n",
    "<li><strong>False Negative</strong>: Bad Customer (class 1) predicted as a Good Customer (class 0).</li>\n",
    "<li><strong>False Positive</strong>: Good Customer (class 0) predicted as a Bad Customer (class 1).</li>\n",
    "</ul><p>False negatives are more costly to the bank than false positives.</p><ul>\n",
    "<li>Cost(False Negatives) &gt; Cost(False Positives)</li>\n",
    "</ul><p>Put another way, we are interested in the F-measure that will summarize a model’s ability to minimize misclassification errors for the positive class, but we want to favor models that are better at minimizing false negatives over false positives.</p><p>This can be achieved by using a version of the F-measure that calculates a weighted <a href=\"https://machinelearningmastery.com/arithmetic-geometric-and-harmonic-means-for-machine-learning/\">harmonic mean</a> of precision and recall but favors higher recall scores over precision scores. This is called the <a href=\"https://machinelearningmastery.com/fbeta-measure-for-machine-learning/\">Fbeta-measure</a>, a generalization of F-measure, where “<em>beta</em>” is a parameter that defines the weighting of the two scores.</p><ul>\n",
    "<li>Fbeta-Measure = ((1 + beta^2) x Precision x Recall) / (beta^2 x Precision + Recall)</li>\n",
    "</ul><p>A beta value of 2 will weight more attention on recall than precision and is referred to as the F2-measure.</p><ul>\n",
    "<li>F2-Measure = ((1 + 2^2) x Precision x Recall) / (2^2 x Precision + Recall)</li>\n",
    "</ul><p>We will use this measure to evaluate models on the German credit dataset. This can be achieved using the <a href=\"https://scikit-learn.org/stable/modules/generated/sklearn.metrics.fbeta_score.html\">fbeta_score() scikit-learn function</a>.</p><p>We can define a function to load the dataset and split the columns into input and output variables. We will one-hot encode the categorical variables and label encode the target variable. You might recall that a one-hot encoding replaces the categorical variable with one new column for each value of the variable and marks values with a 1 in the column for that value.</p><p>The complete example of loading the German Credit dataset, evaluating a baseline model, and reporting the performance is listed below.</p><p>First, we must split the DataFrame into input and output variables.</p>"
   ]
  },
  {
   "cell_type": "code",
   "execution_count": 11,
   "metadata": {},
   "outputs": [],
   "source": [
    "# test harness and baseline model evaluation for the german credit dataset\n",
    "from collections import Counter\n",
    "from numpy import mean\n",
    "from numpy import std\n",
    "import pandas as pd\n",
    "from sklearn.preprocessing import LabelEncoder\n",
    "from sklearn.preprocessing import OneHotEncoder\n",
    "from sklearn.compose import ColumnTransformer\n",
    "from sklearn.model_selection import cross_val_score\n",
    "from sklearn.model_selection import RepeatedStratifiedKFold\n",
    "from sklearn.metrics import fbeta_score\n",
    "from sklearn.metrics import make_scorer\n",
    "from sklearn.dummy import DummyClassifier"
   ]
  },
  {
   "cell_type": "markdown",
   "metadata": {},
   "source": [
    "<p>First, we must split the DataFrame into input and output variables.</p><p>Next, we need to select all input variables that are categorical, then apply a one-hot encoding and leave the numerical variables untouched.</p><p>This can be achieved using a <a href=\"https://scikit-learn.org/stable/modules/generated/sklearn.compose.ColumnTransformer.html\">ColumnTransformer</a> and defining the transform as a <a href=\"https://scikit-learn.org/stable/modules/generated/sklearn.preprocessing.OneHotEncoder.html\">OneHotEncoder</a> applied only to the column indices for categorical variables.</p><p>We can then label encode the target variable.</p><p>The <em>load_dataset()</em> function below ties all of this together and loads and prepares the dataset for modeling.</p>"
   ]
  },
  {
   "cell_type": "code",
   "execution_count": 12,
   "metadata": {},
   "outputs": [],
   "source": [
    "# load the dataset as a numpy array\n",
    "def load_dataset(full_path):\n",
    "    \n",
    "    # load the dataset as a pandas dataframe\n",
    "    dataframe = pd.read_csv(full_path, header=None)\n",
    "    \n",
    "    # split into inputs and outputs\n",
    "    last_ix = len(dataframe.columns) - 1\n",
    "    X, y = dataframe.drop(last_ix, axis=1), dataframe[last_ix]\n",
    "    \n",
    "    # select categorical features\n",
    "    cat_ix = X.select_dtypes(include=['object', 'bool']).columns\n",
    "    \n",
    "    # one hot encode cat features only\n",
    "    ct = ColumnTransformer([('o',OneHotEncoder(),cat_ix)], remainder='passthrough')\n",
    "    X = ct.fit_transform(X)\n",
    "    \n",
    "    # label encode the target variable to have the classes 0 and 1\n",
    "    y = LabelEncoder().fit_transform(y)\n",
    "    return X, y"
   ]
  },
  {
   "cell_type": "markdown",
   "metadata": {},
   "source": [
    "<p>Next, we need a function that will evaluate a set of predictions using the <em>fbeta_score()</em> function with <em>beta</em> set to 2.</p>"
   ]
  },
  {
   "cell_type": "code",
   "execution_count": 13,
   "metadata": {},
   "outputs": [],
   "source": [
    "# calculate f2 score\n",
    "def f2(y_true, y_pred):\n",
    "    return fbeta_score(y_true, y_pred, beta=2)"
   ]
  },
  {
   "cell_type": "markdown",
   "metadata": {},
   "source": [
    "<p>We can then define a function that will evaluate a given model on the dataset and return a list of F2-Measure scores for each fold and repeat.</p>The evaluate_model() function below implements this, taking the dataset and model as arguments and returning the list of scores."
   ]
  },
  {
   "cell_type": "code",
   "execution_count": 14,
   "metadata": {},
   "outputs": [],
   "source": [
    "# evaluate a model\n",
    "def evaluate_model(X, y, model):\n",
    "    # define evaluation procedure\n",
    "    cv = RepeatedStratifiedKFold(n_splits=10, n_repeats=3, random_state=1)\n",
    "    # define the model evaluation metric\n",
    "    metric = make_scorer(f2)\n",
    "    # evaluate model\n",
    "    scores = cross_val_score(model, X, y, scoring=metric, cv=cv, n_jobs=-1)\n",
    "    return scores"
   ]
  },
  {
   "cell_type": "markdown",
   "metadata": {},
   "source": [
    "**n_jobs=-1**: This parameter specifies how many CPU cores to use for the computation. The value -1 means to use all available cores. This allows for parallel computation, making the cross-validation process faster, especially when evaluating on multiple splits."
   ]
  },
  {
   "cell_type": "code",
   "execution_count": 15,
   "metadata": {},
   "outputs": [
    {
     "name": "stdout",
     "output_type": "stream",
     "text": [
      "(1000, 61) (1000,) Counter({0: 700, 1: 300})\n"
     ]
    }
   ],
   "source": [
    "# define the location of the dataset\n",
    "full_path = 'german.csv'\n",
    "# load the dataset\n",
    "X, y = load_dataset(full_path)\n",
    "# summarize the loaded dataset\n",
    "print(X.shape, y.shape, Counter(y))"
   ]
  },
  {
   "cell_type": "code",
   "execution_count": 16,
   "metadata": {},
   "outputs": [
    {
     "data": {
      "text/plain": [
       "(array([[1.000e+00, 0.000e+00, 0.000e+00, 0.000e+00, 0.000e+00, 0.000e+00,\n",
       "         0.000e+00, 0.000e+00, 1.000e+00, 0.000e+00, 0.000e+00, 0.000e+00,\n",
       "         0.000e+00, 1.000e+00, 0.000e+00, 0.000e+00, 0.000e+00, 0.000e+00,\n",
       "         0.000e+00, 0.000e+00, 0.000e+00, 0.000e+00, 0.000e+00, 1.000e+00,\n",
       "         0.000e+00, 0.000e+00, 0.000e+00, 0.000e+00, 1.000e+00, 0.000e+00,\n",
       "         0.000e+00, 1.000e+00, 0.000e+00, 1.000e+00, 0.000e+00, 0.000e+00,\n",
       "         1.000e+00, 0.000e+00, 0.000e+00, 0.000e+00, 0.000e+00, 0.000e+00,\n",
       "         1.000e+00, 0.000e+00, 1.000e+00, 0.000e+00, 0.000e+00, 0.000e+00,\n",
       "         1.000e+00, 0.000e+00, 0.000e+00, 1.000e+00, 1.000e+00, 0.000e+00,\n",
       "         6.000e+00, 1.169e+03, 4.000e+00, 4.000e+00, 6.700e+01, 2.000e+00,\n",
       "         1.000e+00]]),\n",
       " array([0], dtype=int64))"
      ]
     },
     "execution_count": 16,
     "metadata": {},
     "output_type": "execute_result"
    }
   ],
   "source": [
    "X[:1],y[:1]"
   ]
  },
  {
   "cell_type": "markdown",
   "metadata": {},
   "source": [
    "<p>Finally, we can evaluate a baseline model on the dataset using this test harness.</p><p>A model that predicts the minority class for examples will achieve a maximum recall score and a baseline precision score. This provides a baseline in model performance on this problem by which all other models can be compared.</p><p>This can be achieved using the <a href=\"https://scikit-learn.org/stable/modules/generated/sklearn.dummy.DummyClassifier.html\">DummyClassifier</a> class from the scikit-learn library and setting the “<em>strategy</em>” argument to “<em>constant</em>” and the “<em>constant</em>” argument to “<em>1</em>” for the minority class.</p>"
   ]
  },
  {
   "cell_type": "code",
   "execution_count": 17,
   "metadata": {},
   "outputs": [],
   "source": [
    "# define the reference model\n",
    "model = DummyClassifier(strategy='constant', constant=1)"
   ]
  },
  {
   "cell_type": "markdown",
   "metadata": {},
   "source": [
    "<p>Once the model is evaluated, we can report the mean and standard deviation of the F2-Measure scores directly.</p>"
   ]
  },
  {
   "cell_type": "code",
   "execution_count": 18,
   "metadata": {},
   "outputs": [
    {
     "name": "stdout",
     "output_type": "stream",
     "text": [
      "Mean F2: 0.682 (0.000)\n"
     ]
    }
   ],
   "source": [
    "# evaluate the model\n",
    "scores = evaluate_model(X, y, model)\n",
    "# summarize performance\n",
    "print('Mean F2: %.3f (%.3f)' % (mean(scores), std(scores)))"
   ]
  },
  {
   "cell_type": "markdown",
   "metadata": {},
   "source": [
    "<p>Running the example first loads and summarizes the dataset.</p><p>We can see that we have the correct number of rows loaded, and through the one-hot encoding of the categorical input variables, we have increased the number of input variables from 20 to 61. That suggests that the 13 categorical variables were encoded into a total of 54 columns.</p><p>Importantly, we can see that the class labels have the correct mapping to integers with 0 for the majority class and 1 for the minority class, customary for imbalanced binary classification dataset.</p><p>Next, the average of the F2-Measure scores is reported.</p><p>In this case, we can see that the baseline algorithm achieves an F2-Measure of about 0.682. This score provides a lower limit on model skill; any model that achieves an average F2-Measure above about 0.682 has skill, whereas models that achieve a score below this value do not have skill on this dataset.</p><p>Now that we have a test harness and a baseline in performance, we can begin to evaluate some models on this dataset.</p>"
   ]
  },
  {
   "cell_type": "markdown",
   "metadata": {},
   "source": [
    "<h2>Evaluate Models</h2><p>In this section, we will evaluate a suite of different techniques on the dataset using the test harness developed in the previous section.</p><p>The goal is to both demonstrate how to work through the problem systematically and to demonstrate the capability of some techniques designed for imbalanced classification problems.</p><p>The reported performance is good, but not highly optimized (e.g. hyperparameters are not tuned).</p><p><strong>Can you do better? </strong>If you can achieve better F2-Measure performance using the same test harness, I’d love to hear about it.</p>"
   ]
  },
  {
   "cell_type": "markdown",
   "metadata": {},
   "source": [
    "<h3>Evaluate Machine Learning Algorithms</h3><p>Let’s start by evaluating a mixture of probabilistic machine learning models on the dataset.</p><p>It can be a good idea to spot check a suite of different linear and nonlinear algorithms on a dataset to quickly flush out what works well and deserves further attention, and what doesn’t.</p><p>We will evaluate the following machine learning models on the German credit dataset:</p><ul>\n",
    "<li>Logistic Regression (LR)</li>\n",
    "<li>Linear Discriminant Analysis (LDA)</li>\n",
    "<li>Naive Bayes (NB)</li>\n",
    "<li>Gaussian Process Classifier (GPC)</li>\n",
    "<li>Support Vector Machine (SVM)</li>\n",
    "<li>Decision Tree (DT)</li>\n",
    "</ul><p>The complete example of evaluating a suite of machine learning algorithms on the German credit dataset is listed below.</p>"
   ]
  },
  {
   "cell_type": "code",
   "execution_count": 19,
   "metadata": {},
   "outputs": [],
   "source": [
    "# spot check machine learning algorithms on the german credit dataset\n",
    "from numpy import mean\n",
    "from numpy import std\n",
    "import pandas as pd\n",
    "from matplotlib import pyplot\n",
    "from sklearn.preprocessing import LabelEncoder\n",
    "from sklearn.preprocessing import OneHotEncoder\n",
    "from sklearn.preprocessing import MinMaxScaler\n",
    "from sklearn.pipeline import Pipeline\n",
    "from sklearn.compose import ColumnTransformer\n",
    "from sklearn.model_selection import cross_val_score\n",
    "from sklearn.model_selection import RepeatedStratifiedKFold\n",
    "from sklearn.metrics import fbeta_score\n",
    "from sklearn.metrics import make_scorer\n",
    "from sklearn.linear_model import LogisticRegression\n",
    "from sklearn.discriminant_analysis import LinearDiscriminantAnalysis\n",
    "from sklearn.naive_bayes import GaussianNB\n",
    "from sklearn.gaussian_process import GaussianProcessClassifier\n",
    "from sklearn.svm import SVC\n",
    "import xgboost as xgb\n",
    "from xgboost import XGBClassifier, XGBRegressor\n",
    "from sklearn import tree\n",
    "from sklearn.tree import DecisionTreeClassifier"
   ]
  },
  {
   "cell_type": "markdown",
   "metadata": {},
   "source": [
    "<p>We will one-hot encode the categorical input variables as we did in the previous section, and in this case, we will normalize the numerical input variables. This is best performed using the <a href=\"https://scikit-learn.org/stable/modules/generated/sklearn.preprocessing.MinMaxScaler.html\">MinMaxScaler</a> within each fold of the cross-validation evaluation process.</p><p>An easy way to implement this is to use a <a href=\"https://scikit-learn.org/stable/modules/generated/sklearn.pipeline.Pipeline.html\">Pipeline</a> where the first step is a <a href=\"https://scikit-learn.org/stable/modules/generated/sklearn.compose.ColumnTransformer.html\">ColumnTransformer</a> that applies a <a href=\"https://scikit-learn.org/stable/modules/generated/sklearn.preprocessing.OneHotEncoder.html\">OneHotEncoder</a> to just the categorical variables, and a <em>MinMaxScaler</em> to just the numerical input variables. To achieve this, we need a list of the column indices for categorical and numerical input variables.</p><p>We can update the <em>load_dataset()</em> to return the column indexes as well as the input and output elements of the dataset. The updated version of this function is listed below.</p>"
   ]
  },
  {
   "cell_type": "code",
   "execution_count": 20,
   "metadata": {},
   "outputs": [],
   "source": [
    "# load the dataset as a numpy array\n",
    "def load_dataset(full_path):\n",
    "    # load the dataset as a pandas dataframe\n",
    "    dataframe = pd.read_csv(full_path, header=None)\n",
    "    # split into inputs and outputs\n",
    "    last_ix = len(dataframe.columns) - 1\n",
    "    X, y = dataframe.drop(last_ix, axis=1), dataframe[last_ix]\n",
    "    # select categorical and numerical features\n",
    "    cat_ix = X.select_dtypes(include=['object', 'bool']).columns\n",
    "    num_ix = X.select_dtypes(include=['int64', 'float64']).columns\n",
    "    # label encode the target variable to have the classes 0 and 1\n",
    "    y = LabelEncoder().fit_transform(y)\n",
    "    return X.values, y, cat_ix, num_ix"
   ]
  },
  {
   "cell_type": "code",
   "execution_count": 21,
   "metadata": {},
   "outputs": [],
   "source": [
    "# calculate f2-measure\n",
    "def f2_measure(y_true, y_pred):\n",
    "    return fbeta_score(y_true, y_pred, beta=2)"
   ]
  },
  {
   "cell_type": "code",
   "execution_count": 22,
   "metadata": {},
   "outputs": [],
   "source": [
    "# evaluate a model\n",
    "def evaluate_model(X, y, model):\n",
    "    # define evaluation procedure\n",
    "    cv = RepeatedStratifiedKFold(n_splits=10, n_repeats=3, random_state=1)\n",
    "    # define the model evaluation metric\n",
    "    metric = make_scorer(f2_measure)\n",
    "    # evaluate model\n",
    "    scores = cross_val_score(model, X, y, scoring=metric, cv=cv, n_jobs=-1)\n",
    "    return scores"
   ]
  },
  {
   "cell_type": "markdown",
   "metadata": {},
   "source": [
    "<p>We define each model in turn and add them to a list so that we can evaluate them sequentially. The <em>get_models()</em> function below defines the list of models for evaluation, as well as a list of model short names for plotting the results later.</p><p>We can then enumerate the list of models in turn and evaluate each, storing the scores for later evaluation.</p>"
   ]
  },
  {
   "cell_type": "code",
   "execution_count": 23,
   "metadata": {},
   "outputs": [],
   "source": [
    "# define models to test\n",
    "def get_models():\n",
    "    # list of models and model names\n",
    "    models, names = [], []\n",
    "    # LR\n",
    "    models.append(LogisticRegression(solver='liblinear'))\n",
    "    names.append('LR')\n",
    "    # LDA\n",
    "    models.append(LinearDiscriminantAnalysis())\n",
    "    names.append('LDA')\n",
    "    # NB\n",
    "    models.append(GaussianNB())\n",
    "    names.append('NB')\n",
    "    # GPC\n",
    "    models.append(GaussianProcessClassifier())\n",
    "    names.append('GPC')\n",
    "    # SVM\n",
    "    models.append(SVC(gamma='scale'))\n",
    "    names.append('SVM')\n",
    "    # DT\n",
    "    models.append(DecisionTreeClassifier())\n",
    "    names.append('DT')\n",
    "    return models, names"
   ]
  },
  {
   "cell_type": "markdown",
   "metadata": {},
   "source": [
    "<p>We can then call the function (load_dataset) to get the data and the list of categorical and numerical variables.</p>"
   ]
  },
  {
   "cell_type": "code",
   "execution_count": 24,
   "metadata": {},
   "outputs": [],
   "source": [
    "# define the location of the dataset\n",
    "full_path = 'german.csv'\n",
    "# load the dataset\n",
    "X, y, cat_ix, num_ix = load_dataset(full_path)\n",
    "# define models\n",
    "models, names = get_models()\n",
    "# create a results list\n",
    "results = []"
   ]
  },
  {
   "cell_type": "code",
   "execution_count": 25,
   "metadata": {},
   "outputs": [
    {
     "name": "stdout",
     "output_type": "stream",
     "text": [
      "Names: ['LR', 'LDA', 'NB', 'GPC', 'SVM', 'DT']\n",
      "Models: [LogisticRegression(solver='liblinear'), LinearDiscriminantAnalysis(), GaussianNB(), GaussianProcessClassifier(), SVC(), DecisionTreeClassifier()]\n"
     ]
    }
   ],
   "source": [
    "print('Names:', (names))\n",
    "print('Models:', (models))"
   ]
  },
  {
   "cell_type": "code",
   "execution_count": 26,
   "metadata": {},
   "outputs": [
    {
     "data": {
      "text/plain": [
       "(array([['A11', 6, 'A34', 'A43', 1169, 'A65', 'A75', 4, 'A93', 'A101', 4,\n",
       "         'A121', 67, 'A143', 'A152', 2, 'A173', 1, 'A192', 'A201']],\n",
       "       dtype=object),\n",
       " array([0], dtype=int64))"
      ]
     },
     "execution_count": 26,
     "metadata": {},
     "output_type": "execute_result"
    }
   ],
   "source": [
    "X[:1],y[:1]"
   ]
  },
  {
   "cell_type": "code",
   "execution_count": 27,
   "metadata": {},
   "outputs": [
    {
     "data": {
      "text/plain": [
       "(Int64Index([0, 2, 3, 5, 6, 8, 9, 11, 13, 14, 16, 18, 19], dtype='int64'),\n",
       " Int64Index([1, 4, 7, 10, 12, 15, 17], dtype='int64'))"
      ]
     },
     "execution_count": 27,
     "metadata": {},
     "output_type": "execute_result"
    }
   ],
   "source": [
    "cat_ix,num_ix"
   ]
  },
  {
   "cell_type": "markdown",
   "metadata": {},
   "source": [
    "<p>This can be used to prepare a <em>Pipeline</em> to wrap each model prior to evaluating it.</p><p>First, the <em>ColumnTransformer</em> is defined, which specifies what transform to apply to each type of column, then this is used as the first step in a Pipeline that ends with the specific model that will be fit and evaluated.</p><p>We can summarize the mean F2-Measure for each algorithm; this will help to directly compare algorithms.</p>"
   ]
  },
  {
   "cell_type": "code",
   "execution_count": 28,
   "metadata": {},
   "outputs": [
    {
     "name": "stdout",
     "output_type": "stream",
     "text": [
      ">LR 0.498 (0.072)\n",
      ">LDA 0.519 (0.072)\n",
      ">NB 0.639 (0.049)\n",
      ">GPC 0.219 (0.061)\n",
      ">SVM 0.436 (0.077)\n",
      ">DT 0.442 (0.089)\n"
     ]
    }
   ],
   "source": [
    "# evaluate each model\n",
    "for i in range(len(models)):\n",
    "    # one hot encode categorical, normalize numerical\n",
    "    ct = ColumnTransformer([('c',OneHotEncoder(),cat_ix), ('n',MinMaxScaler(),num_ix)])\n",
    "    # wrap the model i a pipeline\n",
    "    pipeline = Pipeline(steps=[('t',ct),('m',models[i])])\n",
    "    # evaluate the model and store results\n",
    "    scores = evaluate_model(X, y, pipeline)\n",
    "    results.append(scores) \n",
    "    # summarize and store\n",
    "    print('>%s %.3f (%.3f)' % (names[i], mean(scores), std(scores)))"
   ]
  },
  {
   "cell_type": "code",
   "execution_count": 29,
   "metadata": {},
   "outputs": [
    {
     "data": {
      "text/plain": [
       "[array([0.62937063, 0.42253521, 0.50359712, 0.57432432, 0.52083333,\n",
       "        0.48611111, 0.43165468, 0.43165468, 0.5033557 , 0.42553191,\n",
       "        0.57823129, 0.52447552, 0.4964539 , 0.43478261, 0.48611111,\n",
       "        0.55172414, 0.42553191, 0.47445255, 0.51724138, 0.49295775,\n",
       "        0.48275862, 0.42553191, 0.46428571, 0.37931034, 0.65972222,\n",
       "        0.68627451, 0.48507463, 0.53191489, 0.41666667, 0.4964539 ])]"
      ]
     },
     "execution_count": 29,
     "metadata": {},
     "output_type": "execute_result"
    }
   ],
   "source": [
    "results[:1]"
   ]
  },
  {
   "cell_type": "code",
   "execution_count": 30,
   "metadata": {},
   "outputs": [
    {
     "name": "stdout",
     "output_type": "stream",
     "text": [
      "0.4979641429755651 0.07168600123526696\n"
     ]
    }
   ],
   "source": [
    "import numpy as np\n",
    "data = results[0]\n",
    "mean_value = np.mean(data)\n",
    "stdev = np.std(data)\n",
    "print(mean_value, stdev)"
   ]
  },
  {
   "cell_type": "markdown",
   "metadata": {},
   "source": [
    "<p>At the end of the run, we will create a separate box and whisker plot for each algorithm’s sample of results.</p><p>These plots will use the same y-axis scale so we can compare the distribution of results directly.</p>"
   ]
  },
  {
   "cell_type": "code",
   "execution_count": 31,
   "metadata": {},
   "outputs": [
    {
     "data": {
      "image/png": "[encoded data removed]",
      "text/plain": [
       "<Figure size 1500x800 with 1 Axes>"
      ]
     },
     "metadata": {},
     "output_type": "display_data"
    }
   ],
   "source": [
    "# plot the results\n",
    "# Set the figure size (width, height) in inches\n",
    "pyplot.figure(figsize=(15, 8))\n",
    "pyplot.boxplot(results, labels=names, showmeans=True)\n",
    "pyplot.show()"
   ]
  },
  {
   "cell_type": "markdown",
   "metadata": {},
   "source": [
    "<p>Running the example evaluates each algorithm in turn and reports the mean and standard deviation F2-Measure.</p><p><strong>Note</strong>: Your <a href=\"https://machinelearningmastery.com/different-results-each-time-in-machine-learning/\">results may vary</a> given the stochastic nature of the algorithm or evaluation procedure, or differences in numerical precision. Consider running the example a few times and compare the average outcome.</p><p>In this case, we can see that none of the tested models have an F2-measure above the default of predicting the minority class in all cases (0.682). None of the models are skillful. This is surprising, although suggests that perhaps the decision boundary between the two classes is noisy.</p><p>A figure is created showing one box and whisker plot for each algorithm’s sample of results. The box shows the middle 50 percent of the data, the orange line in the middle of each box shows the median of the sample, and the green triangle in each box shows the mean of the sample.</p>"
   ]
  },
  {
   "cell_type": "markdown",
   "metadata": {},
   "source": [
    "### Understanding Box Plots\n",
    "<p>Box plots, also known as whisker plots, are a graphical representation of the distribution of a dataset. They provide a visual summary that combines several important quantitative measures, making them especially useful for understanding the central tendency and variability of a dataset as well as identifying potential outliers.</p><p> In Python, the matplotlib and seaborn libraries are popular choices for creating box plots.</p>\n",
    "\n",
    "### Components of a Box Plot:\n",
    "<img src=\"Screenshot 2023-08-27 at 12.23.04.png\" width=400, height=450>\n",
    "\n",
    "1. **Median (Q2/50th Percentile)**: The median is the value that separates the higher half from the lower half of a data sample. It is represented by a line inside the box.\n",
    "\n",
    "2. **First Quartile (Q1/25th Percentile)**: This is the median of the first half of the data (i.e., the data below the median). It's the bottom line of the box.\n",
    "\n",
    "3. **Third Quartile (Q3/75th Percentile)**: This is the median of the second half of the data (i.e., the data above the median). It's the top line of the box.\n",
    "\n",
    "4. **Interquartile Range (IQR)**: It's the range between Q3 and Q1 (IQR = Q3 - Q1). The height of the box represents this range, and it captures the middle 50% of the data.\n",
    "\n",
    "5. **Whiskers**: The \"T\" lines that extend from the box. They can represent a range of data within a particular distance from the IQR or, in some cases, the minimum and maximum data values.\n",
    "\n",
    "6. **Outliers**: Typically represented by dots or other markers outside of the whiskers. Outliers are data points that fall far from the other data points.\n",
    "\n",
    "### Uses of Box Plots:\n",
    "1. **Understanding Distribution**: You can quickly get a sense of the center, spread, and overall range of the data.\n",
    "\n",
    "2. **Detecting Outliers**: Outliers are displayed outside the \"whiskers\" of the box plot, allowing for easy identification.\n",
    "\n",
    "3. **Comparing Distributions**: When you have data from multiple groups or categories, you can use side-by-side box plots to compare their distributions.\n",
    "\n",
    "4. **Visualizing Skewness**: If the data is skewed, the median might be closer to Q1 or Q3, and one whisker might be notably longer than the other.\n",
    "\n",
    "5. **Evaluating Spread and Symmetry**: The IQR and the position of the median can give insights into the variability and symmetry of the data distribution.\n",
    "\n",
    "<p>In conclusion, box plots are a concise way of graphically summarizing the distribution of a dataset. They are particularly useful for comparing distributions across different categories or groups and for identifying outliers.</p>"
   ]
  },
  {
   "cell_type": "markdown",
   "metadata": {},
   "source": [
    "<p>Now that we have some results, let’s see if we can improve them with some undersampling.</p>"
   ]
  },
  {
   "cell_type": "markdown",
   "metadata": {},
   "source": [
    "<h3>Evaluate Undersampling</h3><p>Undersampling is perhaps the least widely used technique when addressing an imbalanced classification task as most of the focus is put on oversampling the majority class with SMOTE (Synthetic Minority Over-sampling Technique).</p><p>Undersampling can help to remove examples from the majority class along the decision boundary that make the problem challenging for classification algorithms.</p><p>In this experiment we will test the following undersampling algorithms:</p><ul>\n",
    "<li>Tomek Links (TL)</li>\n",
    "<li>Edited Nearest Neighbors (ENN)</li>\n",
    "<li>Repeated Edited Nearest Neighbors (RENN)</li>\n",
    "<li>One Sided Selection (OSS)</li>\n",
    "<li>Neighborhood Cleaning Rule (NCR)</li>\n",
    "<li>NearMiss (NM)</li>\n",
    "</ul><p>The Tomek Links and ENN methods select examples from the majority class to delete, whereas OSS and NCR both select examples to keep and examples to delete. NM undersamples by selecting majority samples based on the distance to minority class samples. We will use the balanced version of the logistic regression algorithm to test each undersampling method, to keep things simple.</p><p>The complete example of evaluating logistic regression with different undersampling methods on the German credit dataset is listed below.</p><p>We would expect the undersampling to to result in a lift on skill in logistic regression, ideally above the baseline performance of predicting the minority class in all cases.</p><p>The complete example is listed below.</p>"
   ]
  },
  {
   "cell_type": "code",
   "execution_count": 32,
   "metadata": {},
   "outputs": [],
   "source": [
    "# evaluate undersampling with logistic regression on the imbalanced german credit dataset\n",
    "from numpy import mean\n",
    "from numpy import std\n",
    "import pandas as pd\n",
    "from sklearn.preprocessing import LabelEncoder\n",
    "from sklearn.preprocessing import OneHotEncoder\n",
    "from sklearn.preprocessing import MinMaxScaler\n",
    "from sklearn.compose import ColumnTransformer\n",
    "from sklearn.model_selection import cross_val_score\n",
    "from sklearn.model_selection import RepeatedStratifiedKFold\n",
    "from sklearn.metrics import fbeta_score\n",
    "from sklearn.metrics import make_scorer\n",
    "from matplotlib import pyplot\n",
    "from sklearn.linear_model import LogisticRegression\n",
    "from imblearn.pipeline import Pipeline\n",
    "from imblearn.under_sampling import TomekLinks\n",
    "from imblearn.under_sampling import EditedNearestNeighbours\n",
    "from imblearn.under_sampling import RepeatedEditedNearestNeighbours\n",
    "from imblearn.under_sampling import NeighbourhoodCleaningRule\n",
    "from imblearn.under_sampling import OneSidedSelection\n",
    "from imblearn.under_sampling import NearMiss\n",
    "from sklearn.calibration import CalibratedClassifierCV"
   ]
  },
  {
   "cell_type": "markdown",
   "metadata": {},
   "source": [
    "<p>We will one-hot encode the categorical input variables as we did in the previous section, and in this case, we will normalize the numerical input variables. This is best performed using the <a href=\"https://scikit-learn.org/stable/modules/generated/sklearn.preprocessing.MinMaxScaler.html\">MinMaxScaler</a> within each fold of the cross-validation evaluation process.</p><p>An easy way to implement this is to use a <a href=\"https://scikit-learn.org/stable/modules/generated/sklearn.pipeline.Pipeline.html\">Pipeline</a> where the first step is a <a href=\"https://scikit-learn.org/stable/modules/generated/sklearn.compose.ColumnTransformer.html\">ColumnTransformer</a> that applies a <a href=\"https://scikit-learn.org/stable/modules/generated/sklearn.preprocessing.OneHotEncoder.html\">OneHotEncoder</a> to just the categorical variables, and a <em>MinMaxScaler</em> to just the numerical input variables. To achieve this, we need a list of the column indices for categorical and numerical input variables.</p><p>We can update the <em>load_dataset()</em> to return the column indexes as well as the input and output elements of the dataset. The updated version of this function is listed below.</p>"
   ]
  },
  {
   "cell_type": "code",
   "execution_count": 33,
   "metadata": {},
   "outputs": [],
   "source": [
    "# load the dataset as a numpy array\n",
    "def load_dataset(full_path):\n",
    "    # load the dataset as a pandas dataframe\n",
    "    dataframe = pd.read_csv(full_path, header=None)\n",
    "    # split into inputs and outputs\n",
    "    last_ix = len(dataframe.columns) - 1\n",
    "    X, y = dataframe.drop(last_ix, axis=1), dataframe[last_ix]\n",
    "    # select categorical and numerical features\n",
    "    cat_ix = X.select_dtypes(include=['object', 'bool']).columns\n",
    "    num_ix = X.select_dtypes(include=['int64', 'float64']).columns\n",
    "    # label encode the target variable to have the classes 0 and 1\n",
    "    y = LabelEncoder().fit_transform(y)\n",
    "    return X.values, y, cat_ix, num_ix"
   ]
  },
  {
   "cell_type": "code",
   "execution_count": 34,
   "metadata": {},
   "outputs": [],
   "source": [
    "# calculate f2-measure\n",
    "def f2_measure(y_true, y_pred):\n",
    "    return fbeta_score(y_true, y_pred, beta=2)"
   ]
  },
  {
   "cell_type": "code",
   "execution_count": 35,
   "metadata": {},
   "outputs": [],
   "source": [
    "# evaluate a model\n",
    "def evaluate_model(X, y, model):\n",
    "    # define evaluation procedure\n",
    "    cv = RepeatedStratifiedKFold(n_splits=10, n_repeats=3, random_state=1)\n",
    "    # define the model evaluation metric\n",
    "    metric = make_scorer(f2_measure)\n",
    "    # evaluate model\n",
    "    scores = cross_val_score(model, X, y, scoring=metric, cv=cv, n_jobs=-1)\n",
    "    return scores"
   ]
  },
  {
   "cell_type": "markdown",
   "metadata": {},
   "source": [
    "<p>The <em>get_models()</em> function from the previous section can be updated to return a list of undersampling techniques to test with the logistic regression algorithm. We use the implementations of these algorithms from the imbalanced-learn library.</p><p>The updated version of the <em>get_models()</em> function defining the undersampling methods is listed below.</p>"
   ]
  },
  {
   "cell_type": "code",
   "execution_count": 36,
   "metadata": {},
   "outputs": [],
   "source": [
    "# define undersampling models to test\n",
    "def get_models():\n",
    "    models, names = [], []\n",
    "    # TL\n",
    "    models.append(TomekLinks())\n",
    "    names.append('TL')\n",
    "    # ENN\n",
    "    models.append(EditedNearestNeighbours())\n",
    "    names.append('ENN')\n",
    "    # RENN\n",
    "    models.append(RepeatedEditedNearestNeighbours())\n",
    "    names.append('RENN')\n",
    "    # OSS\n",
    "    models.append(OneSidedSelection())\n",
    "    names.append('OSS')\n",
    "    # NCR\n",
    "    models.append(NeighbourhoodCleaningRule())\n",
    "    names.append('NCR')\n",
    "    # NM\n",
    "    models.append(NearMiss())\n",
    "    names.append('NM')\n",
    "    return models, names"
   ]
  },
  {
   "cell_type": "code",
   "execution_count": 37,
   "metadata": {},
   "outputs": [],
   "source": [
    "# define the location of the dataset\n",
    "full_path = 'german.csv'\n",
    "# load the dataset\n",
    "X, y, cat_ix, num_ix = load_dataset(full_path)\n",
    "# define models\n",
    "models, names = get_models()\n",
    "results = []"
   ]
  },
  {
   "cell_type": "code",
   "execution_count": 38,
   "metadata": {},
   "outputs": [
    {
     "name": "stdout",
     "output_type": "stream",
     "text": [
      "Names: ['TL', 'ENN', 'RENN', 'OSS', 'NCR', 'NM']\n",
      "Models: [TomekLinks(), EditedNearestNeighbours(), RepeatedEditedNearestNeighbours(), OneSidedSelection(), NeighbourhoodCleaningRule(), NearMiss()]\n"
     ]
    }
   ],
   "source": [
    "print('Names:', (names))\n",
    "print('Models:', (models))"
   ]
  },
  {
   "cell_type": "markdown",
   "metadata": {},
   "source": [
    "<p>The <a href=\"https://scikit-learn.org/stable/modules/generated/sklearn.pipeline.Pipeline.html\">Pipeline</a> provided by scikit-learn does not know about undersampling algorithms. Therefore, we must use the <a href=\"https://imbalanced-learn.readthedocs.io/en/stable/generated/imblearn.pipeline.Pipeline.html\">Pipeline</a> implementation provided by the <a href=\"https://imbalanced-learn.readthedocs.io/en/stable/\">imbalanced-learn library</a>.</p><p>As in the previous section, the first step of the pipeline will be one hot encoding of categorical variables and normalization of numerical variables, and the final step will be fitting the model. Here, the middle step will be the undersampling technique, correctly applied within the cross-validation evaluation on the training dataset only.</p>"
   ]
  },
  {
   "cell_type": "code",
   "execution_count": 39,
   "metadata": {},
   "outputs": [
    {
     "name": "stdout",
     "output_type": "stream",
     "text": [
      ">TL 0.669 (0.057)\n",
      ">ENN 0.706 (0.048)\n",
      ">RENN 0.714 (0.041)\n",
      ">OSS 0.671 (0.056)\n",
      ">NCR 0.693 (0.052)\n",
      ">NM 0.652 (0.050)\n"
     ]
    }
   ],
   "source": [
    "# evaluate each model\n",
    "for i in range(len(models)):\n",
    "    # define model to evaluate\n",
    "    model = LogisticRegression(solver='liblinear', class_weight='balanced')\n",
    "    # one hot encode categorical, normalize numerical\n",
    "    ct = ColumnTransformer([('c',OneHotEncoder(),cat_ix), ('n',MinMaxScaler(),num_ix)])\n",
    "    # scale, then undersample, then fit model\n",
    "    pipeline = Pipeline(steps=[('t',ct), ('s', models[i]), ('m',model)])\n",
    "    # evaluate the model and store results\n",
    "    scores = evaluate_model(X, y, pipeline)\n",
    "    results.append(scores)\n",
    "    # summarize and store\n",
    "    print('>%s %.3f (%.3f)' % (names[i], mean(scores), std(scores))) "
   ]
  },
  {
   "cell_type": "code",
   "execution_count": 40,
   "metadata": {
    "scrolled": false
   },
   "outputs": [
    {
     "data": {
      "image/png": "[encoded data removed]",
      "text/plain": [
       "<Figure size 1500x800 with 1 Axes>"
      ]
     },
     "metadata": {},
     "output_type": "display_data"
    }
   ],
   "source": [
    "import warnings\n",
    "warnings.filterwarnings(\"ignore\")\n",
    "# plot the results\n",
    "# Set the figure size (width, height) in inches\n",
    "pyplot.figure(figsize=(15, 8))\n",
    "pyplot.boxplot(results, labels=names, showmeans=True)\n",
    "pyplot.show()"
   ]
  },
  {
   "cell_type": "markdown",
   "metadata": {},
   "source": [
    "<p>Running the example evaluates the logistic regression algorithm with five different undersampling techniques.</p><p><strong>Note</strong>: Your <a href=\"https://machinelearningmastery.com/different-results-each-time-in-machine-learning/\">results may vary</a> given the stochastic nature of the algorithm or evaluation procedure, or differences in numerical precision. Consider running the example a few times and compare the average outcome.</p><p>In this case, we can see that three of the six undersampling techniques resulted in an F2-measure that provides an improvement over the baseline of 0.682. Specifically, ENN, RENN and NCR, with repeated edited nearest neighbors resulting in the best performance with an F2-measure of about 0.714.</p>"
   ]
  },
  {
   "cell_type": "markdown",
   "metadata": {},
   "source": [
    "<p>Box and whisker plots are created for each evaluated undersampling technique, showing that they generally have the same spread.</p><p>It is encouraging to see that for the well performing methods, the boxes spread up around 0.8, and the mean and median for all three methods are are around 0.7. This highlights that the distributions are skewing high and are let down on occasion by a few bad evaluations.</p>"
   ]
  },
  {
   "cell_type": "markdown",
   "metadata": {},
   "source": [
    "<p>Next, let’s see how we might use a final model to make predictions on new data.</p>"
   ]
  },
  {
   "cell_type": "markdown",
   "metadata": {},
   "source": [
    "<h3>Further Model Improvements</h3><p>This is a new section that provides a minor departure to the above section. Here, we will test specific models that result in a further lift in F2-measure performance and I will update this section as new models are reported/discovered.</p><h4>Improvement #1: InstanceHardnessThreshold</h4><p>An F2-measure of about <strong>0.727</strong>&nbsp;can be achieved using balanced Logistic Regression with <a href=\"https://imbalanced-learn.readthedocs.io/en/stable/generated/imblearn.under_sampling.InstanceHardnessThreshold.html\">InstanceHardnessThreshold</a> undersampling.</p><p>The complete example is listed below.</p>"
   ]
  },
  {
   "cell_type": "code",
   "execution_count": 41,
   "metadata": {},
   "outputs": [],
   "source": [
    "# improve performance on the imbalanced german credit dataset\n",
    "from numpy import mean\n",
    "from numpy import std\n",
    "import pandas as pd\n",
    "from sklearn.preprocessing import LabelEncoder\n",
    "from sklearn.preprocessing import OneHotEncoder\n",
    "from sklearn.preprocessing import MinMaxScaler\n",
    "from sklearn.compose import ColumnTransformer\n",
    "from sklearn.model_selection import cross_val_score\n",
    "from sklearn.model_selection import RepeatedStratifiedKFold\n",
    "from sklearn.metrics import fbeta_score\n",
    "from sklearn.metrics import make_scorer\n",
    "from sklearn.linear_model import LogisticRegression\n",
    "from imblearn.pipeline import Pipeline\n",
    "from imblearn.under_sampling import InstanceHardnessThreshold"
   ]
  },
  {
   "cell_type": "code",
   "execution_count": 42,
   "metadata": {},
   "outputs": [],
   "source": [
    "# load the dataset\n",
    "def load_dataset(full_path):\n",
    "    # load the dataset as a numpy array\n",
    "    dataframe = pd.read_csv(full_path, header=None)\n",
    "    # split into inputs and outputs\n",
    "    last_ix = len(dataframe.columns) - 1\n",
    "    X, y = dataframe.drop(last_ix, axis=1), dataframe[last_ix]\n",
    "    # select categorical and numerical features\n",
    "    cat_ix = X.select_dtypes(include=['object', 'bool']).columns\n",
    "    num_ix = X.select_dtypes(include=['int64', 'float64']).columns\n",
    "    # label encode the target variable to have the classes 0 and 1\n",
    "    y = LabelEncoder().fit_transform(y)\n",
    "    return X.values, y, cat_ix, num_ix"
   ]
  },
  {
   "cell_type": "code",
   "execution_count": 43,
   "metadata": {},
   "outputs": [],
   "source": [
    "# calculate f2-measure\n",
    "def f2_measure(y_true, y_pred):\n",
    "    return fbeta_score(y_true, y_pred, beta=2)"
   ]
  },
  {
   "cell_type": "code",
   "execution_count": 44,
   "metadata": {},
   "outputs": [],
   "source": [
    "# evaluate a model\n",
    "def evaluate_model(X, y, model):\n",
    "    # define evaluation procedure\n",
    "    cv = RepeatedStratifiedKFold(n_splits=10, n_repeats=3, random_state=1)\n",
    "    # define the model evaluation metric\n",
    "    metric = make_scorer(f2_measure)\n",
    "    # evaluate model\n",
    "    scores = cross_val_score(model, X, y, scoring=metric, cv=cv, n_jobs=-1)\n",
    "    return scores"
   ]
  },
  {
   "cell_type": "code",
   "execution_count": 45,
   "metadata": {},
   "outputs": [],
   "source": [
    "# define the location of the dataset\n",
    "full_path = 'german.csv'\n",
    "# load the dataset\n",
    "X, y, cat_ix, num_ix = load_dataset(full_path)"
   ]
  },
  {
   "cell_type": "code",
   "execution_count": 46,
   "metadata": {},
   "outputs": [
    {
     "name": "stdout",
     "output_type": "stream",
     "text": [
      "0.724 (0.036)\n"
     ]
    }
   ],
   "source": [
    "# define model to evaluate\n",
    "model = LogisticRegression(solver='liblinear', class_weight='balanced')\n",
    "# define the data sampling\n",
    "sampling = InstanceHardnessThreshold()\n",
    "# one hot encode categorical, normalize numerical\n",
    "ct = ColumnTransformer([('c',OneHotEncoder(),cat_ix), ('n',MinMaxScaler(),num_ix)])\n",
    "# scale, then sample, then fit model\n",
    "pipeline = Pipeline(steps=[('t',ct), ('s', sampling), ('m',model)])\n",
    "# evaluate the model and store results\n",
    "scores = evaluate_model(X, y, pipeline)\n",
    "print('%.3f (%.3f)' % (mean(scores), std(scores)))"
   ]
  },
  {
   "cell_type": "markdown",
   "metadata": {},
   "source": [
    "<p>Running the example gives the follow results.</p><p></p><p><strong>Note</strong>: Your <a href=\"https://machinelearningmastery.com/different-results-each-time-in-machine-learning/\">results may vary</a> given the stochastic nature of the algorithm or evaluation procedure, or differences in numerical precision. Consider running the example a few times and compare the average outcome.</p>"
   ]
  },
  {
   "cell_type": "markdown",
   "metadata": {},
   "source": [
    "<h4>Improvement #2: SMOTEENN (SMOTE and Edited Nearest Neighbours.)</h4><p>An F2-measure of about <strong>0.730</strong>&nbsp;can be achieved using LDA with <a href=\"https://imbalanced-learn.readthedocs.io/en/stable/generated/imblearn.combine.SMOTEENN.html\">SMOTEENN</a>, where the ENN parameter is set to an ENN instance with sampling_strategy set to majority.</p><p>The complete example is listed below.</p>"
   ]
  },
  {
   "cell_type": "code",
   "execution_count": 47,
   "metadata": {},
   "outputs": [],
   "source": [
    "# improve performance on the imbalanced german credit dataset\n",
    "from numpy import mean\n",
    "from numpy import std\n",
    "import pandas as pd\n",
    "from sklearn.preprocessing import LabelEncoder\n",
    "from sklearn.preprocessing import OneHotEncoder\n",
    "from sklearn.preprocessing import MinMaxScaler\n",
    "from sklearn.compose import ColumnTransformer\n",
    "from sklearn.model_selection import cross_val_score\n",
    "from sklearn.model_selection import RepeatedStratifiedKFold\n",
    "from sklearn.metrics import fbeta_score\n",
    "from sklearn.metrics import make_scorer\n",
    "from sklearn.discriminant_analysis import LinearDiscriminantAnalysis\n",
    "from imblearn.pipeline import Pipeline\n",
    "from imblearn.combine import SMOTEENN\n",
    "from imblearn.under_sampling import EditedNearestNeighbours"
   ]
  },
  {
   "cell_type": "code",
   "execution_count": 48,
   "metadata": {},
   "outputs": [],
   "source": [
    "# load the dataset\n",
    "def load_dataset(full_path):\n",
    "    # load the dataset as a numpy array\n",
    "    dataframe = pd.read_csv(full_path, header=None)\n",
    "    # split into inputs and outputs\n",
    "    last_ix = len(dataframe.columns) - 1\n",
    "    X, y = dataframe.drop(last_ix, axis=1), dataframe[last_ix]\n",
    "    # select categorical and numerical features\n",
    "    cat_ix = X.select_dtypes(include=['object', 'bool']).columns\n",
    "    num_ix = X.select_dtypes(include=['int64', 'float64']).columns\n",
    "    # label encode the target variable to have the classes 0 and 1\n",
    "    y = LabelEncoder().fit_transform(y)\n",
    "    return X.values, y, cat_ix, num_ix"
   ]
  },
  {
   "cell_type": "code",
   "execution_count": 49,
   "metadata": {},
   "outputs": [],
   "source": [
    "# calculate f2-measure\n",
    "def f2_measure(y_true, y_pred):\n",
    "    return fbeta_score(y_true, y_pred, beta=2)"
   ]
  },
  {
   "cell_type": "code",
   "execution_count": 50,
   "metadata": {},
   "outputs": [],
   "source": [
    "# evaluate a model\n",
    "def evaluate_model(X, y, model):\n",
    "    # define evaluation procedure\n",
    "    cv = RepeatedStratifiedKFold(n_splits=10, n_repeats=3, random_state=1)\n",
    "    # define the model evaluation metric\n",
    "    metric = make_scorer(f2_measure)\n",
    "    # evaluate model\n",
    "    scores = cross_val_score(model, X, y, scoring=metric, cv=cv, n_jobs=-1)\n",
    "    return scores"
   ]
  },
  {
   "cell_type": "code",
   "execution_count": 51,
   "metadata": {},
   "outputs": [],
   "source": [
    "# define the location of the dataset\n",
    "full_path = 'german.csv'\n",
    "# load the dataset\n",
    "X, y, cat_ix, num_ix = load_dataset(full_path)"
   ]
  },
  {
   "cell_type": "code",
   "execution_count": 52,
   "metadata": {},
   "outputs": [
    {
     "name": "stdout",
     "output_type": "stream",
     "text": [
      "0.730 (0.039)\n"
     ]
    }
   ],
   "source": [
    "# define model to evaluate\n",
    "model = LinearDiscriminantAnalysis()\n",
    "# define the data sampling\n",
    "sampling = SMOTEENN(enn=EditedNearestNeighbours(sampling_strategy='majority'))\n",
    "# one hot encode categorical, normalize numerical\n",
    "ct = ColumnTransformer([('c',OneHotEncoder(),cat_ix), ('n',MinMaxScaler(),num_ix)])\n",
    "# scale, then sample, then fit model\n",
    "pipeline = Pipeline(steps=[('t',ct), ('s', sampling), ('m',model)])\n",
    "# evaluate the model and store results\n",
    "scores = evaluate_model(X, y, pipeline)\n",
    "print('%.3f (%.3f)' % (mean(scores), std(scores)))"
   ]
  },
  {
   "cell_type": "code",
   "execution_count": 53,
   "metadata": {},
   "outputs": [
    {
     "name": "stdout",
     "output_type": "stream",
     "text": [
      "0.728 (0.044)\n"
     ]
    }
   ],
   "source": [
    "# define model to evaluate\n",
    "model = LinearDiscriminantAnalysis()\n",
    "# wrap the model\n",
    "model = CalibratedClassifierCV(model, method='sigmoid', cv=3)\n",
    "# define the data sampling\n",
    "sampling = SMOTEENN(enn=EditedNearestNeighbours(sampling_strategy='majority'))\n",
    "# one hot encode categorical, normalize numerical\n",
    "ct = ColumnTransformer([('c',OneHotEncoder(),cat_ix), ('n',MinMaxScaler(),num_ix)])\n",
    "# scale, then sample, then fit model\n",
    "pipeline = Pipeline(steps=[('t',ct), ('s', sampling), ('m',model)])\n",
    "# evaluate the model and store results\n",
    "scores = evaluate_model(X, y, pipeline)\n",
    "print('%.3f (%.3f)' % (mean(scores), std(scores)))"
   ]
  },
  {
   "cell_type": "markdown",
   "metadata": {},
   "source": [
    "<p>Running the example gives the follow results.</p><p></p><p><strong>Note</strong>: Your <a href=\"https://machinelearningmastery.com/different-results-each-time-in-machine-learning/\">results may vary</a> given the stochastic nature of the algorithm or evaluation procedure, or differences in numerical precision. Consider running the example a few times and compare the average outcome.</p>"
   ]
  },
  {
   "cell_type": "markdown",
   "metadata": {},
   "source": [
    "<h4>Improvement #3: SMOTEENN with StandardScaler and RidgeClassifier</h4><p>An F2-measure of about <strong>0.737</strong> can be achieved with further improvements to the SMOTEENN using a RidgeClassifier instead of LDA and using a StandardScaler for the numeric inputs instead of a MinMaxScaler.</p><p>The complete example is listed below.</p>"
   ]
  },
  {
   "cell_type": "code",
   "execution_count": 54,
   "metadata": {},
   "outputs": [],
   "source": [
    "# improve performance on the imbalanced german credit dataset\n",
    "from numpy import mean\n",
    "from numpy import std\n",
    "import pandas as pd\n",
    "from sklearn.preprocessing import LabelEncoder\n",
    "from sklearn.preprocessing import OneHotEncoder\n",
    "from sklearn.preprocessing import StandardScaler\n",
    "from sklearn.compose import ColumnTransformer\n",
    "from sklearn.model_selection import cross_val_score\n",
    "from sklearn.model_selection import RepeatedStratifiedKFold\n",
    "from sklearn.metrics import fbeta_score\n",
    "from sklearn.metrics import make_scorer\n",
    "from sklearn.linear_model import RidgeClassifier\n",
    "from imblearn.pipeline import Pipeline\n",
    "from imblearn.combine import SMOTEENN\n",
    "from imblearn.under_sampling import EditedNearestNeighbours"
   ]
  },
  {
   "cell_type": "code",
   "execution_count": 55,
   "metadata": {},
   "outputs": [],
   "source": [
    "# load the dataset\n",
    "def load_dataset(full_path):\n",
    "    # load the dataset as a numpy array\n",
    "    dataframe = pd.read_csv(full_path, header=None)\n",
    "    # split into inputs and outputs\n",
    "    last_ix = len(dataframe.columns) - 1\n",
    "    X, y = dataframe.drop(last_ix, axis=1), dataframe[last_ix]\n",
    "    # select categorical and numerical features\n",
    "    cat_ix = X.select_dtypes(include=['object', 'bool']).columns\n",
    "    num_ix = X.select_dtypes(include=['int64', 'float64']).columns\n",
    "    # label encode the target variable to have the classes 0 and 1\n",
    "    y = LabelEncoder().fit_transform(y)\n",
    "    return X.values, y, cat_ix, num_ix"
   ]
  },
  {
   "cell_type": "code",
   "execution_count": 56,
   "metadata": {},
   "outputs": [],
   "source": [
    "# calculate f2-measure\n",
    "def f2_measure(y_true, y_pred):\n",
    "    return fbeta_score(y_true, y_pred, beta=2)"
   ]
  },
  {
   "cell_type": "code",
   "execution_count": 57,
   "metadata": {},
   "outputs": [],
   "source": [
    "# evaluate a model\n",
    "def evaluate_model(X, y, model):\n",
    "    # define evaluation procedure\n",
    "    cv = RepeatedStratifiedKFold(n_splits=10, n_repeats=3, random_state=1)\n",
    "    # define the model evaluation metric\n",
    "    metric = make_scorer(f2_measure)\n",
    "    # evaluate model\n",
    "    scores = cross_val_score(model, X, y, scoring=metric, cv=cv, n_jobs=-1)\n",
    "    return scores"
   ]
  },
  {
   "cell_type": "code",
   "execution_count": 58,
   "metadata": {},
   "outputs": [],
   "source": [
    "# define the location of the dataset\n",
    "full_path = 'german.csv'\n",
    "# load the dataset\n",
    "X, y, cat_ix, num_ix = load_dataset(full_path)"
   ]
  },
  {
   "cell_type": "code",
   "execution_count": 59,
   "metadata": {},
   "outputs": [
    {
     "name": "stdout",
     "output_type": "stream",
     "text": [
      "0.741 (0.031)\n"
     ]
    }
   ],
   "source": [
    "# define model to evaluate\n",
    "model = RidgeClassifier()\n",
    "# define the data sampling\n",
    "sampling = SMOTEENN(enn=EditedNearestNeighbours(sampling_strategy='majority'))\n",
    "# one hot encode categorical, normalize numerical\n",
    "ct = ColumnTransformer([('c',OneHotEncoder(),cat_ix), ('n',StandardScaler(),num_ix)])\n",
    "# scale, then sample, then fit model\n",
    "pipeline = Pipeline(steps=[('t',ct), ('s', sampling), ('m',model)])\n",
    "# evaluate the model and store results\n",
    "scores = evaluate_model(X, y, pipeline)\n",
    "print('%.3f (%.3f)' % (mean(scores), std(scores)))"
   ]
  },
  {
   "cell_type": "code",
   "execution_count": 60,
   "metadata": {},
   "outputs": [
    {
     "name": "stdout",
     "output_type": "stream",
     "text": [
      "0.732 (0.033)\n"
     ]
    }
   ],
   "source": [
    "# define model to evaluate\n",
    "model = RidgeClassifier(alpha = 1.0, class_weight='balanced')\n",
    "# wrap the model\n",
    "model = CalibratedClassifierCV(model, method='sigmoid', cv=3)\n",
    "# define the data sampling\n",
    "sampling = SMOTEENN(enn=EditedNearestNeighbours(sampling_strategy='majority'))\n",
    "# one hot encode categorical, normalize numerical\n",
    "ct = ColumnTransformer([('c',OneHotEncoder(),cat_ix), ('n',StandardScaler(),num_ix)])\n",
    "# scale, then sample, then fit model\n",
    "pipeline = Pipeline(steps=[('t',ct), ('s', sampling), ('m',model)])\n",
    "# evaluate the model and store results\n",
    "scores = evaluate_model(X, y, pipeline)\n",
    "print('%.3f (%.3f)' % (mean(scores), std(scores)))"
   ]
  },
  {
   "cell_type": "markdown",
   "metadata": {},
   "source": [
    "<p>Running the example gives the above results.</p><p></p><p><strong>Note</strong>: Your <a href=\"https://machinelearningmastery.com/different-results-each-time-in-machine-learning/\">results may vary</a> given the stochastic nature of the algorithm or evaluation procedure, or differences in numerical precision. Consider running the example a few times and compare the average outcome.</p>"
   ]
  },
  {
   "cell_type": "markdown",
   "metadata": {},
   "source": [
    "<h2>Make Prediction on New Data</h2><p>Given the variance in results, a selection of any of the undersampling methods is probably sufficient. In this case, we will select logistic regression with Repeated ENN.</p><p>This model had an F2-measure of about about 0.714 on our test harness.</p><p>We will use this as our final model and use it to make predictions on new data.</p>"
   ]
  },
  {
   "cell_type": "code",
   "execution_count": 61,
   "metadata": {},
   "outputs": [],
   "source": [
    "# fit a model and make predictions for the german credit dataset\n",
    "import pandas as pd\n",
    "from sklearn.preprocessing import LabelEncoder\n",
    "from sklearn.preprocessing import OneHotEncoder\n",
    "from sklearn.preprocessing import MinMaxScaler\n",
    "from sklearn.compose import ColumnTransformer\n",
    "from sklearn.linear_model import LogisticRegression\n",
    "from imblearn.pipeline import Pipeline\n",
    "from imblearn.under_sampling import RepeatedEditedNearestNeighbours"
   ]
  },
  {
   "cell_type": "code",
   "execution_count": 62,
   "metadata": {},
   "outputs": [],
   "source": [
    "# load the dataset\n",
    "def load_dataset(full_path):\n",
    "    # load the dataset as a numpy array\n",
    "    dataframe = pd.read_csv(full_path, header=None)\n",
    "    # split into inputs and outputs\n",
    "    last_ix = len(dataframe.columns) - 1\n",
    "    X, y = dataframe.drop(last_ix, axis=1), dataframe[last_ix]\n",
    "    # select categorical and numerical features\n",
    "    cat_ix = X.select_dtypes(include=['object', 'bool']).columns\n",
    "    num_ix = X.select_dtypes(include=['int64', 'float64']).columns\n",
    "    # label encode the target variable to have the classes 0 and 1\n",
    "    y = LabelEncoder().fit_transform(y)\n",
    "    return X.values, y, cat_ix, num_ix"
   ]
  },
  {
   "cell_type": "code",
   "execution_count": 63,
   "metadata": {},
   "outputs": [],
   "source": [
    "# define the location of the dataset\n",
    "full_path = 'german.csv'\n",
    "# load the dataset\n",
    "X, y, cat_ix, num_ix = load_dataset(full_path)"
   ]
  },
  {
   "cell_type": "markdown",
   "metadata": {},
   "source": [
    "<p>We define the model as a pipeline.</p>"
   ]
  },
  {
   "cell_type": "code",
   "execution_count": 64,
   "metadata": {},
   "outputs": [
    {
     "data": {
      "text/html": [
       "<style>#sk-container-id-1 {color: black;background-color: white;}#sk-container-id-1 pre{padding: 0;}#sk-container-id-1 div.sk-toggleable {background-color: white;}#sk-container-id-1 label.sk-toggleable__label {cursor: pointer;display: block;width: 100%;margin-bottom: 0;padding: 0.3em;box-sizing: border-box;text-align: center;}#sk-container-id-1 label.sk-toggleable__label-arrow:before {content: \"▸\";float: left;margin-right: 0.25em;color: #696969;}#sk-container-id-1 label.sk-toggleable__label-arrow:hover:before {color: black;}#sk-container-id-1 div.sk-estimator:hover label.sk-toggleable__label-arrow:before {color: black;}#sk-container-id-1 div.sk-toggleable__content {max-height: 0;max-width: 0;overflow: hidden;text-align: left;background-color: #f0f8ff;}#sk-container-id-1 div.sk-toggleable__content pre {margin: 0.2em;color: black;border-radius: 0.25em;background-color: #f0f8ff;}#sk-container-id-1 input.sk-toggleable__control:checked~div.sk-toggleable__content {max-height: 200px;max-width: 100%;overflow: auto;}#sk-container-id-1 input.sk-toggleable__control:checked~label.sk-toggleable__label-arrow:before {content: \"▾\";}#sk-container-id-1 div.sk-estimator input.sk-toggleable__control:checked~label.sk-toggleable__label {background-color: #d4ebff;}#sk-container-id-1 div.sk-label input.sk-toggleable__control:checked~label.sk-toggleable__label {background-color: #d4ebff;}#sk-container-id-1 input.sk-hidden--visually {border: 0;clip: rect(1px 1px 1px 1px);clip: rect(1px, 1px, 1px, 1px);height: 1px;margin: -1px;overflow: hidden;padding: 0;position: absolute;width: 1px;}#sk-container-id-1 div.sk-estimator {font-family: monospace;background-color: #f0f8ff;border: 1px dotted black;border-radius: 0.25em;box-sizing: border-box;margin-bottom: 0.5em;}#sk-container-id-1 div.sk-estimator:hover {background-color: #d4ebff;}#sk-container-id-1 div.sk-parallel-item::after {content: \"\";width: 100%;border-bottom: 1px solid gray;flex-grow: 1;}#sk-container-id-1 div.sk-label:hover label.sk-toggleable__label {background-color: #d4ebff;}#sk-container-id-1 div.sk-serial::before {content: \"\";position: absolute;border-left: 1px solid gray;box-sizing: border-box;top: 0;bottom: 0;left: 50%;z-index: 0;}#sk-container-id-1 div.sk-serial {display: flex;flex-direction: column;align-items: center;background-color: white;padding-right: 0.2em;padding-left: 0.2em;position: relative;}#sk-container-id-1 div.sk-item {position: relative;z-index: 1;}#sk-container-id-1 div.sk-parallel {display: flex;align-items: stretch;justify-content: center;background-color: white;position: relative;}#sk-container-id-1 div.sk-item::before, #sk-container-id-1 div.sk-parallel-item::before {content: \"\";position: absolute;border-left: 1px solid gray;box-sizing: border-box;top: 0;bottom: 0;left: 50%;z-index: -1;}#sk-container-id-1 div.sk-parallel-item {display: flex;flex-direction: column;z-index: 1;position: relative;background-color: white;}#sk-container-id-1 div.sk-parallel-item:first-child::after {align-self: flex-end;width: 50%;}#sk-container-id-1 div.sk-parallel-item:last-child::after {align-self: flex-start;width: 50%;}#sk-container-id-1 div.sk-parallel-item:only-child::after {width: 0;}#sk-container-id-1 div.sk-dashed-wrapped {border: 1px dashed gray;margin: 0 0.4em 0.5em 0.4em;box-sizing: border-box;padding-bottom: 0.4em;background-color: white;}#sk-container-id-1 div.sk-label label {font-family: monospace;font-weight: bold;display: inline-block;line-height: 1.2em;}#sk-container-id-1 div.sk-label-container {text-align: center;}#sk-container-id-1 div.sk-container {/* jupyter's `normalize.less` sets `[hidden] { display: none; }` but bootstrap.min.css set `[hidden] { display: none !important; }` so we also need the `!important` here to be able to override the default hidden behavior on the sphinx rendered scikit-learn.org. See: https://github.com/scikit-learn/scikit-learn/issues/21755 */display: inline-block !important;position: relative;}#sk-container-id-1 div.sk-text-repr-fallback {display: none;}</style><div id=\"sk-container-id-1\" class=\"sk-top-container\"><div class=\"sk-text-repr-fallback\"><pre>Pipeline(steps=[(&#x27;t&#x27;,\n",
       "                 ColumnTransformer(transformers=[(&#x27;c&#x27;, OneHotEncoder(),\n",
       "                                                  Int64Index([0, 2, 3, 5, 6, 8, 9, 11, 13, 14, 16, 18, 19], dtype=&#x27;int64&#x27;)),\n",
       "                                                 (&#x27;n&#x27;, MinMaxScaler(),\n",
       "                                                  Int64Index([1, 4, 7, 10, 12, 15, 17], dtype=&#x27;int64&#x27;))])),\n",
       "                (&#x27;s&#x27;, RepeatedEditedNearestNeighbours()),\n",
       "                (&#x27;m&#x27;,\n",
       "                 LogisticRegression(class_weight=&#x27;balanced&#x27;,\n",
       "                                    solver=&#x27;liblinear&#x27;))])</pre><b>In a Jupyter environment, please rerun this cell to show the HTML representation or trust the notebook. <br />On GitHub, the HTML representation is unable to render, please try loading this page with nbviewer.org.</b></div><div class=\"sk-container\" hidden><div class=\"sk-item sk-dashed-wrapped\"><div class=\"sk-label-container\"><div class=\"sk-label sk-toggleable\"><input class=\"sk-toggleable__control sk-hidden--visually\" id=\"sk-estimator-id-1\" type=\"checkbox\" ><label for=\"sk-estimator-id-1\" class=\"sk-toggleable__label sk-toggleable__label-arrow\">Pipeline</label><div class=\"sk-toggleable__content\"><pre>Pipeline(steps=[(&#x27;t&#x27;,\n",
       "                 ColumnTransformer(transformers=[(&#x27;c&#x27;, OneHotEncoder(),\n",
       "                                                  Int64Index([0, 2, 3, 5, 6, 8, 9, 11, 13, 14, 16, 18, 19], dtype=&#x27;int64&#x27;)),\n",
       "                                                 (&#x27;n&#x27;, MinMaxScaler(),\n",
       "                                                  Int64Index([1, 4, 7, 10, 12, 15, 17], dtype=&#x27;int64&#x27;))])),\n",
       "                (&#x27;s&#x27;, RepeatedEditedNearestNeighbours()),\n",
       "                (&#x27;m&#x27;,\n",
       "                 LogisticRegression(class_weight=&#x27;balanced&#x27;,\n",
       "                                    solver=&#x27;liblinear&#x27;))])</pre></div></div></div><div class=\"sk-serial\"><div class=\"sk-item sk-dashed-wrapped\"><div class=\"sk-label-container\"><div class=\"sk-label sk-toggleable\"><input class=\"sk-toggleable__control sk-hidden--visually\" id=\"sk-estimator-id-2\" type=\"checkbox\" ><label for=\"sk-estimator-id-2\" class=\"sk-toggleable__label sk-toggleable__label-arrow\">t: ColumnTransformer</label><div class=\"sk-toggleable__content\"><pre>ColumnTransformer(transformers=[(&#x27;c&#x27;, OneHotEncoder(),\n",
       "                                 Int64Index([0, 2, 3, 5, 6, 8, 9, 11, 13, 14, 16, 18, 19], dtype=&#x27;int64&#x27;)),\n",
       "                                (&#x27;n&#x27;, MinMaxScaler(),\n",
       "                                 Int64Index([1, 4, 7, 10, 12, 15, 17], dtype=&#x27;int64&#x27;))])</pre></div></div></div><div class=\"sk-parallel\"><div class=\"sk-parallel-item\"><div class=\"sk-item\"><div class=\"sk-label-container\"><div class=\"sk-label sk-toggleable\"><input class=\"sk-toggleable__control sk-hidden--visually\" id=\"sk-estimator-id-3\" type=\"checkbox\" ><label for=\"sk-estimator-id-3\" class=\"sk-toggleable__label sk-toggleable__label-arrow\">c</label><div class=\"sk-toggleable__content\"><pre>Int64Index([0, 2, 3, 5, 6, 8, 9, 11, 13, 14, 16, 18, 19], dtype=&#x27;int64&#x27;)</pre></div></div></div><div class=\"sk-serial\"><div class=\"sk-item\"><div class=\"sk-estimator sk-toggleable\"><input class=\"sk-toggleable__control sk-hidden--visually\" id=\"sk-estimator-id-4\" type=\"checkbox\" ><label for=\"sk-estimator-id-4\" class=\"sk-toggleable__label sk-toggleable__label-arrow\">OneHotEncoder</label><div class=\"sk-toggleable__content\"><pre>OneHotEncoder()</pre></div></div></div></div></div></div><div class=\"sk-parallel-item\"><div class=\"sk-item\"><div class=\"sk-label-container\"><div class=\"sk-label sk-toggleable\"><input class=\"sk-toggleable__control sk-hidden--visually\" id=\"sk-estimator-id-5\" type=\"checkbox\" ><label for=\"sk-estimator-id-5\" class=\"sk-toggleable__label sk-toggleable__label-arrow\">n</label><div class=\"sk-toggleable__content\"><pre>Int64Index([1, 4, 7, 10, 12, 15, 17], dtype=&#x27;int64&#x27;)</pre></div></div></div><div class=\"sk-serial\"><div class=\"sk-item\"><div class=\"sk-estimator sk-toggleable\"><input class=\"sk-toggleable__control sk-hidden--visually\" id=\"sk-estimator-id-6\" type=\"checkbox\" ><label for=\"sk-estimator-id-6\" class=\"sk-toggleable__label sk-toggleable__label-arrow\">MinMaxScaler</label><div class=\"sk-toggleable__content\"><pre>MinMaxScaler()</pre></div></div></div></div></div></div></div></div><div class=\"sk-item\"><div class=\"sk-estimator sk-toggleable\"><input class=\"sk-toggleable__control sk-hidden--visually\" id=\"sk-estimator-id-7\" type=\"checkbox\" ><label for=\"sk-estimator-id-7\" class=\"sk-toggleable__label sk-toggleable__label-arrow\">RepeatedEditedNearestNeighbours</label><div class=\"sk-toggleable__content\"><pre>RepeatedEditedNearestNeighbours()</pre></div></div></div><div class=\"sk-item\"><div class=\"sk-estimator sk-toggleable\"><input class=\"sk-toggleable__control sk-hidden--visually\" id=\"sk-estimator-id-8\" type=\"checkbox\" ><label for=\"sk-estimator-id-8\" class=\"sk-toggleable__label sk-toggleable__label-arrow\">LogisticRegression</label><div class=\"sk-toggleable__content\"><pre>LogisticRegression(class_weight=&#x27;balanced&#x27;, solver=&#x27;liblinear&#x27;)</pre></div></div></div></div></div></div></div>"
      ],
      "text/plain": [
       "Pipeline(steps=[('t',\n",
       "                 ColumnTransformer(transformers=[('c', OneHotEncoder(),\n",
       "                                                  Int64Index([0, 2, 3, 5, 6, 8, 9, 11, 13, 14, 16, 18, 19], dtype='int64')),\n",
       "                                                 ('n', MinMaxScaler(),\n",
       "                                                  Int64Index([1, 4, 7, 10, 12, 15, 17], dtype='int64'))])),\n",
       "                ('s', RepeatedEditedNearestNeighbours()),\n",
       "                ('m',\n",
       "                 LogisticRegression(class_weight='balanced',\n",
       "                                    solver='liblinear'))])"
      ]
     },
     "execution_count": 64,
     "metadata": {},
     "output_type": "execute_result"
    }
   ],
   "source": [
    "# define model to evaluate\n",
    "model = LogisticRegression(solver='liblinear', class_weight='balanced')\n",
    "# one hot encode categorical, normalize numerical\n",
    "ct = ColumnTransformer([('c',OneHotEncoder(),cat_ix), ('n',MinMaxScaler(),num_ix)])\n",
    "# scale, then undersample, then fit model\n",
    "pipeline = Pipeline(steps=[('t',ct), ('s', RepeatedEditedNearestNeighbours()), ('m',model)])\n",
    "# fit the model\n",
    "pipeline.fit(X, y)"
   ]
  },
  {
   "cell_type": "markdown",
   "metadata": {},
   "source": [
    "<p>Once fit, we can use it to make predictions for new data by calling the <em>predict()</em> function. This will return the class label of 0 for “<em>good customer</em>”, or 1 for “<em>bad customer</em>”.</p><p>Importantly, we must use the <em>ColumnTransformer</em> that was fit on the training dataset in the <em>Pipeline</em> to correctly prepare new data using the same transforms.</p>"
   ]
  },
  {
   "cell_type": "code",
   "execution_count": 65,
   "metadata": {},
   "outputs": [
    {
     "name": "stdout",
     "output_type": "stream",
     "text": [
      "Good Customers:\n",
      ">Predicted=0 (expected 0)\n",
      "Bad Customers:\n",
      ">Predicted=1 (expected 1)\n"
     ]
    }
   ],
   "source": [
    "# evaluate on some good customers cases (known class 0)\n",
    "print('Good Customers:')\n",
    "data = [['A11', 6, 'A34', 'A43', 1169, 'A65', 'A75', 4, 'A93', 'A101', 4, 'A121', 67, 'A143', 'A152', 2, 'A173', 1, 'A192', 'A201']]\n",
    "for row in data:\n",
    "    # make prediction\n",
    "    yhat = pipeline.predict([row])\n",
    "    # get the label\n",
    "    label = yhat[0]#predictions\n",
    "    # summarize\n",
    "    print('>Predicted=%d (expected 0)' % (label))\n",
    "# evaluate on some bad customers (known class 1)\n",
    "print('Bad Customers:')\n",
    "data = [['A13', 18, 'A32', 'A43', 2100, 'A61', 'A73', 4, 'A93', 'A102', 2, 'A121', 37, 'A142', 'A152', 1, 'A173', 1, 'A191', 'A201']]\n",
    "for row in data:\n",
    "    # make prediction\n",
    "    yhat = pipeline.predict([row])\n",
    "    # get the label\n",
    "    label = yhat[0]\n",
    "    # summarize\n",
    "    print('>Predicted=%d (expected 1)' % (label))"
   ]
  },
  {
   "cell_type": "code",
   "execution_count": 66,
   "metadata": {},
   "outputs": [
    {
     "name": "stdout",
     "output_type": "stream",
     "text": [
      "Good Customers:\n",
      ">Predicted=0 (expected 0)\n",
      ">Predicted=0 (expected 0)\n",
      ">Predicted=1 (expected 0)\n",
      "Bad Customers:\n",
      ">Predicted=1 (expected 1)\n",
      ">Predicted=1 (expected 1)\n",
      ">Predicted=1 (expected 1)\n"
     ]
    }
   ],
   "source": [
    "# evaluate on some good customers cases (known class 0)\n",
    "print('Good Customers:')\n",
    "data = [['A11', 6, 'A34', 'A43', 1169, 'A65', 'A75', 4, 'A93', 'A101', 4, 'A121', 67, 'A143', 'A152', 2, 'A173', 1, 'A192', 'A201'],\n",
    "    ['A14', 12, 'A34', 'A46', 2096, 'A61', 'A74', 2, 'A93', 'A101', 3, 'A121', 49, 'A143', 'A152', 1, 'A172', 2, 'A191', 'A201'],\n",
    "    ['A11', 42, 'A32', 'A42', 7882, 'A61', 'A74', 2, 'A93', 'A103', 4, 'A122', 45, 'A143', 'A153', 1, 'A173', 2, 'A191', 'A201']]\n",
    "for row in data:\n",
    "    # make prediction\n",
    "    yhat = pipeline.predict([row])\n",
    "    # get the label\n",
    "    label = yhat[0]\n",
    "    # summarize\n",
    "    print('>Predicted=%d (expected 0)' % (label))\n",
    "# evaluate on some bad customers (known class 1)\n",
    "print('Bad Customers:')\n",
    "data = [['A13', 18, 'A32', 'A43', 2100, 'A61', 'A73', 4, 'A93', 'A102', 2, 'A121', 37, 'A142', 'A152', 1, 'A173', 1, 'A191', 'A201'],\n",
    "    ['A11', 24, 'A33', 'A40', 4870, 'A61', 'A73', 3, 'A93', 'A101', 4, 'A124', 53, 'A143', 'A153', 2, 'A173', 2, 'A191', 'A201'],\n",
    "    ['A11', 24, 'A32', 'A43', 1282, 'A62', 'A73', 4, 'A92', 'A101', 2, 'A123', 32, 'A143', 'A152', 1, 'A172', 1, 'A191', 'A201']]\n",
    "for row in data:\n",
    "    # make prediction\n",
    "    yhat = pipeline.predict([row])\n",
    "    # get the label\n",
    "    label = yhat[0]\n",
    "    # summarize\n",
    "    print('>Predicted=%d (expected 1)' % (label))"
   ]
  },
  {
   "cell_type": "code",
   "execution_count": 67,
   "metadata": {
    "scrolled": false
   },
   "outputs": [
    {
     "name": "stdout",
     "output_type": "stream",
     "text": [
      "> Predicted=0 (expected=0)\n",
      "> Predicted=1 (expected=1)\n",
      "> Predicted=0 (expected=0)\n",
      "> Predicted=1 (expected=0)\n",
      "> Predicted=1 (expected=1)\n",
      "> Predicted=1 (expected=0)\n",
      "> Predicted=0 (expected=0)\n",
      "> Predicted=1 (expected=0)\n",
      "> Predicted=0 (expected=0)\n",
      "> Predicted=1 (expected=1)\n",
      "> Predicted=1 (expected=1)\n",
      "> Predicted=1 (expected=1)\n",
      "> Predicted=1 (expected=0)\n",
      "> Predicted=1 (expected=1)\n",
      "> Predicted=1 (expected=0)\n",
      "> Predicted=1 (expected=1)\n",
      "> Predicted=0 (expected=0)\n",
      "> Predicted=1 (expected=0)\n",
      "> Predicted=1 (expected=1)\n",
      "> Predicted=0 (expected=0)\n",
      "> Predicted=0 (expected=0)\n",
      "> Predicted=0 (expected=0)\n",
      "> Predicted=0 (expected=0)\n",
      "> Predicted=0 (expected=0)\n",
      "> Predicted=0 (expected=0)\n",
      "> Predicted=1 (expected=0)\n",
      "> Predicted=0 (expected=0)\n",
      "> Predicted=0 (expected=0)\n",
      "> Predicted=0 (expected=0)\n",
      "> Predicted=1 (expected=1)\n",
      "> Predicted=1 (expected=0)\n",
      "> Predicted=1 (expected=0)\n",
      "> Predicted=1 (expected=0)\n",
      "> Predicted=0 (expected=0)\n",
      "> Predicted=1 (expected=0)\n",
      "> Predicted=1 (expected=1)\n",
      "> Predicted=1 (expected=0)\n",
      "> Predicted=1 (expected=1)\n",
      "> Predicted=1 (expected=0)\n",
      "> Predicted=0 (expected=0)\n",
      "> Predicted=1 (expected=0)\n",
      "> Predicted=1 (expected=0)\n",
      "> Predicted=1 (expected=0)\n",
      "> Predicted=0 (expected=0)\n",
      "> Predicted=1 (expected=1)\n",
      "> Predicted=0 (expected=0)\n",
      "> Predicted=0 (expected=0)\n",
      "> Predicted=1 (expected=0)\n",
      "> Predicted=0 (expected=0)\n",
      "> Predicted=0 (expected=0)\n",
      "Number of cases where expected is 1 and predicted is 0: 0\n"
     ]
    }
   ],
   "source": [
    "last_ix = len(dataframe.columns) - 1\n",
    "data = dataframe.drop(last_ix, axis=1).values[:50]\n",
    "y = dataframe[last_ix]\n",
    "y = LabelEncoder().fit_transform(y)\n",
    "\n",
    "# Counter for cases where expected is 1 and predicted is 0\n",
    "counter = 0\n",
    "# Iterate through the data and make predictions,i for labels and row is for features\n",
    "for i, row in enumerate(data):\n",
    "    # Make a prediction\n",
    "    yhat = pipeline.predict([row])\n",
    "    \n",
    "    # Get the predicted and actual labels\n",
    "    predicted_label = yhat[0]\n",
    "    actual_label = y[i]\n",
    "    \n",
    "    # Print the results\n",
    "    print(f'> Predicted={predicted_label} (expected={actual_label})')\n",
    "    \n",
    "    # Check if expected is 1 and predicted is 0\n",
    "    if actual_label == 1 and predicted_label == 0:\n",
    "        counter += 1\n",
    "\n",
    "print(f'Number of cases where expected is 1 and predicted is 0: {counter}')\n"
   ]
  },
  {
   "cell_type": "code",
   "execution_count": 68,
   "metadata": {
    "scrolled": true
   },
   "outputs": [
    {
     "name": "stdout",
     "output_type": "stream",
     "text": [
      "[[415 285]\n",
      " [ 36 264]]\n",
      "False Negatives: 36\n"
     ]
    }
   ],
   "source": [
    "from sklearn import metrics, preprocessing\n",
    "yhat = pipeline.predict(X)\n",
    "cm = metrics.confusion_matrix(y, yhat)\n",
    "print(cm)\n",
    "# Extract and print the False Negative count\n",
    "false_negatives = cm[1, 0]\n",
    "print(f\"False Negatives: {false_negatives}\")"
   ]
  },
  {
   "cell_type": "markdown",
   "metadata": {},
   "source": [
    "### German dataset cost matrix\n",
    "\n",
    "~~~~\n",
    "                               Actual \"+\"(0)       Actual  \"-\"(1)\n",
    "\n",
    "      Model says: \"+\"(0)            0          |        1\n",
    "                             -------------------------------------\n",
    "      Model says: \"-\"(1)            5          |        0\n",
    "  \n",
    "~~~~\n",
    "\n",
    "Misclassification cost of this model => (5 x 36) + (285 x 1) = 465"
   ]
  },
  {
   "cell_type": "markdown",
   "metadata": {},
   "source": [
    "### Model Serialization\n",
    "Serialization of a machine learning (ML) model refers to the process of converting the model's internal state and structure into a format that can be easily stored and later reconstructed. In other words, serialization allows you to save a trained ML model to a file so that you can load and use it again in the future without having to retrain it from scratch. This is particularly useful for sharing, deploying, or archiving trained models.\n",
    "\n",
    "When a model is serialized, its parameters, coefficients, hyperparameters, and any other relevant information are saved in a structured format that preserves the model's structure and learned patterns. The serialization process ensures that the model can be accurately reconstructed when it's deserialized (loaded) later.\n",
    "\n",
    "Serialization is especially important when you want to:\n",
    "\n",
    "1. **Share Models**: You can share your trained model with others, allowing them to use it without needing to access your original training data and code.\n",
    "\n",
    "2. **Deploy Models**: When deploying ML models in production environments, you can serialize the trained model and load it on demand for making predictions.\n",
    "\n",
    "3. **Archive Models**: Saving serialized models ensures that you can replicate results or continue using specific models even if the original training data or code is no longer available.\n",
    "\n",
    "4. **Caching**: Serializing models can be useful for caching predictions in scenarios where making predictions is computationally expensive. You can save predictions alongside their inputs and reload the model to avoid repeated computations.\n",
    "\n",
    "Common serialization formats include:\n",
    "\n",
    "1. **Pickle (Python)**: Python's pickle module is a built-in way to serialize Python objects, including ML models. However, it's important to note that pickle might not be the best choice for large models or for sharing models across different Python versions.\n",
    "\n",
    "2. **Joblib**: The joblib library, often used in conjunction with scikit-learn, is optimized for efficiently saving and loading large numpy arrays, which are common in machine learning models.\n",
    "\n",
    "3. **ONNX (Open Neural Network Exchange)**: ONNX is an open format for representing machine learning models. It enables interoperability between different frameworks and platforms.\n",
    "\n",
    "4. **HDF5 (Hierarchical Data Format)**: HDF5 is a versatile format that can store complex datasets, including machine learning models.\n",
    "\n",
    "Serialization is a crucial part of the machine learning workflow, enabling the transfer of models from development to production and facilitating collaboration and reproducibility."
   ]
  },
  {
   "cell_type": "markdown",
   "metadata": {},
   "source": [
    "### Saving final model to disk using Pickle\n",
    "Import **pickle** module, which provides functionality for serializing (pickling) and deserializing (unpickling) Python objects.\n",
    "### Serializing and Saving the Model to Disk:\n",
    "We use the **pickle.dump()** function to serialize the **model** object and save it to a file named **LR_RENN.pkl**. Here's what each argument means:\n",
    "\n",
    "- **model**: The object you want to serialize and save.\n",
    "- **open('LR_RENN.pkl', 'wb')**: Opens the file **LR_RENN.pkl** in binary write mode **('wb')** for writing serialized data into it.\n",
    "\n",
    "### Saving the Pipeline to Disk:\n",
    "Similar to the model, the **pipeline** object is also serialized using **pickle.dump()** and saved to a file named **pipeline.pkl**.\n",
    "\n",
    "This is how to save a trained LogisticRegression model and/or a pipeline containing data preprocessing steps and the model to separate files using the pickle module. This allows you to later load and reuse the trained model and pipeline without having to retrain them. It's important to note that while pickle is a convenient way to save models, it may not always be the most secure or efficient method, particularly in situations where compatibility between different Python versions or security are concerns."
   ]
  },
  {
   "cell_type": "code",
   "execution_count": 69,
   "metadata": {},
   "outputs": [],
   "source": [
    "# Saving Model to disk\n",
    "import pickle\n",
    "# Creating and Configuring the Model\n",
    "model = LogisticRegression(solver='liblinear', class_weight='balanced')\n",
    "# Saving Model to Disk using pickle\n",
    "pickle.dump(model,open('LR_RENN.pkl','wb'))\n",
    "# Save pipeline to disk\n",
    "pickle.dump(pipeline, open('pipeline.pkl','wb'))"
   ]
  },
  {
   "cell_type": "markdown",
   "metadata": {},
   "source": [
    "### Saving final model to disk using joblib library\n",
    "You can achieve the same result using the joblib library, which is often preferred for serializing scikit-learn models due to its improved performance on large numpy arrays. Here's how you can save the models to disk using joblib:"
   ]
  },
  {
   "cell_type": "code",
   "execution_count": 81,
   "metadata": {},
   "outputs": [
    {
     "data": {
      "text/plain": [
       "['pipeline.joblib']"
      ]
     },
     "execution_count": 81,
     "metadata": {},
     "output_type": "execute_result"
    }
   ],
   "source": [
    "import joblib\n",
    "# Creating and Configuring the Model\n",
    "model = LogisticRegression(solver='liblinear', class_weight='balanced')\n",
    "# Saving Model to Disk using joblib\n",
    "joblib.dump(model, 'LR_RENN.joblib')\n",
    "# Save pipeline to disk\n",
    "joblib.dump(pipeline, 'pipeline.joblib')\n"
   ]
  },
  {
   "cell_type": "code",
   "execution_count": 82,
   "metadata": {},
   "outputs": [],
   "source": [
    "import pandas as pd\n",
    "from sklearn.preprocessing import LabelEncoder\n",
    "from sklearn.preprocessing import OneHotEncoder\n",
    "from sklearn.preprocessing import MinMaxScaler\n",
    "from sklearn.compose import ColumnTransformer\n",
    "from sklearn.ensemble import RandomForestClassifier  # Import RandomForestClassifier\n",
    "from imblearn.pipeline import Pipeline\n",
    "from imblearn.under_sampling import TomekLinks "
   ]
  },
  {
   "cell_type": "code",
   "execution_count": 83,
   "metadata": {},
   "outputs": [],
   "source": [
    "# load the dataset\n",
    "def load_dataset(full_path):\n",
    "    # load the dataset as a numpy array\n",
    "    dataframe = pd.read_csv(full_path, header=None)\n",
    "    # split into inputs and outputs\n",
    "    last_ix = len(dataframe.columns) - 1\n",
    "    X, y = dataframe.drop(last_ix, axis=1), dataframe[last_ix]\n",
    "    # select categorical and numerical features\n",
    "    cat_ix = X.select_dtypes(include=['object', 'bool']).columns\n",
    "    num_ix = X.select_dtypes(include=['int64', 'float64']).columns\n",
    "    # label encode the target variable to have the classes 0 and 1\n",
    "    y = LabelEncoder().fit_transform(y)\n",
    "    return X.values, y, cat_ix, num_ix"
   ]
  },
  {
   "cell_type": "code",
   "execution_count": 84,
   "metadata": {},
   "outputs": [],
   "source": [
    "# define the location of the dataset\n",
    "full_path = 'german.csv'\n",
    "# load the dataset\n",
    "X, y, cat_ix, num_ix = load_dataset(full_path)"
   ]
  },
  {
   "cell_type": "code",
   "execution_count": 85,
   "metadata": {},
   "outputs": [
    {
     "data": {
      "text/html": [
       "<style>#sk-container-id-3 {color: black;background-color: white;}#sk-container-id-3 pre{padding: 0;}#sk-container-id-3 div.sk-toggleable {background-color: white;}#sk-container-id-3 label.sk-toggleable__label {cursor: pointer;display: block;width: 100%;margin-bottom: 0;padding: 0.3em;box-sizing: border-box;text-align: center;}#sk-container-id-3 label.sk-toggleable__label-arrow:before {content: \"▸\";float: left;margin-right: 0.25em;color: #696969;}#sk-container-id-3 label.sk-toggleable__label-arrow:hover:before {color: black;}#sk-container-id-3 div.sk-estimator:hover label.sk-toggleable__label-arrow:before {color: black;}#sk-container-id-3 div.sk-toggleable__content {max-height: 0;max-width: 0;overflow: hidden;text-align: left;background-color: #f0f8ff;}#sk-container-id-3 div.sk-toggleable__content pre {margin: 0.2em;color: black;border-radius: 0.25em;background-color: #f0f8ff;}#sk-container-id-3 input.sk-toggleable__control:checked~div.sk-toggleable__content {max-height: 200px;max-width: 100%;overflow: auto;}#sk-container-id-3 input.sk-toggleable__control:checked~label.sk-toggleable__label-arrow:before {content: \"▾\";}#sk-container-id-3 div.sk-estimator input.sk-toggleable__control:checked~label.sk-toggleable__label {background-color: #d4ebff;}#sk-container-id-3 div.sk-label input.sk-toggleable__control:checked~label.sk-toggleable__label {background-color: #d4ebff;}#sk-container-id-3 input.sk-hidden--visually {border: 0;clip: rect(1px 1px 1px 1px);clip: rect(1px, 1px, 1px, 1px);height: 1px;margin: -1px;overflow: hidden;padding: 0;position: absolute;width: 1px;}#sk-container-id-3 div.sk-estimator {font-family: monospace;background-color: #f0f8ff;border: 1px dotted black;border-radius: 0.25em;box-sizing: border-box;margin-bottom: 0.5em;}#sk-container-id-3 div.sk-estimator:hover {background-color: #d4ebff;}#sk-container-id-3 div.sk-parallel-item::after {content: \"\";width: 100%;border-bottom: 1px solid gray;flex-grow: 1;}#sk-container-id-3 div.sk-label:hover label.sk-toggleable__label {background-color: #d4ebff;}#sk-container-id-3 div.sk-serial::before {content: \"\";position: absolute;border-left: 1px solid gray;box-sizing: border-box;top: 0;bottom: 0;left: 50%;z-index: 0;}#sk-container-id-3 div.sk-serial {display: flex;flex-direction: column;align-items: center;background-color: white;padding-right: 0.2em;padding-left: 0.2em;position: relative;}#sk-container-id-3 div.sk-item {position: relative;z-index: 1;}#sk-container-id-3 div.sk-parallel {display: flex;align-items: stretch;justify-content: center;background-color: white;position: relative;}#sk-container-id-3 div.sk-item::before, #sk-container-id-3 div.sk-parallel-item::before {content: \"\";position: absolute;border-left: 1px solid gray;box-sizing: border-box;top: 0;bottom: 0;left: 50%;z-index: -1;}#sk-container-id-3 div.sk-parallel-item {display: flex;flex-direction: column;z-index: 1;position: relative;background-color: white;}#sk-container-id-3 div.sk-parallel-item:first-child::after {align-self: flex-end;width: 50%;}#sk-container-id-3 div.sk-parallel-item:last-child::after {align-self: flex-start;width: 50%;}#sk-container-id-3 div.sk-parallel-item:only-child::after {width: 0;}#sk-container-id-3 div.sk-dashed-wrapped {border: 1px dashed gray;margin: 0 0.4em 0.5em 0.4em;box-sizing: border-box;padding-bottom: 0.4em;background-color: white;}#sk-container-id-3 div.sk-label label {font-family: monospace;font-weight: bold;display: inline-block;line-height: 1.2em;}#sk-container-id-3 div.sk-label-container {text-align: center;}#sk-container-id-3 div.sk-container {/* jupyter's `normalize.less` sets `[hidden] { display: none; }` but bootstrap.min.css set `[hidden] { display: none !important; }` so we also need the `!important` here to be able to override the default hidden behavior on the sphinx rendered scikit-learn.org. See: https://github.com/scikit-learn/scikit-learn/issues/21755 */display: inline-block !important;position: relative;}#sk-container-id-3 div.sk-text-repr-fallback {display: none;}</style><div id=\"sk-container-id-3\" class=\"sk-top-container\"><div class=\"sk-text-repr-fallback\"><pre>Pipeline(steps=[(&#x27;t&#x27;,\n",
       "                 ColumnTransformer(transformers=[(&#x27;c&#x27;,\n",
       "                                                  OneHotEncoder(drop=&#x27;first&#x27;),\n",
       "                                                  Int64Index([0, 2, 3, 5, 6, 8, 9, 11, 13, 14, 16, 18, 19], dtype=&#x27;int64&#x27;)),\n",
       "                                                 (&#x27;n&#x27;, MinMaxScaler(),\n",
       "                                                  Int64Index([1, 4, 7, 10, 12, 15, 17], dtype=&#x27;int64&#x27;))])),\n",
       "                (&#x27;s&#x27;, TomekLinks(sampling_strategy=&#x27;majority&#x27;)),\n",
       "                (&#x27;m&#x27;, RandomForestClassifier())])</pre><b>In a Jupyter environment, please rerun this cell to show the HTML representation or trust the notebook. <br />On GitHub, the HTML representation is unable to render, please try loading this page with nbviewer.org.</b></div><div class=\"sk-container\" hidden><div class=\"sk-item sk-dashed-wrapped\"><div class=\"sk-label-container\"><div class=\"sk-label sk-toggleable\"><input class=\"sk-toggleable__control sk-hidden--visually\" id=\"sk-estimator-id-17\" type=\"checkbox\" ><label for=\"sk-estimator-id-17\" class=\"sk-toggleable__label sk-toggleable__label-arrow\">Pipeline</label><div class=\"sk-toggleable__content\"><pre>Pipeline(steps=[(&#x27;t&#x27;,\n",
       "                 ColumnTransformer(transformers=[(&#x27;c&#x27;,\n",
       "                                                  OneHotEncoder(drop=&#x27;first&#x27;),\n",
       "                                                  Int64Index([0, 2, 3, 5, 6, 8, 9, 11, 13, 14, 16, 18, 19], dtype=&#x27;int64&#x27;)),\n",
       "                                                 (&#x27;n&#x27;, MinMaxScaler(),\n",
       "                                                  Int64Index([1, 4, 7, 10, 12, 15, 17], dtype=&#x27;int64&#x27;))])),\n",
       "                (&#x27;s&#x27;, TomekLinks(sampling_strategy=&#x27;majority&#x27;)),\n",
       "                (&#x27;m&#x27;, RandomForestClassifier())])</pre></div></div></div><div class=\"sk-serial\"><div class=\"sk-item sk-dashed-wrapped\"><div class=\"sk-label-container\"><div class=\"sk-label sk-toggleable\"><input class=\"sk-toggleable__control sk-hidden--visually\" id=\"sk-estimator-id-18\" type=\"checkbox\" ><label for=\"sk-estimator-id-18\" class=\"sk-toggleable__label sk-toggleable__label-arrow\">t: ColumnTransformer</label><div class=\"sk-toggleable__content\"><pre>ColumnTransformer(transformers=[(&#x27;c&#x27;, OneHotEncoder(drop=&#x27;first&#x27;),\n",
       "                                 Int64Index([0, 2, 3, 5, 6, 8, 9, 11, 13, 14, 16, 18, 19], dtype=&#x27;int64&#x27;)),\n",
       "                                (&#x27;n&#x27;, MinMaxScaler(),\n",
       "                                 Int64Index([1, 4, 7, 10, 12, 15, 17], dtype=&#x27;int64&#x27;))])</pre></div></div></div><div class=\"sk-parallel\"><div class=\"sk-parallel-item\"><div class=\"sk-item\"><div class=\"sk-label-container\"><div class=\"sk-label sk-toggleable\"><input class=\"sk-toggleable__control sk-hidden--visually\" id=\"sk-estimator-id-19\" type=\"checkbox\" ><label for=\"sk-estimator-id-19\" class=\"sk-toggleable__label sk-toggleable__label-arrow\">c</label><div class=\"sk-toggleable__content\"><pre>Int64Index([0, 2, 3, 5, 6, 8, 9, 11, 13, 14, 16, 18, 19], dtype=&#x27;int64&#x27;)</pre></div></div></div><div class=\"sk-serial\"><div class=\"sk-item\"><div class=\"sk-estimator sk-toggleable\"><input class=\"sk-toggleable__control sk-hidden--visually\" id=\"sk-estimator-id-20\" type=\"checkbox\" ><label for=\"sk-estimator-id-20\" class=\"sk-toggleable__label sk-toggleable__label-arrow\">OneHotEncoder</label><div class=\"sk-toggleable__content\"><pre>OneHotEncoder(drop=&#x27;first&#x27;)</pre></div></div></div></div></div></div><div class=\"sk-parallel-item\"><div class=\"sk-item\"><div class=\"sk-label-container\"><div class=\"sk-label sk-toggleable\"><input class=\"sk-toggleable__control sk-hidden--visually\" id=\"sk-estimator-id-21\" type=\"checkbox\" ><label for=\"sk-estimator-id-21\" class=\"sk-toggleable__label sk-toggleable__label-arrow\">n</label><div class=\"sk-toggleable__content\"><pre>Int64Index([1, 4, 7, 10, 12, 15, 17], dtype=&#x27;int64&#x27;)</pre></div></div></div><div class=\"sk-serial\"><div class=\"sk-item\"><div class=\"sk-estimator sk-toggleable\"><input class=\"sk-toggleable__control sk-hidden--visually\" id=\"sk-estimator-id-22\" type=\"checkbox\" ><label for=\"sk-estimator-id-22\" class=\"sk-toggleable__label sk-toggleable__label-arrow\">MinMaxScaler</label><div class=\"sk-toggleable__content\"><pre>MinMaxScaler()</pre></div></div></div></div></div></div></div></div><div class=\"sk-item\"><div class=\"sk-estimator sk-toggleable\"><input class=\"sk-toggleable__control sk-hidden--visually\" id=\"sk-estimator-id-23\" type=\"checkbox\" ><label for=\"sk-estimator-id-23\" class=\"sk-toggleable__label sk-toggleable__label-arrow\">TomekLinks</label><div class=\"sk-toggleable__content\"><pre>TomekLinks(sampling_strategy=&#x27;majority&#x27;)</pre></div></div></div><div class=\"sk-item\"><div class=\"sk-estimator sk-toggleable\"><input class=\"sk-toggleable__control sk-hidden--visually\" id=\"sk-estimator-id-24\" type=\"checkbox\" ><label for=\"sk-estimator-id-24\" class=\"sk-toggleable__label sk-toggleable__label-arrow\">RandomForestClassifier</label><div class=\"sk-toggleable__content\"><pre>RandomForestClassifier()</pre></div></div></div></div></div></div></div>"
      ],
      "text/plain": [
       "Pipeline(steps=[('t',\n",
       "                 ColumnTransformer(transformers=[('c',\n",
       "                                                  OneHotEncoder(drop='first'),\n",
       "                                                  Int64Index([0, 2, 3, 5, 6, 8, 9, 11, 13, 14, 16, 18, 19], dtype='int64')),\n",
       "                                                 ('n', MinMaxScaler(),\n",
       "                                                  Int64Index([1, 4, 7, 10, 12, 15, 17], dtype='int64'))])),\n",
       "                ('s', TomekLinks(sampling_strategy='majority')),\n",
       "                ('m', RandomForestClassifier())])"
      ]
     },
     "execution_count": 85,
     "metadata": {},
     "output_type": "execute_result"
    }
   ],
   "source": [
    "\n",
    "# Define the new model\n",
    "model = RandomForestClassifier(n_estimators=100)  # Change to your desired model\n",
    "\n",
    "# Define the new preprocessing steps, which may include one-hot encoding and normalization\n",
    "ct = ColumnTransformer([\n",
    "    ('c', OneHotEncoder(drop='first'), cat_ix),\n",
    "    ('n', MinMaxScaler(), num_ix)\n",
    "])\n",
    "\n",
    "# Define the new undersampling technique\n",
    "undersampler = TomekLinks(sampling_strategy='majority')  # Change to your desired undersampling technique\n",
    "\n",
    "# Create the new pipeline\n",
    "pipeline = Pipeline(steps=[\n",
    "    ('t', ct),\n",
    "    ('s', undersampler),\n",
    "    ('m', model)\n",
    "])\n",
    "\n",
    "# Fit the new model\n",
    "pipeline.fit(X, y)\n"
   ]
  },
  {
   "cell_type": "code",
   "execution_count": 86,
   "metadata": {},
   "outputs": [
    {
     "name": "stdout",
     "output_type": "stream",
     "text": [
      "Good Customers:\n",
      "> Predicted=0 (expected 0)\n",
      "Bad Customers:\n",
      "> Predicted=1 (expected 1)\n"
     ]
    }
   ],
   "source": [
    "# Evaluate on some good customers cases (known class 0)\n",
    "print('Good Customers:')\n",
    "data = [['A11', 6, 'A34', 'A43', 1169, 'A65', 'A75', 4, 'A93', 'A101', 4, 'A121', 67, 'A143', 'A152', 2, 'A173', 1, 'A192', 'A201']]\n",
    "for row in data:\n",
    "    # Make prediction using the pipeline\n",
    "    yhat = pipeline.predict([row])\n",
    "    \n",
    "    # Get the predicted label\n",
    "    label = yhat[0]\n",
    "    \n",
    "    # Summarize the prediction\n",
    "    print('> Predicted=%d (expected 0)' % (label))\n",
    "\n",
    "# Evaluate on some bad customers (known class 1)\n",
    "print('Bad Customers:')\n",
    "data = [['A13', 18, 'A32', 'A43', 2100, 'A61', 'A73', 4, 'A93', 'A102', 2, 'A121', 37, 'A142', 'A152', 1, 'A173', 1, 'A191', 'A201']]\n",
    "for row in data:\n",
    "    # Make prediction using the pipeline\n",
    "    yhat = pipeline.predict([row])\n",
    "    \n",
    "    # Get the predicted label\n",
    "    label = yhat[0]\n",
    "    \n",
    "    # Summarize the prediction\n",
    "    print('> Predicted=%d (expected 1)' % (label))\n"
   ]
  },
  {
   "cell_type": "code",
   "execution_count": 87,
   "metadata": {},
   "outputs": [
    {
     "name": "stdout",
     "output_type": "stream",
     "text": [
      "Good Customers:\n",
      ">Predicted=0 (expected 0)\n",
      ">Predicted=0 (expected 0)\n",
      ">Predicted=0 (expected 0)\n",
      "Bad Customers:\n",
      ">Predicted=1 (expected 1)\n",
      ">Predicted=1 (expected 1)\n",
      ">Predicted=1 (expected 1)\n"
     ]
    }
   ],
   "source": [
    "# evaluate on some good customers cases (known class 0)\n",
    "print('Good Customers:')\n",
    "data = [['A11', 6, 'A34', 'A43', 1169, 'A65', 'A75', 4, 'A93', 'A101', 4, 'A121', 67, 'A143', 'A152', 2, 'A173', 1, 'A192', 'A201'],\n",
    "    ['A14', 12, 'A34', 'A46', 2096, 'A61', 'A74', 2, 'A93', 'A101', 3, 'A121', 49, 'A143', 'A152', 1, 'A172', 2, 'A191', 'A201'],\n",
    "    ['A11', 42, 'A32', 'A42', 7882, 'A61', 'A74', 2, 'A93', 'A103', 4, 'A122', 45, 'A143', 'A153', 1, 'A173', 2, 'A191', 'A201']]\n",
    "for row in data:\n",
    "    # make prediction\n",
    "    yhat = pipeline.predict([row])\n",
    "    # get the label\n",
    "    label = yhat[0]\n",
    "    # summarize\n",
    "    print('>Predicted=%d (expected 0)' % (label))\n",
    "# evaluate on some bad customers (known class 1)\n",
    "print('Bad Customers:')\n",
    "data = [['A13', 18, 'A32', 'A43', 2100, 'A61', 'A73', 4, 'A93', 'A102', 2, 'A121', 37, 'A142', 'A152', 1, 'A173', 1, 'A191', 'A201'],\n",
    "    ['A11', 24, 'A33', 'A40', 4870, 'A61', 'A73', 3, 'A93', 'A101', 4, 'A124', 53, 'A143', 'A153', 2, 'A173', 2, 'A191', 'A201'],\n",
    "    ['A11', 24, 'A32', 'A43', 1282, 'A62', 'A73', 4, 'A92', 'A101', 2, 'A123', 32, 'A143', 'A152', 1, 'A172', 1, 'A191', 'A201']]\n",
    "for row in data:\n",
    "    # make prediction\n",
    "    yhat = pipeline.predict([row])\n",
    "    # get the label\n",
    "    label = yhat[0]\n",
    "    # summarize\n",
    "    print('>Predicted=%d (expected 1)' % (label))"
   ]
  },
  {
   "cell_type": "code",
   "execution_count": 88,
   "metadata": {},
   "outputs": [
    {
     "name": "stdout",
     "output_type": "stream",
     "text": [
      "> Predicted=0 (expected=0)\n",
      "> Predicted=1 (expected=1)\n",
      "> Predicted=0 (expected=0)\n",
      "> Predicted=0 (expected=0)\n",
      "> Predicted=1 (expected=1)\n",
      "> Predicted=0 (expected=0)\n",
      "> Predicted=0 (expected=0)\n",
      "> Predicted=0 (expected=0)\n",
      "> Predicted=0 (expected=0)\n",
      "> Predicted=1 (expected=1)\n",
      "> Predicted=1 (expected=1)\n",
      "> Predicted=1 (expected=1)\n",
      "> Predicted=0 (expected=0)\n",
      "> Predicted=1 (expected=1)\n",
      "> Predicted=1 (expected=0)\n",
      "> Predicted=1 (expected=1)\n",
      "> Predicted=0 (expected=0)\n",
      "> Predicted=0 (expected=0)\n",
      "> Predicted=1 (expected=1)\n",
      "> Predicted=0 (expected=0)\n",
      "> Predicted=0 (expected=0)\n",
      "> Predicted=0 (expected=0)\n",
      "> Predicted=0 (expected=0)\n",
      "> Predicted=0 (expected=0)\n",
      "> Predicted=0 (expected=0)\n",
      "> Predicted=0 (expected=0)\n",
      "> Predicted=0 (expected=0)\n",
      "> Predicted=0 (expected=0)\n",
      "> Predicted=0 (expected=0)\n",
      "> Predicted=1 (expected=1)\n",
      "> Predicted=0 (expected=0)\n",
      "> Predicted=0 (expected=0)\n",
      "> Predicted=0 (expected=0)\n",
      "> Predicted=0 (expected=0)\n",
      "> Predicted=0 (expected=0)\n",
      "> Predicted=1 (expected=1)\n",
      "> Predicted=0 (expected=0)\n",
      "> Predicted=1 (expected=1)\n",
      "> Predicted=0 (expected=0)\n",
      "> Predicted=0 (expected=0)\n",
      "> Predicted=0 (expected=0)\n",
      "> Predicted=0 (expected=0)\n",
      "> Predicted=0 (expected=0)\n",
      "> Predicted=0 (expected=0)\n",
      "> Predicted=1 (expected=1)\n",
      "> Predicted=0 (expected=0)\n",
      "> Predicted=0 (expected=0)\n",
      "> Predicted=0 (expected=0)\n",
      "> Predicted=0 (expected=0)\n",
      "> Predicted=0 (expected=0)\n",
      "Number of cases where expected is 1 and predicted is 0: 0\n"
     ]
    }
   ],
   "source": [
    "last_ix = len(dataframe.columns) - 1\n",
    "data = dataframe.drop(last_ix, axis=1).values[:50]\n",
    "y = dataframe[last_ix]\n",
    "y = LabelEncoder().fit_transform(y)\n",
    "\n",
    "# Counter for cases where expected is 1 and predicted is 0\n",
    "counter = 0\n",
    "# Iterate through the data and make predictions,i for labels and row is for features\n",
    "for i, row in enumerate(data):\n",
    "    # Make a prediction\n",
    "    yhat = pipeline.predict([row])\n",
    "    \n",
    "    # Get the predicted and actual labels\n",
    "    predicted_label = yhat[0]\n",
    "    actual_label = y[i]\n",
    "    \n",
    "    # Print the results\n",
    "    print(f'> Predicted={predicted_label} (expected={actual_label})')\n",
    "    \n",
    "    # Check if expected is 1 and predicted is 0\n",
    "    if actual_label == 1 and predicted_label == 0:\n",
    "        counter += 1\n",
    "\n",
    "print(f'Number of cases where expected is 1 and predicted is 0: {counter}')\n"
   ]
  },
  {
   "cell_type": "code",
   "execution_count": 89,
   "metadata": {},
   "outputs": [
    {
     "name": "stdout",
     "output_type": "stream",
     "text": [
      "[[688  12]\n",
      " [  0 300]]\n",
      "False Negatives: 0\n"
     ]
    }
   ],
   "source": [
    "from sklearn import metrics, preprocessing\n",
    "yhat = pipeline.predict(X)\n",
    "cm = metrics.confusion_matrix(y, yhat)\n",
    "print(cm)\n",
    "# Extract and print the False Negative count\n",
    "false_negatives = cm[1, 0]\n",
    "print(f\"False Negatives: {false_negatives}\")"
   ]
  }
 ],
 "metadata": {
  "kernelspec": {
   "display_name": "Python 3 (ipykernel)",
   "language": "python",
   "name": "python3"
  },
  "language_info": {
   "codemirror_mode": {
    "name": "ipython",
    "version": 3
   },
   "file_extension": ".py",
   "mimetype": "text/x-python",
   "name": "python",
   "nbconvert_exporter": "python",
   "pygments_lexer": "ipython3",
   "version": "3.11.5"
  }
 },
 "nbformat": 4,
 "nbformat_minor": 2
}
