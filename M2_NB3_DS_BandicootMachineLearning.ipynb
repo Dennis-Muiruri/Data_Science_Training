{
 "cells": [
  {
   "cell_type": "markdown",
   "metadata": {},
   "source": [
    "<div align=\"right\">Python 3.6 Jupyter Notebook</div>\n",
    "\n",
    "# Predictive modeling using Bandicoot features\n",
    "<br>\n",
    "<div class=\"alert alert-warning\">\n",
    "<b>Note that this notebook contains advanced exercises that are only applicable to students who wish to deepen their understanding and qualify for bonus marks on this course. </b>You will be able to achieve 100% for this notebook by completing Exercises 1 to 4. An optional, additional exercise (Exercise 5) can be completed to qualify for bonus marks.\n",
    "</div>\n",
    "\n",
    "### Your completion of the notebook exercises will be graded based on your ability to do the following: \n",
    "\n",
    "> **Understand**: Do your pseudo-code and comments show evidence that you recall and understand technical concepts?\n",
    "\n",
    "> **Apply**: Are you able to execute code (using the supplied examples) that performs the required functionality on supplied or generated data sets? \n",
    "\n",
    "> **Analyze**: Are you able to pick the relevant method or library to resolve specific stated questions?\n",
    "\n",
    "> **Evaluate**: Are you able to interpret the results and justify your interpretation based on the observed data?\n",
    "\n",
    "> **Create**:  Are you able to produce notebooks that serve as computational records of a session that can be used to share your insights with others?"
   ]
  },
  {
   "cell_type": "markdown",
   "metadata": {},
   "source": [
    "#### Notebook objectives\n",
    "By the end of this notebook, you will be expected to:\n",
    "\n",
    "> - Understand what machine learning is;\n",
    "- Explain the bias-variance trade-off;\n",
    "- Fit different models to data that you have collected; and\n",
    "- Interpret binary classification model results using confusion matrices and receiver operating characteristic (ROC) curves.\n",
    " \n",
    "####  List of exercises:\n",
    ">   - **Exercise 1:** Machine learning concepts.\n",
    "  - **Exercise 2:** Simple ROC curve interpretation.\n",
    "  - **Exercise 3:** Interpreting results of binary classification model.\n",
    "  - **Exercise 4:** Analysis of ROC curves and general model improvement strategies.\n",
    "  - **Exercise 5 [Advanced]:**  Building a $k$ nearest neighbor classification model."
   ]
  },
  {
   "cell_type": "markdown",
   "metadata": {},
   "source": [
    "# Notebook introduction\n",
    "This notebook serves as a brief introduction to the exciting field of machine learning, and provides you with hands-on examples of the various steps you are likely to perform. You will use a number of Python libraries, introduced in earlier modules, to generate features and compute behavioral indicators.\n",
    "\n",
    "> **Note**:\n",
    "\n",
    "> Although a lot of the terms introduced in this notebook will be new to many students, these terms will make more sense once you have worked through the notebook.\n",
    "\n",
    "The approach followed in this notebook entails computing a number of behavioral indicators and defining the target variable, before going back to steps that were introduced in previous modules (such as performing exploratory data analysis and preprocessing data). In this notebook, a section on classification with cross validation is followed by one that looks at the receiver operation characteristic (ROC) curve. In the final section, choosing optimal classifier parameters is discussed."
   ]
  },
  {
   "cell_type": "markdown",
   "metadata": {},
   "source": [
    "# 1. Introduction to machine learning\n",
    "In Module 4, you evaluated more than 1,400 behavioral indicators for many users in the “Friends and Family” data set. The next logical question to ask is: can you do something useful with these indicators and how can you process or make sense of so many variables or features? The short answer is, without the help of computers, it is virtually impossible. Thanks to machine learning, you can extract answers to meaningful questions using such vast amounts of data. Examples of questions that may be of interest include the following:\n",
    "- What is a person's gender?\n",
    "- How susceptible are they to marketing?\n",
    "- Are there patterns in the data that suggest a higher probability that the person will not be making use of our service?\n",
    "- What is their propensity for taking up a new product or service offering?\n",
    "- Who is best positioned to assist them should they engage with our organization through any one of our channels?\n",
    "- How do their usage patterns inform product design and development?\n",
    "- Which members in a community are most at risk in an epidemic or disease outbreak?\n",
    "\n",
    "The huge excitement behind big data is around the opportunities that it provides, and the fact that, as recently as a decade or two ago, they could not have been imagined. Developments in machine learning and statistics provide the capacity to do something intelligent with data, and extract useful knowledge. Major corporations from the computer and internet industry (such as Google, Apple, Amazon, and Microsoft) are hedging their bets on this potential, and driving a lot of innovation for a new era of technological changes. \n",
    "Eric Schmidt, the chairman of Alphabet, recently stated that the wide adoption of machine learning in computing will “create huge new platforms, companies, IPOs, wealth, and enormous things going on in the future” (Williams, 2016)."
   ]
  },
  {
   "cell_type": "markdown",
   "metadata": {},
   "source": [
    "### 1.1 What is machine learning?\n",
    "\n",
    "The SAS institute (2016) [defines machine learning](http://www.sas.com/en_us/insights/analytics/machine-learning.html) as “a method of data analysis that automates analytical model building. Using algorithms that iteratively learn from data, machine learning allows computers to find hidden insights without being explicitly programmed where to look.” \n",
    "There are two main classes of machine learning algorithms.\n",
    "\n",
    "#### 1.1.1 Unsupervised learning\n",
    "\n",
    "In *unsupervised learning*, the objective is to identify or infer a function to describe a hidden structure or similarity of patterns in unlabeled data. In Module 4, you were introduced to three different methods that can be used for clustering and community detection in graph networks, namely hierarchical clustering, modularity maximization, and spectral graph partitioning. These methods belong to the unsupervised learning family of machine learning algorithms.\n",
    "\n",
    "#### 1.1.2 Supervised learning\n",
    "In *supervised learning*, which is the focus of this notebook, not only are you provided with a set of features ( $ {X}_i$, for $i=1,...,N$) but also a set of labels ${y}_i, i=1,...,N$, where each $y_i$ is a label corresponding to $X_i$. The set of features is also referred to as predictors, and the labels as response, or target variables. For example, you have already been introduced to the very rich set of features one can derive from mobile phone metadata. Basic demographic or socioeconomic information (such as the economic status of an individual, or their gender or age) is typically missing from these data sets. If such information is available for a subset of the population in the database, an interesting challenge, with broad policy implications, is to use mobile phone data to predict these demographic indicators where such information is unavailable or not easily accessible. Read about the use of [mobile phones in global development](https://www.devex.com/news/can-mobile-phone-data-answer-global-development-s-call-88681), for an example of this challenge.\n",
    "Thus, in supervised learning, one uses a given pair of input data and a corresponding supervisory target or desired target, $(y,X)$ to learn a function $f$ that can be used to predict the unknown target value of some input vector, as follows:\n",
    "$$ y = f(X).$$\n",
    "\n",
    "\n",
    "Typically, one collects data of known $(y, X)$ pairs that hopefully capture the range of variability and associated outcomes for the domain problem at hand. Learning a function $f$ essentially involves capturing statistical regularities from systems that are potentially very complex and high-dimensional. The learned function $f$ is usually a complicated mathematical expression that describes the data, for example, the behavior of an economically-disadvantaged person from a specific country as observed through their telephone activity.\n",
    "\n",
    "\n",
    "Traditional approaches to understanding nature have largely focused on finding a theory or law that describes observed measurements. These laws often take an understandable mathematical form, for example, Newton's laws of motion or Einstein's relativity theory. Understanding nature is then based on reasoning with these laws. Unfortunately, for a large class of problems that are of interest to society (such as those mentioned above), abstracting these problems into a comprehensible mathematical form is a difficult undertaking, as they are often complex, and require measurements of a large number of quantities over a reasonable period of time. Machine learning allows us to discover and make predictions about these systems using large volumes of data. However, for many of these cases, the traditional scientific goal of finding a simple mathematical description becomes elusive as the output of a learning algorithm is a complicated mathematical expression. Therefore, some of these machine learning systems are described or used as “black boxes” – the derived models are not explainable, and people often only care about their predictions.\n",
    "The learning process also uses specified objective functions to optimize when fitting the data. A simple example of an objective function is the sum of squares error formula (used in linear regression) with which you may be familiar. In machine learning, the error term itself is usually referred to as the [loss function](http://stats.stackexchange.com/questions/179026/objective-function-cost-function-loss-function-are-they-the-same-thing), and the performance of a given algorithm is commonly reported in terms of the loss function employed. A number of these will be discussed later in the notebook.\n",
    "\n",
    "\n",
    "### 1.2 Model fitting\n",
    "\n",
    "Exactly what does learning entail? At its most basic level, learning involves specifying a model $f$ that can hopefully extract regularities for the data or problem at hand, as well as the appropriate objective function to optimize using a specified loss function. Learning (or fitting) the model essentially means finding optimal parameters of the model structure, using provided input or target data. This is also called training the model. It is common (and best practice) to split the provided data into at least two sets – training and test data sets. The rationale for this split is that you are fitting the model to perform as well as it can using given or seen data. However, your primary goal is for the model to perform well on unseen data. That is, data that you still have to collect, with labels ($y$) that you do not know. To manage this challenge, you will keep part of the collected data hidden from the training or fitting process. Once you are satisfied that you have an optimal model, you can then assess how well the model generalizes on unseen data, using the data that was hidden from the training process. Data used to fit the model is referred to as training data, and data kept hidden from the training – but used to assess the generalization performance of the model – is called test data. There are different variations of this train-and-test split. You may also encounter the term “validation data” being used for essentially the same objective, except for some technicalities that go beyond the scope of this course. The three main reasons why you should evaluate the predictive performance of a model are the following:\n",
    "\n",
    "1. **Model evaluation:** Estimate the predictive performance of our model on unseen data, which is its generalization performance.\n",
    "- **Model selection:** Assist in tuning the learning algorithm parameters and selecting the best-performing model from a given class.\n",
    "- **Algorithm selection:** Identify the most appropriate learning algorithm for the modeling problem on hand.\n",
    "\n",
    "The difference between model selection and algorithm selection is that selecting an algorithm defines the family of models from within which you can choose an optimal model (model selection). Choosing a different learning algorithm instantiates a different space from within which you will need to select the best-performing model. As a simple example, a linear algorithm implies linear models. You can then pick the best-performing linear model, given the data. Alternatively, choosing a nonlinear algorithm means that you have a more flexible class of models at your disposal. You will need to tune the nonlinear algorithm parameters in order to choose the best-performing model, given the data.\n"
   ]
  },
  {
   "cell_type": "markdown",
   "metadata": {},
   "source": [
    "### 1.3 Bias-variance trade-off\n",
    "\n",
    "Model and algorithm selection are closely related to the bias-variance trade-off in machine learning and statistics. Bias arises when the statistically-expected model prediction differs from the true value or target (over the training data), and tends to be influenced by model selection. To get an estimate of the expected model prediction, it is common to resample the data and repeat the model-building process. A high prevalence of bias means that these average prediction values are substantially different from the true value. Variance, on the other hand, measures the consistency of the predictions across different training sets, not whether or not they are accurate.\n",
    "\n",
    "If your model has low variance and high bias, it will *underfit*, and if it has high variance and low bias it will *overfit*. Selecting a linear model to approximate an underlying nonlinear function introduces a bias, which is due to the linear model’s inability to capture the nonlinearity, resulting in underfitting. On the other hand, selecting a nonlinear model to a estimate an underlying linear function introduces a bias that results in the nonlinear model overfitting. The bias-variance trade-off implies selecting a learning algorithm with low bias, and yet is flexible enough to fit the data well. Too much flexibility in the learning algorithm introduces high variance as the algorithm will always fit each training data set differently. In other words, increasing the bias will decrease the variance, and increasing the variance will decrease the bias. Most of your efforts in the model training process will be around managing this trade-off.\n",
    "\n",
    "The bias-variance trade-off can also be seen through insights from many great philosophers and scientists, in various forms. For example, this can be seen in a quote often attributed to Albert Einstein, which says, \"Everything should be as simple as it can be, but not simpler,” as well as another quote, attributed to William of Ockham, which says, \"More things should not be used than are necessary.\" With respect to application of machine learning in the real world, the following remark by a renowned applied machine learning researcher and practioner is worth noting.\n",
    "\n",
    "> It takes surprisingly long time to grok bias and variance deeply, but people that understand bias and variance deeply are often able to drive very rapid progress. \n",
    "<br> <br>\n",
    "<div align=\"right\"> (Andrew Ng, * Tutorial - Nuts and Bolts of Building Applications using Deep Learning, NIPS 2016.*) </div>\n",
    "\n",
    "The interplay between bias and variance can be visualized using a [bulls-eye diagram](http://scott.fortmann-roe.com/docs/BiasVariance.html). In this representation, the bull's eye at the center of the target is the ground truth, and any deviation from this is an incorrect prediction (model error). Multiple models are built (using different samples from the training data), and the resulting performance of each model is represented by a hit on the board. The scatter in the hits arises from the random variability in the training data (introduced via the resampling). In the plot below are four cases representing different bias and variance combinations that you can expect when fitting models data. Since the truth is not known, various methods such as the learning curve are used to estimate bias in data, and its interplay with variance (Fortmann-Roe 2012).\n",
    "\n",
    "\n",
    "\n",
    "You are encouraged to visit and read Scikit-learn’s [practical advice on machine learning](https://ogrisel.github.io/scikit-learn.org/sklearn-tutorial/tutorial/astronomy/practical.html), with special regard to the summary section.\n",
    "\n",
    "\n",
    "<img src=\"biasvariance.png\" width=400, height=450>\n",
    "\n",
    "\n",
    "\n",
    "In summary, predictive model-building, with machine learning, involves the following sequential steps:\n",
    "1. Data collection (predictors and response)\n",
    "2. Algorithm selection\n",
    "3. Model selection\n",
    "4. Model evaluation\n",
    "\n",
    "\n",
    "\n",
    "### 1.4 Myths and misconceptions\n",
    "Pedro Domingo, author of [*The Master Algorithm*](https://www.amazon.com/Master-Algorithm-Ultimate-Learning-Machine/dp/0465065708), penned an insightful article on a number of machine learning [myths and misconceptions](https://medium.com/@pedromdd/ten-myths-about-machine-learning-d888b48334a3#.143f0x8gq) that are worth reading to get a sense of what machine learning really is.\n",
    "### 1.5 Machine learning using Python\n",
    "Python has a growing set of well-developed toolkits that make it easier to perform this kind of data analysis, such as the [Scikit-Learn](http://scikit-learn.org/stable/) package (commonly referred to as sklearn), and [Mlxtend](http://rasbt.github.io/mlxtend/) (machine learning extensions), among others."
   ]
  },
  {
   "cell_type": "markdown",
   "metadata": {},
   "source": [
    "<br>\n",
    "<div class=\"alert alert-info\">\n",
    "<b>Exercise 1 Start.</b>\n",
    "</div>\n",
    "\n",
    "\n",
    "### Instructions\n",
    "Provide brief, written answers in markdown to demonstrate your understanding of the following:\n",
    " \n",
    "> 1. What is machine learning?\n",
    "> 2. Using your own words (in one or two sentences), explain what the bias-variance trade-off is.\n",
    "> 3. Can a linear algorithm overfit? Justify your answer (in one or two sentences).\n",
    "> 4. List two methods you can use to minimize or avoid overfitting.\n",
    "\n",
    "\n",
    "\n",
    "> **Hint**: \n",
    "- Review [this article](http://www.ma.utexas.edu/users/mks/statmistakes/ovefitting.html) for additional information on overfitting.\n",
    "- Review [this post](http://machinelearningmastery.com/gentle-introduction-to-the-bias-variance-trade-off-in-machine-learning/) for additional information on the bias-variance trade-off.\n",
    "- Review Tomasz Malisiewicz's notes from Andrew Ng's NIPS tutorial on the [Nuts and Bolts of Building Deep Learning Applications](http://www.computervisionblog.com/2016/12/nuts-and-bolts-of-building-deep.html) for a suggested recipe on building machine learning systems.\n"
   ]
  },
  {
   "cell_type": "markdown",
   "metadata": {},
   "source": [
    "#### Exercise 1 Answers\n",
    "##### 1. What is machine learning?\n",
    "According to SAS institute (2016) machine learning is a method of data analysis that automates analytical model building using algorithms that iteratively learn from behavioral indicators inferred from data. It permits computers to find hidden insights without being explicitly programmed where to look. \n",
    "\n",
    "##### 2. What is bias-variance trade-off?\n",
    "Bias arises when the statistically-expected model prediction differs from the true value or target (over the training data), and tends to be influenced by model selection, while Variance measures the consistency of the predictions across different training sets, not whether or not they are accurate. The bias-variance trade-off involves finding an equilibrium between bias and variance that keeps both low and ensures analytical modeling produces the best estimate of a mapping function for an output variable given some input data. \n",
    "\n",
    "##### 3. Can a linear algorithm overfit?\n",
    "Overfitting occurs when a model learns the training data too closely, including its noise and outliers and as a result, it performs very well on the training data but poorly on unseen data. Selecting a linear model to approximate an underlying nonlinear function introduces a bias, which is due to the linear model’s inability to capture the nonlinearity, resulting in underfitting, therefore it follows that if a linear algorithm learns the training data too closely, even if the underlying function is linear, it can overfit. \n",
    "\n",
    "##### 4. List two methods you can use to minimize or avoid overfitting.\n",
    "* Model validation by splitting the training data sample into training, test and validation sets or using resampling methods.\n",
    "* Model/algorithm selection and parameter tuning to find out which parameters minimize overfitting for the selected model/algorithm. "
   ]
  },
  {
   "cell_type": "markdown",
   "metadata": {},
   "source": [
    "### 1.6 Sample XGBoost Algorithm Parameters\n",
    "XGBoost is a powerful gradient boosting machine learning library that has gained popularity due to its speed and performance. When tuning an XGBoost model, understanding its parameters is essential. These parameters can be broadly categorized into three groups:\n",
    "\n",
    "1. **General Parameters**:\n",
    "   - `booster`: The type of boosting model to use. It can be `gbtree`, `gblinear`, or `dart`.\n",
    "   - `verbosity`: The degree of verbosity. Valid values are `0` (silent), `1` (warning), `2` (info), and `3` (debug).\n",
    "   - `nthread`: Number of parallel threads to run XGBoost. Default is the maximum number of threads available if not set.\n",
    "\n",
    "2. **Booster Parameters**:\n",
    "   - `learning_rate` (or `eta`): It shrinks the feature weights to make the boosting process more conservative.\n",
    "   - `min_child_weight`: Defines the minimum sum of weights of all observations required in a child.\n",
    "   - `max_depth`: Maximum depth of a tree.\n",
    "   - `max_leaf_nodes`: Maximum number of terminal nodes or leaves in a tree.\n",
    "   - `gamma`: Minimum loss reduction required to make a further partition.\n",
    "   - `subsample`: Proportion of training data to randomly sample in each boosting round.\n",
    "   - `colsample_bytree`: Proportion of features to randomly sample for building each tree.\n",
    "   - `colsample_bylevel`: Proportion of features to sample for building each level.\n",
    "   - `colsample_bynode`: Proportion of features to sample for building each node.\n",
    "   - `lambda` (L2 regularization term): Increase this value will make the model more conservative.\n",
    "   - `alpha` (L1 regularization term): Increase this value will make the model more conservative.\n",
    "   - `scale_pos_weight`: Controls the balance of positive and negative weights, useful for imbalanced classes.\n",
    "   - `base_score`: The initial prediction score of all instances, global bias.\n",
    "\n",
    "3. **Learning Task Parameters**:\n",
    "   - `objective`: Specifies the learning task and the corresponding objective function (`reg:squarederror` for regression tasks, `binary:logistic` for binary classification, `multi:softprob` for multiclass classification, etc.)\n",
    "   - `eval_metric`: Evaluation metric to be used for validation data (`rmse` for regression, `error` for classification, `logloss`, etc.)\n",
    "   - `seed`: Random number seed to ensure reproducibility.\n",
    "\n",
    "4. **DART Booster Specific Parameters** (when `booster=dart`):\n",
    "   - `sample_type`: Type of sampling algorithm (`uniform` or `weighted`).\n",
    "   - `normalize_type`: Type of normalization algorithm (`tree` or `forest`).\n",
    "   - `rate_drop`: Dropout rate.\n",
    "   - `skip_drop`: Probability of skipping dropout.\n",
    "\n",
    "5. **Linear Booster Specific Parameters** (when `booster=gblinear`):\n",
    "   - `lambda`: L2 regularization term on weights.\n",
    "   - `alpha`: L1 regularization term on weights.\n",
    "   - `updater`: The choice of optimization algorithm (`shotgun`, `coord_descent`, etc.)\n",
    "   - `feature_selector`: Feature selector algorithm (`cyclic`, `shuffle`, `random`, `greedy`, `thrifty`).\n",
    "\n",
    "It's worth noting that parameter tuning requires a good understanding of the meaning of each parameter, as well as the specific problem you're working on. Using tools like Grid Search or Random Search with Cross Validation can help in finding the optimal set of parameters for a given problem."
   ]
  },
  {
   "cell_type": "markdown",
   "metadata": {},
   "source": [
    "<br>\n",
    "<div class=\"alert alert-info\">\n",
    "<b>Exercise 1 End.</b>\n",
    "</div>\n",
    "\n",
    "> **Exercise complete**:\n",
    "    \n",
    "> This is a good time to \"Save and Checkpoint\"."
   ]
  },
  {
   "cell_type": "markdown",
   "metadata": {},
   "source": [
    "# 2. Predictive modeling \n",
    "\n",
    "The potential for using mobile phone metadata in studying human behavior – to provide information on health, infrastructure, and economics – is now largely recognized. In developing countries, where data is scarce, data generated by mobile phones has already helped with planning disaster response, and informing public health policy. For example, there is growing interest in predicting demographic information from metadata (Jahani et al. 2015). Mobile phone data has been used to predict the distribution of the wealth of an entire nation or to infer the asset distribution of micro-regions (composed of a few households) based on inferring the socioeconomic status of individual from their past history of mobile phone use (Blumenstock et al. 2015). While this data is a gold mine, the challenge is in using the data in a way that respects and preserves people’s privacy.\n",
    "\n",
    "In this section, you will be introduced to predictive modeling using the “Friends and Family” data set. You will use Bandicoot to generate a set of behavioral indicators that can be used as features or predictors. You will be provided with a socioeconomic status indicator to be used as the response or target variable. You will initially investigate the use of a specified learning algorithm on the data set.\n",
    "> **Note:** The philosophy and mathematics underlying the models used in this notebook are important in guiding the model building process. Understanding the technicalities of these algorithms assumes prerequisites that are beyond the scope of this course.\n",
    "\n",
    "### 2.1 Data preparation\n",
    "As discussed in the previous notebook, Bandicoot allows you to analyze and extract behavioral indicators from mobile phone metadata. With Bandicoot, it is easy to load all of the users in the “Friends and Family” data set, and automatically compute their indicators.\n",
    "\n",
    "The provided data set contains 129 users (in the study population) interacting with each other. Each CSV file contains call and text metadata records that belong to a single user."
   ]
  },
  {
   "cell_type": "markdown",
   "metadata": {},
   "source": [
    "#### Load libraries and set options"
   ]
  },
  {
   "cell_type": "code",
   "execution_count": 125,
   "metadata": {},
   "outputs": [],
   "source": [
    "# Load libraries and set options.\n",
    "import matplotlib.pyplot as plt\n",
    "import bandicoot as bc\n",
    "from tqdm import tqdm_notebook as tqdm  # Interactive progress bar.\n",
    "import glob\n",
    "import os\n",
    "import pandas as pd\n",
    "import numpy as np\n",
    "from numpy.core.umath_tests import inner1d\n",
    "from scipy.stats import norm\n",
    "%matplotlib inline\n",
    "plt.rcParams['figure.figsize'] = (15, 9) \n",
    "plt.rcParams['axes.titlesize'] = 'large'\n",
    "\n",
    "## For spectral graph partitioning.\n",
    "from sklearn.cluster import spectral_clustering as spc\n",
    "\n",
    "## Supervised learning.\n",
    "from sklearn import svm, linear_model, ensemble, neighbors, tree\n",
    "from sklearn import metrics, preprocessing\n",
    "from sklearn.model_selection import StratifiedKFold, KFold\n",
    "from sklearn.metrics import roc_curve, auc\n",
    "from sklearn.model_selection import GridSearchCV\n",
    "from sklearn.model_selection import cross_val_score\n",
    "from sklearn.model_selection import train_test_split\n",
    "from sklearn.linear_model import LogisticRegression\n",
    "from sklearn.svm import SVC\n",
    "from sklearn.ensemble import RandomForestClassifier\n",
    "from sklearn.pipeline import make_pipeline\n",
    "from sklearn.impute import SimpleImputer\n",
    "\n",
    "\n",
    "from mlxtend.classifier import EnsembleVoteClassifier\n",
    "from mlxtend.classifier import Perceptron\n",
    "from mlxtend.classifier import MultiLayerPerceptron as MLP\n",
    "\n",
    "\n",
    "from sklearn.feature_selection import SelectKBest, f_regression\n"
   ]
  },
  {
   "cell_type": "markdown",
   "metadata": {},
   "source": [
    "#### 2.1.1 Create a function to load a user and return all the indicators"
   ]
  },
  {
   "cell_type": "code",
   "execution_count": 126,
   "metadata": {},
   "outputs": [],
   "source": [
    "def make_features(user_id):\n",
    "    '''\n",
    "    Compute and return indicators of a specific user\n",
    "    '''\n",
    "    user = bc.read_csv(user_id, \"./bandicoot-training-master/data-fnf/records/\",\n",
    "                       attributes_path=\"../data/bandicoot/attributes/subsector/\",\n",
    "                       describe=False, warnings=False)\n",
    "\n",
    "    return bc.utils.all(user, summary='extended', split_day=True, split_week=True)"
   ]
  },
  {
   "cell_type": "markdown",
   "metadata": {},
   "source": [
    "#### 2.1.2 Create a list of users with their features from all the CSV files "
   ]
  },
  {
   "cell_type": "code",
   "execution_count": 127,
   "metadata": {
    "scrolled": true
   },
   "outputs": [
    {
     "name": "stdout",
     "output_type": "stream",
     "text": [
      "Successfully exported 129 object(s) to fnf_features.csv\n"
     ]
    }
   ],
   "source": [
    "# Read all the csv files in the in \"./data-fnf/records\" directory.\n",
    "all_features = []\n",
    "\n",
    "# Process all the files in the specified directory using the function created previously.\n",
    "for f in glob.glob(\"./bandicoot-training-master/data-fnf/records/*.csv\"):\n",
    "    user_id = os.path.basename(f)[:-4]  # Remove .csv extension.\n",
    "    all_features.append(make_features(user_id))\n",
    "    \n",
    "# Export all features in one file (fnf_features.csv).\n",
    "bc.io.to_csv(all_features, 'fnf_features.csv')"
   ]
  },
  {
   "cell_type": "markdown",
   "metadata": {},
   "source": [
    "#### 2.1.3 Load the features and attributes to a DataFrame"
   ]
  },
  {
   "cell_type": "code",
   "execution_count": 128,
   "metadata": {
    "scrolled": true
   },
   "outputs": [
    {
     "data": {
      "text/html": [
       "<div>\n",
       "<style scoped>\n",
       "    .dataframe tbody tr th:only-of-type {\n",
       "        vertical-align: middle;\n",
       "    }\n",
       "\n",
       "    .dataframe tbody tr th {\n",
       "        vertical-align: top;\n",
       "    }\n",
       "\n",
       "    .dataframe thead th {\n",
       "        text-align: right;\n",
       "    }\n",
       "</style>\n",
       "<table border=\"1\" class=\"dataframe\">\n",
       "  <thead>\n",
       "    <tr style=\"text-align: right;\">\n",
       "      <th></th>\n",
       "      <th>name</th>\n",
       "      <th>reporting__antennas_path</th>\n",
       "      <th>reporting__attributes_path</th>\n",
       "      <th>reporting__recharges_path</th>\n",
       "      <th>reporting__version</th>\n",
       "      <th>reporting__code_signature</th>\n",
       "      <th>reporting__groupby</th>\n",
       "      <th>reporting__split_week</th>\n",
       "      <th>reporting__split_day</th>\n",
       "      <th>reporting__start_time</th>\n",
       "      <th>...</th>\n",
       "      <th>frequent_antennas__weekend__allday__std</th>\n",
       "      <th>frequent_antennas__weekend__day__mean</th>\n",
       "      <th>frequent_antennas__weekend__day__std</th>\n",
       "      <th>frequent_antennas__weekend__night__mean</th>\n",
       "      <th>frequent_antennas__weekend__night__std</th>\n",
       "      <th>churn_rate__mean</th>\n",
       "      <th>churn_rate__std</th>\n",
       "      <th>attributes__individual_id</th>\n",
       "      <th>attributes__gender</th>\n",
       "      <th>attributes__sub</th>\n",
       "    </tr>\n",
       "  </thead>\n",
       "  <tbody>\n",
       "    <tr>\n",
       "      <th>0</th>\n",
       "      <td>fa10-01-01</td>\n",
       "      <td>NaN</td>\n",
       "      <td>../data/bandicoot/attributes/subsector/</td>\n",
       "      <td>../data/bandicoot/attributes/subsector/</td>\n",
       "      <td>0.6.0</td>\n",
       "      <td>393d9a4492531c67c9f48116813b98e8157142be</td>\n",
       "      <td>week</td>\n",
       "      <td>True</td>\n",
       "      <td>True</td>\n",
       "      <td>2010-09-06 12:35:31</td>\n",
       "      <td>...</td>\n",
       "      <td>0.0</td>\n",
       "      <td>1.0</td>\n",
       "      <td>0.0</td>\n",
       "      <td>1.0</td>\n",
       "      <td>0.0</td>\n",
       "      <td>0.0</td>\n",
       "      <td>0.0</td>\n",
       "      <td>fa10-01-01</td>\n",
       "      <td>male</td>\n",
       "      <td>0.0</td>\n",
       "    </tr>\n",
       "    <tr>\n",
       "      <th>1</th>\n",
       "      <td>fa10-01-02</td>\n",
       "      <td>NaN</td>\n",
       "      <td>../data/bandicoot/attributes/subsector/</td>\n",
       "      <td>../data/bandicoot/attributes/subsector/</td>\n",
       "      <td>0.6.0</td>\n",
       "      <td>393d9a4492531c67c9f48116813b98e8157142be</td>\n",
       "      <td>week</td>\n",
       "      <td>True</td>\n",
       "      <td>True</td>\n",
       "      <td>2010-09-06 12:35:17</td>\n",
       "      <td>...</td>\n",
       "      <td>0.0</td>\n",
       "      <td>1.0</td>\n",
       "      <td>0.0</td>\n",
       "      <td>1.0</td>\n",
       "      <td>0.0</td>\n",
       "      <td>0.0</td>\n",
       "      <td>0.0</td>\n",
       "      <td>fa10-01-02</td>\n",
       "      <td>female</td>\n",
       "      <td>0.0</td>\n",
       "    </tr>\n",
       "    <tr>\n",
       "      <th>2</th>\n",
       "      <td>fa10-01-03</td>\n",
       "      <td>NaN</td>\n",
       "      <td>../data/bandicoot/attributes/subsector/</td>\n",
       "      <td>../data/bandicoot/attributes/subsector/</td>\n",
       "      <td>0.6.0</td>\n",
       "      <td>393d9a4492531c67c9f48116813b98e8157142be</td>\n",
       "      <td>week</td>\n",
       "      <td>True</td>\n",
       "      <td>True</td>\n",
       "      <td>2010-09-07 12:08:23</td>\n",
       "      <td>...</td>\n",
       "      <td>0.0</td>\n",
       "      <td>1.0</td>\n",
       "      <td>0.0</td>\n",
       "      <td>1.0</td>\n",
       "      <td>0.0</td>\n",
       "      <td>0.0</td>\n",
       "      <td>0.0</td>\n",
       "      <td>fa10-01-03</td>\n",
       "      <td>male</td>\n",
       "      <td>1.0</td>\n",
       "    </tr>\n",
       "    <tr>\n",
       "      <th>3</th>\n",
       "      <td>fa10-01-04</td>\n",
       "      <td>NaN</td>\n",
       "      <td>../data/bandicoot/attributes/subsector/</td>\n",
       "      <td>../data/bandicoot/attributes/subsector/</td>\n",
       "      <td>0.6.0</td>\n",
       "      <td>393d9a4492531c67c9f48116813b98e8157142be</td>\n",
       "      <td>week</td>\n",
       "      <td>True</td>\n",
       "      <td>True</td>\n",
       "      <td>2010-09-20 13:48:57</td>\n",
       "      <td>...</td>\n",
       "      <td>0.0</td>\n",
       "      <td>1.0</td>\n",
       "      <td>0.0</td>\n",
       "      <td>1.0</td>\n",
       "      <td>0.0</td>\n",
       "      <td>0.0</td>\n",
       "      <td>0.0</td>\n",
       "      <td>fa10-01-04</td>\n",
       "      <td>female</td>\n",
       "      <td>1.0</td>\n",
       "    </tr>\n",
       "    <tr>\n",
       "      <th>4</th>\n",
       "      <td>fa10-01-05</td>\n",
       "      <td>NaN</td>\n",
       "      <td>../data/bandicoot/attributes/subsector/</td>\n",
       "      <td>../data/bandicoot/attributes/subsector/</td>\n",
       "      <td>0.6.0</td>\n",
       "      <td>393d9a4492531c67c9f48116813b98e8157142be</td>\n",
       "      <td>week</td>\n",
       "      <td>True</td>\n",
       "      <td>True</td>\n",
       "      <td>2010-09-22 16:04:19</td>\n",
       "      <td>...</td>\n",
       "      <td>0.0</td>\n",
       "      <td>1.0</td>\n",
       "      <td>0.0</td>\n",
       "      <td>1.0</td>\n",
       "      <td>0.0</td>\n",
       "      <td>0.0</td>\n",
       "      <td>0.0</td>\n",
       "      <td>fa10-01-05</td>\n",
       "      <td>male</td>\n",
       "      <td>1.0</td>\n",
       "    </tr>\n",
       "  </tbody>\n",
       "</table>\n",
       "<p>5 rows × 1484 columns</p>\n",
       "</div>"
      ],
      "text/plain": [
       "         name  reporting__antennas_path  \\\n",
       "0  fa10-01-01                       NaN   \n",
       "1  fa10-01-02                       NaN   \n",
       "2  fa10-01-03                       NaN   \n",
       "3  fa10-01-04                       NaN   \n",
       "4  fa10-01-05                       NaN   \n",
       "\n",
       "                reporting__attributes_path  \\\n",
       "0  ../data/bandicoot/attributes/subsector/   \n",
       "1  ../data/bandicoot/attributes/subsector/   \n",
       "2  ../data/bandicoot/attributes/subsector/   \n",
       "3  ../data/bandicoot/attributes/subsector/   \n",
       "4  ../data/bandicoot/attributes/subsector/   \n",
       "\n",
       "                 reporting__recharges_path reporting__version  \\\n",
       "0  ../data/bandicoot/attributes/subsector/              0.6.0   \n",
       "1  ../data/bandicoot/attributes/subsector/              0.6.0   \n",
       "2  ../data/bandicoot/attributes/subsector/              0.6.0   \n",
       "3  ../data/bandicoot/attributes/subsector/              0.6.0   \n",
       "4  ../data/bandicoot/attributes/subsector/              0.6.0   \n",
       "\n",
       "                  reporting__code_signature reporting__groupby  \\\n",
       "0  393d9a4492531c67c9f48116813b98e8157142be               week   \n",
       "1  393d9a4492531c67c9f48116813b98e8157142be               week   \n",
       "2  393d9a4492531c67c9f48116813b98e8157142be               week   \n",
       "3  393d9a4492531c67c9f48116813b98e8157142be               week   \n",
       "4  393d9a4492531c67c9f48116813b98e8157142be               week   \n",
       "\n",
       "   reporting__split_week  reporting__split_day reporting__start_time  ...  \\\n",
       "0                   True                  True   2010-09-06 12:35:31  ...   \n",
       "1                   True                  True   2010-09-06 12:35:17  ...   \n",
       "2                   True                  True   2010-09-07 12:08:23  ...   \n",
       "3                   True                  True   2010-09-20 13:48:57  ...   \n",
       "4                   True                  True   2010-09-22 16:04:19  ...   \n",
       "\n",
       "  frequent_antennas__weekend__allday__std  \\\n",
       "0                                     0.0   \n",
       "1                                     0.0   \n",
       "2                                     0.0   \n",
       "3                                     0.0   \n",
       "4                                     0.0   \n",
       "\n",
       "  frequent_antennas__weekend__day__mean frequent_antennas__weekend__day__std  \\\n",
       "0                                   1.0                                  0.0   \n",
       "1                                   1.0                                  0.0   \n",
       "2                                   1.0                                  0.0   \n",
       "3                                   1.0                                  0.0   \n",
       "4                                   1.0                                  0.0   \n",
       "\n",
       "  frequent_antennas__weekend__night__mean  \\\n",
       "0                                     1.0   \n",
       "1                                     1.0   \n",
       "2                                     1.0   \n",
       "3                                     1.0   \n",
       "4                                     1.0   \n",
       "\n",
       "   frequent_antennas__weekend__night__std  churn_rate__mean  churn_rate__std  \\\n",
       "0                                     0.0               0.0              0.0   \n",
       "1                                     0.0               0.0              0.0   \n",
       "2                                     0.0               0.0              0.0   \n",
       "3                                     0.0               0.0              0.0   \n",
       "4                                     0.0               0.0              0.0   \n",
       "\n",
       "   attributes__individual_id  attributes__gender  attributes__sub  \n",
       "0                 fa10-01-01                male              0.0  \n",
       "1                 fa10-01-02              female              0.0  \n",
       "2                 fa10-01-03                male              1.0  \n",
       "3                 fa10-01-04              female              1.0  \n",
       "4                 fa10-01-05                male              1.0  \n",
       "\n",
       "[5 rows x 1484 columns]"
      ]
     },
     "execution_count": 128,
     "metadata": {},
     "output_type": "execute_result"
    }
   ],
   "source": [
    "# Load the features and attributes to a DataFrame using the Pandas library.\n",
    "df = pd.read_csv('fnf_features.csv')\n",
    "df.head()"
   ]
  },
  {
   "cell_type": "code",
   "execution_count": 129,
   "metadata": {},
   "outputs": [
    {
     "data": {
      "text/plain": [
       "(129, 1484)"
      ]
     },
     "execution_count": 129,
     "metadata": {},
     "output_type": "execute_result"
    }
   ],
   "source": [
    "df.shape"
   ]
  },
  {
   "cell_type": "code",
   "execution_count": 130,
   "metadata": {},
   "outputs": [
    {
     "name": "stdout",
     "output_type": "stream",
     "text": [
      "<class 'pandas.core.frame.DataFrame'>\n",
      "RangeIndex: 129 entries, 0 to 128\n",
      "Columns: 1484 entries, name to attributes__sub\n",
      "dtypes: bool(8), float64(1445), int64(18), object(13)\n",
      "memory usage: 1.5+ MB\n"
     ]
    }
   ],
   "source": [
    "df.info()"
   ]
  },
  {
   "cell_type": "code",
   "execution_count": 131,
   "metadata": {},
   "outputs": [
    {
     "data": {
      "text/plain": [
       "0    0.0\n",
       "1    0.0\n",
       "2    1.0\n",
       "3    1.0\n",
       "4    1.0\n",
       "Name: attributes__sub, dtype: float64"
      ]
     },
     "execution_count": 131,
     "metadata": {},
     "output_type": "execute_result"
    }
   ],
   "source": [
    "df['attributes__sub'].head()"
   ]
  },
  {
   "cell_type": "markdown",
   "metadata": {},
   "source": [
    "### 2.2 Defining the target variable\n",
    "\n",
    "In many situations, it is often the case that a piece of important information is of interest and use in, for example, informing policy initiatives or understanding human behavior at scale. However, accessing this information is difficult, and you have to estimate it using other approaches. Particularly with regard to the developing world, a [data revolution research report](https://www.odi.org/sites/odi.org.uk/files/odi-assets/publications-opinion-files/9604.pdf) by the Overseas Development Institute (2015) noted that:\n",
    "> \"Data are not just about measuring changes, they also facilitate and catalyse that change. Of course, good quality numbers will not change people’s lives in themselves. But to target the poorest systematically, to lift and keep them out of poverty, even the most willing governments cannot efficiently deliver services if they do not know who those people are, where they live and what they need. Nor do they know where their resources will have the greatest impact.\"\n",
    "<br> <br>\n",
    "<div align=\"right\">(Overseas Development Institute 2015)</div>\n",
    "\n",
    "In the following example, you have been provided with a proxy indicator for socioeconomic status that can be appended to the “Friends and Family” data set. (You could also use other attributes of interest such as age or gender, as demonstrated in a study of [age and gender as seen through mobile phone usage patterns](http://arxiv.org/abs/1511.06656)).\n",
    "\n",
    "\n",
    "\n",
    "\n",
    "\n",
    "### 2.3 Modeling objective\n",
    "The modeling objective is building a model that can be used to predict the socioeconomic status of an individual using their history of mobile phone use. The socioeconomic status is a binary variable, with two possible values or classes – 0 and 1. Model fitting involves trying to find a rule (model) that can identify an individual's socioeconomic status.\n",
    "\n",
    "### 2.4 Classification\n",
    "\n",
    "To better understand the goal in classification, it is best to use an example. The [Iris Data Set](https://archive.ics.uci.edu/ml/datasets/Iris) is perhaps one of the best-known and widely-used data sets in pattern recognition and classification literature. The data set contains 3 (**Iris Setosa**, **Iris Versicolor**, **Iris Virginica**) classes of 50 instances each, where each class refers to a type of iris plant. One class is linearly separable from the other two; the latter two are not linearly separable from each other. Running the cell below gives a 2-dimensional scatterplot of the data using only the sepal features. The class information is overlayed using different colors.\n",
    "\n",
    "> **Note:** Two-dimensional problems are widely used to illustrate fundamental concepts because they easily convey what is happening. In most problems that you will be faced with (such as the “Friends and Family” data that you will be working with in this notebook), the data is high-dimensional and cannot be visualized in the same way as can be done for the iris data, in the demonstration below."
   ]
  },
  {
   "cell_type": "markdown",
   "metadata": {},
   "source": [
    "### 2.4.1 High Dimensionality\n",
    "High-dimensional data refers to datasets that have a large number of features (or attributes) relative to the number of observations. The challenge with high-dimensional data in machine learning, often termed the \"curse of dimensionality,\" includes:\n",
    "Overfitting: With many features and not enough samples, models can become overly complex and fit to the noise rather than the underlying trend. This means they perform poorly on unseen data.\n",
    "\n",
    "- **Computational Complexity**: Processing and analyzing high-dimensional data can be computationally intensive and time-consuming.\n",
    "\n",
    "- **Data Sparsity**: As dimensionality increases, the volume of the space increases so rapidly that the available data become sparse. This sparsity makes clustering and nearest neighbor searches less meaningful.\n",
    "\n",
    "- **Decreased Model Performance**: Algorithms that rely on distance calculations (like k-means or k-nearest neighbors) can suffer in performance as distances in high-dimensional spaces tend to converge.\n",
    "\n",
    "- **Decreased Interpretability**: The more features a dataset has, the harder it can be to visualize and interpret.\n",
    "\n",
    "To address these challenges, various techniques like dimensionality reduction (e.g., PCA, t-SNE), feature selection, and regularization methods (e.g., L1 or L2 regularization) are employed. Regularization introduces a penalty on the magnitude of the model's parameters. This penalty discourages overly complex models which can arise due to high dimensionality. By doing so, it can reduce variance and improve the model's generalization to new data."
   ]
  },
  {
   "cell_type": "code",
   "execution_count": 132,
   "metadata": {},
   "outputs": [
    {
     "data": {
      "image/png": "[encoded data removed]",
      "text/plain": [
       "<Figure size 1500x900 with 1 Axes>"
      ]
     },
     "metadata": {},
     "output_type": "display_data"
    },
    {
     "data": {
      "text/plain": [
       "<Figure size 1500x900 with 0 Axes>"
      ]
     },
     "metadata": {},
     "output_type": "display_data"
    }
   ],
   "source": [
    "%matplotlib inline\n",
    "plt.rcParams['figure.figsize'] = (15, 9) \n",
    "plt.rcParams['axes.titlesize'] = 'large'\n",
    "%run plot_iris2d.py"
   ]
  },
  {
   "cell_type": "markdown",
   "metadata": {},
   "source": [
    "Given the data set plotted above, the classification objective is to build a model that can predict the class of iris plant, given the following measurements: sepal length, and sepal width (measured in centimeters). In the following, both linear and nonlinear classification models are demonstrated using these features."
   ]
  },
  {
   "cell_type": "code",
   "execution_count": 133,
   "metadata": {},
   "outputs": [
    {
     "name": "stdout",
     "output_type": "stream",
     "text": [
      "\n",
      "================================\n",
      "     Classification DEMO\n",
      "================================\n",
      "\n",
      "A demonstration of solving a classification problem.\n",
      "It will plot the decision boundaries for each class.\n",
      "\n"
     ]
    },
    {
     "data": {
      "image/png": "[encoded data removed]",
      "text/plain": [
       "<Figure size 1500x900 with 2 Axes>"
      ]
     },
     "metadata": {},
     "output_type": "display_data"
    },
    {
     "data": {
      "text/plain": [
       "<Figure size 1500x900 with 0 Axes>"
      ]
     },
     "metadata": {},
     "output_type": "display_data"
    }
   ],
   "source": [
    "# A demonstration of classification using linear and nonlinear algorithms.\n",
    "%run plot_classification.py"
   ]
  },
  {
   "cell_type": "markdown",
   "metadata": {},
   "source": [
    "In each case (linear and nonlinear model), the resulting classification model is described by decision boundaries that separate the space into three different-colored areas, each representing the predicted class of an iris plant given features with the values on the $x$ and $y$ axes, that is\n",
    "\n",
    "$P(\\text{class } | \\text{ sepal length}, \\text{sepal width})$.\n",
    "\n",
    "For the selected features, notice that one of the classes (denoted by red circles) is easily separated from the other two classes. These two groups (denoted by green and blue circles) are not easily separable – at least not without using complex models. Unfortunately, the more flexible the model class, the higher the variance, as discussed before.\n",
    "\n",
    "To assess model performance, one approach is to compute the misclassification error (that is, number of incorrectly classified cases divided by the number of total cases in the data) for each model. The model with the lower misclassification error is then selected. In practice, the data is first split into training, validation, and test sets. Model fitting and parameter tuning is done using only the training and validation sets. The test set is used **only once** right at the end of the model fitting iteration to report the expected performance of the model on unseen data."
   ]
  },
  {
   "cell_type": "markdown",
   "metadata": {},
   "source": [
    "### 2.5 Exploratory data analysis\n",
    "\n",
    "Exploratory data analysis (EDA) is a critical first step in any data analysis project, and is useful for the following reasons:\n",
    "\n",
    "- Detecting errors in data;\n",
    "- Validating our assumptions;\n",
    "- Guide in the selection of appropriate models;\n",
    "- Determining relationships among the explanatory variables; and\n",
    "- Assessing the direction and size (roughly) of relationships between predictor/explanatory and response/target variables.\n",
    "\n",
    "You have already been using a number of basic EDA tools (\"df.info()\" and \"df.describe()\") that analysts use to get a glimpse of the data they will be working with. Other useful EDA approaches include the preliminary screening of predictor variables to assess how they relate to the response variable(s). The following section demonstrates how you can explore differences in the distributions of features between the groups you are interested in."
   ]
  },
  {
   "cell_type": "code",
   "execution_count": 134,
   "metadata": {
    "scrolled": true
   },
   "outputs": [
    {
     "data": {
      "text/html": [
       "<div>\n",
       "<style scoped>\n",
       "    .dataframe tbody tr th:only-of-type {\n",
       "        vertical-align: middle;\n",
       "    }\n",
       "\n",
       "    .dataframe tbody tr th {\n",
       "        vertical-align: top;\n",
       "    }\n",
       "\n",
       "    .dataframe thead th {\n",
       "        text-align: right;\n",
       "    }\n",
       "</style>\n",
       "<table border=\"1\" class=\"dataframe\">\n",
       "  <thead>\n",
       "    <tr style=\"text-align: right;\">\n",
       "      <th></th>\n",
       "      <th>name</th>\n",
       "      <th>reporting__antennas_path</th>\n",
       "      <th>reporting__attributes_path</th>\n",
       "      <th>reporting__recharges_path</th>\n",
       "      <th>reporting__version</th>\n",
       "      <th>reporting__code_signature</th>\n",
       "      <th>reporting__groupby</th>\n",
       "      <th>reporting__split_week</th>\n",
       "      <th>reporting__split_day</th>\n",
       "      <th>reporting__start_time</th>\n",
       "      <th>...</th>\n",
       "      <th>frequent_antennas__weekend__allday__std</th>\n",
       "      <th>frequent_antennas__weekend__day__mean</th>\n",
       "      <th>frequent_antennas__weekend__day__std</th>\n",
       "      <th>frequent_antennas__weekend__night__mean</th>\n",
       "      <th>frequent_antennas__weekend__night__std</th>\n",
       "      <th>churn_rate__mean</th>\n",
       "      <th>churn_rate__std</th>\n",
       "      <th>attributes__individual_id</th>\n",
       "      <th>attributes__gender</th>\n",
       "      <th>attributes__sub</th>\n",
       "    </tr>\n",
       "  </thead>\n",
       "  <tbody>\n",
       "    <tr>\n",
       "      <th>0</th>\n",
       "      <td>fa10-01-01</td>\n",
       "      <td>NaN</td>\n",
       "      <td>../data/bandicoot/attributes/subsector/</td>\n",
       "      <td>../data/bandicoot/attributes/subsector/</td>\n",
       "      <td>0.6.0</td>\n",
       "      <td>393d9a4492531c67c9f48116813b98e8157142be</td>\n",
       "      <td>week</td>\n",
       "      <td>True</td>\n",
       "      <td>True</td>\n",
       "      <td>2010-09-06 12:35:31</td>\n",
       "      <td>...</td>\n",
       "      <td>0.0</td>\n",
       "      <td>1.0</td>\n",
       "      <td>0.0</td>\n",
       "      <td>1.0</td>\n",
       "      <td>0.0</td>\n",
       "      <td>0.0</td>\n",
       "      <td>0.0</td>\n",
       "      <td>fa10-01-01</td>\n",
       "      <td>male</td>\n",
       "      <td>0.0</td>\n",
       "    </tr>\n",
       "    <tr>\n",
       "      <th>1</th>\n",
       "      <td>fa10-01-02</td>\n",
       "      <td>NaN</td>\n",
       "      <td>../data/bandicoot/attributes/subsector/</td>\n",
       "      <td>../data/bandicoot/attributes/subsector/</td>\n",
       "      <td>0.6.0</td>\n",
       "      <td>393d9a4492531c67c9f48116813b98e8157142be</td>\n",
       "      <td>week</td>\n",
       "      <td>True</td>\n",
       "      <td>True</td>\n",
       "      <td>2010-09-06 12:35:17</td>\n",
       "      <td>...</td>\n",
       "      <td>0.0</td>\n",
       "      <td>1.0</td>\n",
       "      <td>0.0</td>\n",
       "      <td>1.0</td>\n",
       "      <td>0.0</td>\n",
       "      <td>0.0</td>\n",
       "      <td>0.0</td>\n",
       "      <td>fa10-01-02</td>\n",
       "      <td>female</td>\n",
       "      <td>0.0</td>\n",
       "    </tr>\n",
       "    <tr>\n",
       "      <th>2</th>\n",
       "      <td>fa10-01-03</td>\n",
       "      <td>NaN</td>\n",
       "      <td>../data/bandicoot/attributes/subsector/</td>\n",
       "      <td>../data/bandicoot/attributes/subsector/</td>\n",
       "      <td>0.6.0</td>\n",
       "      <td>393d9a4492531c67c9f48116813b98e8157142be</td>\n",
       "      <td>week</td>\n",
       "      <td>True</td>\n",
       "      <td>True</td>\n",
       "      <td>2010-09-07 12:08:23</td>\n",
       "      <td>...</td>\n",
       "      <td>0.0</td>\n",
       "      <td>1.0</td>\n",
       "      <td>0.0</td>\n",
       "      <td>1.0</td>\n",
       "      <td>0.0</td>\n",
       "      <td>0.0</td>\n",
       "      <td>0.0</td>\n",
       "      <td>fa10-01-03</td>\n",
       "      <td>male</td>\n",
       "      <td>1.0</td>\n",
       "    </tr>\n",
       "    <tr>\n",
       "      <th>3</th>\n",
       "      <td>fa10-01-04</td>\n",
       "      <td>NaN</td>\n",
       "      <td>../data/bandicoot/attributes/subsector/</td>\n",
       "      <td>../data/bandicoot/attributes/subsector/</td>\n",
       "      <td>0.6.0</td>\n",
       "      <td>393d9a4492531c67c9f48116813b98e8157142be</td>\n",
       "      <td>week</td>\n",
       "      <td>True</td>\n",
       "      <td>True</td>\n",
       "      <td>2010-09-20 13:48:57</td>\n",
       "      <td>...</td>\n",
       "      <td>0.0</td>\n",
       "      <td>1.0</td>\n",
       "      <td>0.0</td>\n",
       "      <td>1.0</td>\n",
       "      <td>0.0</td>\n",
       "      <td>0.0</td>\n",
       "      <td>0.0</td>\n",
       "      <td>fa10-01-04</td>\n",
       "      <td>female</td>\n",
       "      <td>1.0</td>\n",
       "    </tr>\n",
       "    <tr>\n",
       "      <th>4</th>\n",
       "      <td>fa10-01-05</td>\n",
       "      <td>NaN</td>\n",
       "      <td>../data/bandicoot/attributes/subsector/</td>\n",
       "      <td>../data/bandicoot/attributes/subsector/</td>\n",
       "      <td>0.6.0</td>\n",
       "      <td>393d9a4492531c67c9f48116813b98e8157142be</td>\n",
       "      <td>week</td>\n",
       "      <td>True</td>\n",
       "      <td>True</td>\n",
       "      <td>2010-09-22 16:04:19</td>\n",
       "      <td>...</td>\n",
       "      <td>0.0</td>\n",
       "      <td>1.0</td>\n",
       "      <td>0.0</td>\n",
       "      <td>1.0</td>\n",
       "      <td>0.0</td>\n",
       "      <td>0.0</td>\n",
       "      <td>0.0</td>\n",
       "      <td>fa10-01-05</td>\n",
       "      <td>male</td>\n",
       "      <td>1.0</td>\n",
       "    </tr>\n",
       "    <tr>\n",
       "      <th>5</th>\n",
       "      <td>fa10-01-06</td>\n",
       "      <td>NaN</td>\n",
       "      <td>../data/bandicoot/attributes/subsector/</td>\n",
       "      <td>../data/bandicoot/attributes/subsector/</td>\n",
       "      <td>0.6.0</td>\n",
       "      <td>393d9a4492531c67c9f48116813b98e8157142be</td>\n",
       "      <td>week</td>\n",
       "      <td>True</td>\n",
       "      <td>True</td>\n",
       "      <td>2010-09-07 09:08:02</td>\n",
       "      <td>...</td>\n",
       "      <td>0.0</td>\n",
       "      <td>1.0</td>\n",
       "      <td>0.0</td>\n",
       "      <td>1.0</td>\n",
       "      <td>0.0</td>\n",
       "      <td>0.0</td>\n",
       "      <td>0.0</td>\n",
       "      <td>fa10-01-06</td>\n",
       "      <td>female</td>\n",
       "      <td>1.0</td>\n",
       "    </tr>\n",
       "    <tr>\n",
       "      <th>6</th>\n",
       "      <td>fa10-01-07</td>\n",
       "      <td>NaN</td>\n",
       "      <td>../data/bandicoot/attributes/subsector/</td>\n",
       "      <td>../data/bandicoot/attributes/subsector/</td>\n",
       "      <td>0.6.0</td>\n",
       "      <td>393d9a4492531c67c9f48116813b98e8157142be</td>\n",
       "      <td>week</td>\n",
       "      <td>True</td>\n",
       "      <td>True</td>\n",
       "      <td>2010-09-08 11:10:59</td>\n",
       "      <td>...</td>\n",
       "      <td>0.0</td>\n",
       "      <td>1.0</td>\n",
       "      <td>0.0</td>\n",
       "      <td>1.0</td>\n",
       "      <td>0.0</td>\n",
       "      <td>0.0</td>\n",
       "      <td>0.0</td>\n",
       "      <td>fa10-01-07</td>\n",
       "      <td>male</td>\n",
       "      <td>1.0</td>\n",
       "    </tr>\n",
       "    <tr>\n",
       "      <th>8</th>\n",
       "      <td>fa10-01-09</td>\n",
       "      <td>NaN</td>\n",
       "      <td>../data/bandicoot/attributes/subsector/</td>\n",
       "      <td>../data/bandicoot/attributes/subsector/</td>\n",
       "      <td>0.6.0</td>\n",
       "      <td>393d9a4492531c67c9f48116813b98e8157142be</td>\n",
       "      <td>week</td>\n",
       "      <td>True</td>\n",
       "      <td>True</td>\n",
       "      <td>2010-09-13 11:48:30</td>\n",
       "      <td>...</td>\n",
       "      <td>0.0</td>\n",
       "      <td>1.0</td>\n",
       "      <td>0.0</td>\n",
       "      <td>1.0</td>\n",
       "      <td>0.0</td>\n",
       "      <td>0.0</td>\n",
       "      <td>0.0</td>\n",
       "      <td>fa10-01-09</td>\n",
       "      <td>male</td>\n",
       "      <td>0.0</td>\n",
       "    </tr>\n",
       "    <tr>\n",
       "      <th>9</th>\n",
       "      <td>fa10-01-10</td>\n",
       "      <td>NaN</td>\n",
       "      <td>../data/bandicoot/attributes/subsector/</td>\n",
       "      <td>../data/bandicoot/attributes/subsector/</td>\n",
       "      <td>0.6.0</td>\n",
       "      <td>393d9a4492531c67c9f48116813b98e8157142be</td>\n",
       "      <td>week</td>\n",
       "      <td>True</td>\n",
       "      <td>True</td>\n",
       "      <td>2010-09-13 11:48:45</td>\n",
       "      <td>...</td>\n",
       "      <td>0.0</td>\n",
       "      <td>1.0</td>\n",
       "      <td>0.0</td>\n",
       "      <td>1.0</td>\n",
       "      <td>0.0</td>\n",
       "      <td>0.0</td>\n",
       "      <td>0.0</td>\n",
       "      <td>fa10-01-10</td>\n",
       "      <td>female</td>\n",
       "      <td>0.0</td>\n",
       "    </tr>\n",
       "    <tr>\n",
       "      <th>12</th>\n",
       "      <td>fa10-01-13</td>\n",
       "      <td>NaN</td>\n",
       "      <td>../data/bandicoot/attributes/subsector/</td>\n",
       "      <td>../data/bandicoot/attributes/subsector/</td>\n",
       "      <td>0.6.0</td>\n",
       "      <td>393d9a4492531c67c9f48116813b98e8157142be</td>\n",
       "      <td>week</td>\n",
       "      <td>True</td>\n",
       "      <td>True</td>\n",
       "      <td>2010-09-20 20:03:53</td>\n",
       "      <td>...</td>\n",
       "      <td>0.0</td>\n",
       "      <td>1.0</td>\n",
       "      <td>0.0</td>\n",
       "      <td>1.0</td>\n",
       "      <td>0.0</td>\n",
       "      <td>0.0</td>\n",
       "      <td>0.0</td>\n",
       "      <td>fa10-01-13</td>\n",
       "      <td>male</td>\n",
       "      <td>0.0</td>\n",
       "    </tr>\n",
       "  </tbody>\n",
       "</table>\n",
       "<p>10 rows × 1484 columns</p>\n",
       "</div>"
      ],
      "text/plain": [
       "          name  reporting__antennas_path  \\\n",
       "0   fa10-01-01                       NaN   \n",
       "1   fa10-01-02                       NaN   \n",
       "2   fa10-01-03                       NaN   \n",
       "3   fa10-01-04                       NaN   \n",
       "4   fa10-01-05                       NaN   \n",
       "5   fa10-01-06                       NaN   \n",
       "6   fa10-01-07                       NaN   \n",
       "8   fa10-01-09                       NaN   \n",
       "9   fa10-01-10                       NaN   \n",
       "12  fa10-01-13                       NaN   \n",
       "\n",
       "                 reporting__attributes_path  \\\n",
       "0   ../data/bandicoot/attributes/subsector/   \n",
       "1   ../data/bandicoot/attributes/subsector/   \n",
       "2   ../data/bandicoot/attributes/subsector/   \n",
       "3   ../data/bandicoot/attributes/subsector/   \n",
       "4   ../data/bandicoot/attributes/subsector/   \n",
       "5   ../data/bandicoot/attributes/subsector/   \n",
       "6   ../data/bandicoot/attributes/subsector/   \n",
       "8   ../data/bandicoot/attributes/subsector/   \n",
       "9   ../data/bandicoot/attributes/subsector/   \n",
       "12  ../data/bandicoot/attributes/subsector/   \n",
       "\n",
       "                  reporting__recharges_path reporting__version  \\\n",
       "0   ../data/bandicoot/attributes/subsector/              0.6.0   \n",
       "1   ../data/bandicoot/attributes/subsector/              0.6.0   \n",
       "2   ../data/bandicoot/attributes/subsector/              0.6.0   \n",
       "3   ../data/bandicoot/attributes/subsector/              0.6.0   \n",
       "4   ../data/bandicoot/attributes/subsector/              0.6.0   \n",
       "5   ../data/bandicoot/attributes/subsector/              0.6.0   \n",
       "6   ../data/bandicoot/attributes/subsector/              0.6.0   \n",
       "8   ../data/bandicoot/attributes/subsector/              0.6.0   \n",
       "9   ../data/bandicoot/attributes/subsector/              0.6.0   \n",
       "12  ../data/bandicoot/attributes/subsector/              0.6.0   \n",
       "\n",
       "                   reporting__code_signature reporting__groupby  \\\n",
       "0   393d9a4492531c67c9f48116813b98e8157142be               week   \n",
       "1   393d9a4492531c67c9f48116813b98e8157142be               week   \n",
       "2   393d9a4492531c67c9f48116813b98e8157142be               week   \n",
       "3   393d9a4492531c67c9f48116813b98e8157142be               week   \n",
       "4   393d9a4492531c67c9f48116813b98e8157142be               week   \n",
       "5   393d9a4492531c67c9f48116813b98e8157142be               week   \n",
       "6   393d9a4492531c67c9f48116813b98e8157142be               week   \n",
       "8   393d9a4492531c67c9f48116813b98e8157142be               week   \n",
       "9   393d9a4492531c67c9f48116813b98e8157142be               week   \n",
       "12  393d9a4492531c67c9f48116813b98e8157142be               week   \n",
       "\n",
       "    reporting__split_week  reporting__split_day reporting__start_time  ...  \\\n",
       "0                    True                  True   2010-09-06 12:35:31  ...   \n",
       "1                    True                  True   2010-09-06 12:35:17  ...   \n",
       "2                    True                  True   2010-09-07 12:08:23  ...   \n",
       "3                    True                  True   2010-09-20 13:48:57  ...   \n",
       "4                    True                  True   2010-09-22 16:04:19  ...   \n",
       "5                    True                  True   2010-09-07 09:08:02  ...   \n",
       "6                    True                  True   2010-09-08 11:10:59  ...   \n",
       "8                    True                  True   2010-09-13 11:48:30  ...   \n",
       "9                    True                  True   2010-09-13 11:48:45  ...   \n",
       "12                   True                  True   2010-09-20 20:03:53  ...   \n",
       "\n",
       "   frequent_antennas__weekend__allday__std  \\\n",
       "0                                      0.0   \n",
       "1                                      0.0   \n",
       "2                                      0.0   \n",
       "3                                      0.0   \n",
       "4                                      0.0   \n",
       "5                                      0.0   \n",
       "6                                      0.0   \n",
       "8                                      0.0   \n",
       "9                                      0.0   \n",
       "12                                     0.0   \n",
       "\n",
       "   frequent_antennas__weekend__day__mean frequent_antennas__weekend__day__std  \\\n",
       "0                                    1.0                                  0.0   \n",
       "1                                    1.0                                  0.0   \n",
       "2                                    1.0                                  0.0   \n",
       "3                                    1.0                                  0.0   \n",
       "4                                    1.0                                  0.0   \n",
       "5                                    1.0                                  0.0   \n",
       "6                                    1.0                                  0.0   \n",
       "8                                    1.0                                  0.0   \n",
       "9                                    1.0                                  0.0   \n",
       "12                                   1.0                                  0.0   \n",
       "\n",
       "   frequent_antennas__weekend__night__mean  \\\n",
       "0                                      1.0   \n",
       "1                                      1.0   \n",
       "2                                      1.0   \n",
       "3                                      1.0   \n",
       "4                                      1.0   \n",
       "5                                      1.0   \n",
       "6                                      1.0   \n",
       "8                                      1.0   \n",
       "9                                      1.0   \n",
       "12                                     1.0   \n",
       "\n",
       "    frequent_antennas__weekend__night__std  churn_rate__mean  churn_rate__std  \\\n",
       "0                                      0.0               0.0              0.0   \n",
       "1                                      0.0               0.0              0.0   \n",
       "2                                      0.0               0.0              0.0   \n",
       "3                                      0.0               0.0              0.0   \n",
       "4                                      0.0               0.0              0.0   \n",
       "5                                      0.0               0.0              0.0   \n",
       "6                                      0.0               0.0              0.0   \n",
       "8                                      0.0               0.0              0.0   \n",
       "9                                      0.0               0.0              0.0   \n",
       "12                                     0.0               0.0              0.0   \n",
       "\n",
       "    attributes__individual_id  attributes__gender  attributes__sub  \n",
       "0                  fa10-01-01                male              0.0  \n",
       "1                  fa10-01-02              female              0.0  \n",
       "2                  fa10-01-03                male              1.0  \n",
       "3                  fa10-01-04              female              1.0  \n",
       "4                  fa10-01-05                male              1.0  \n",
       "5                  fa10-01-06              female              1.0  \n",
       "6                  fa10-01-07                male              1.0  \n",
       "8                  fa10-01-09                male              0.0  \n",
       "9                  fa10-01-10              female              0.0  \n",
       "12                 fa10-01-13                male              0.0  \n",
       "\n",
       "[10 rows x 1484 columns]"
      ]
     },
     "execution_count": 134,
     "metadata": {},
     "output_type": "execute_result"
    }
   ],
   "source": [
    "# First extract the groups by target variable.\n",
    "sub_gr = df.groupby('attributes__sub')\n",
    "sub_gr.head()\n",
    "#sub_gr.first()"
   ]
  },
  {
   "cell_type": "code",
   "execution_count": 135,
   "metadata": {},
   "outputs": [
    {
     "data": {
      "text/html": [
       "<div>\n",
       "<style scoped>\n",
       "    .dataframe tbody tr th:only-of-type {\n",
       "        vertical-align: middle;\n",
       "    }\n",
       "\n",
       "    .dataframe tbody tr th {\n",
       "        vertical-align: top;\n",
       "    }\n",
       "\n",
       "    .dataframe thead th {\n",
       "        text-align: right;\n",
       "    }\n",
       "</style>\n",
       "<table border=\"1\" class=\"dataframe\">\n",
       "  <thead>\n",
       "    <tr style=\"text-align: right;\">\n",
       "      <th></th>\n",
       "      <th>name</th>\n",
       "      <th>attributes__sub</th>\n",
       "    </tr>\n",
       "  </thead>\n",
       "  <tbody>\n",
       "    <tr>\n",
       "      <th>0</th>\n",
       "      <td>fa10-01-01</td>\n",
       "      <td>0.0</td>\n",
       "    </tr>\n",
       "    <tr>\n",
       "      <th>1</th>\n",
       "      <td>fa10-01-02</td>\n",
       "      <td>0.0</td>\n",
       "    </tr>\n",
       "    <tr>\n",
       "      <th>2</th>\n",
       "      <td>fa10-01-03</td>\n",
       "      <td>1.0</td>\n",
       "    </tr>\n",
       "    <tr>\n",
       "      <th>3</th>\n",
       "      <td>fa10-01-04</td>\n",
       "      <td>1.0</td>\n",
       "    </tr>\n",
       "    <tr>\n",
       "      <th>4</th>\n",
       "      <td>fa10-01-05</td>\n",
       "      <td>1.0</td>\n",
       "    </tr>\n",
       "    <tr>\n",
       "      <th>5</th>\n",
       "      <td>fa10-01-06</td>\n",
       "      <td>1.0</td>\n",
       "    </tr>\n",
       "    <tr>\n",
       "      <th>6</th>\n",
       "      <td>fa10-01-07</td>\n",
       "      <td>1.0</td>\n",
       "    </tr>\n",
       "    <tr>\n",
       "      <th>8</th>\n",
       "      <td>fa10-01-09</td>\n",
       "      <td>0.0</td>\n",
       "    </tr>\n",
       "    <tr>\n",
       "      <th>9</th>\n",
       "      <td>fa10-01-10</td>\n",
       "      <td>0.0</td>\n",
       "    </tr>\n",
       "    <tr>\n",
       "      <th>12</th>\n",
       "      <td>fa10-01-13</td>\n",
       "      <td>0.0</td>\n",
       "    </tr>\n",
       "  </tbody>\n",
       "</table>\n",
       "</div>"
      ],
      "text/plain": [
       "          name  attributes__sub\n",
       "0   fa10-01-01              0.0\n",
       "1   fa10-01-02              0.0\n",
       "2   fa10-01-03              1.0\n",
       "3   fa10-01-04              1.0\n",
       "4   fa10-01-05              1.0\n",
       "5   fa10-01-06              1.0\n",
       "6   fa10-01-07              1.0\n",
       "8   fa10-01-09              0.0\n",
       "9   fa10-01-10              0.0\n",
       "12  fa10-01-13              0.0"
      ]
     },
     "execution_count": 135,
     "metadata": {},
     "output_type": "execute_result"
    }
   ],
   "source": [
    "# Distribution of target variable by users\n",
    "sub_gr[['name','attributes__sub']].head()"
   ]
  },
  {
   "cell_type": "markdown",
   "metadata": {},
   "source": [
    "#### 2.5.1 Are there any differences in the distribution of “call durations” between the two groups?"
   ]
  },
  {
   "cell_type": "code",
   "execution_count": 136,
   "metadata": {},
   "outputs": [
    {
     "data": {
      "text/plain": [
       "0    139.12677\n",
       "1    228.11054\n",
       "2    113.73917\n",
       "3    109.44441\n",
       "4    111.93243\n",
       "Name: call_duration__allweek__allday__call__mean__mean, dtype: float64"
      ]
     },
     "execution_count": 136,
     "metadata": {},
     "output_type": "execute_result"
    }
   ],
   "source": [
    "df.call_duration__allweek__allday__call__mean__mean.head()"
   ]
  },
  {
   "cell_type": "code",
   "execution_count": 137,
   "metadata": {},
   "outputs": [
    {
     "data": {
      "text/plain": [
       "Text(0.5, 1.0, 'Segment 2')"
      ]
     },
     "execution_count": 137,
     "metadata": {},
     "output_type": "execute_result"
    },
    {
     "data": {
      "image/png": "[encoded data removed]",
      "text/plain": [
       "<Figure size 1500x900 with 3 Axes>"
      ]
     },
     "metadata": {},
     "output_type": "display_data"
    }
   ],
   "source": [
    "# Plot both segments.\n",
    "plt.subplot(2,2,1)\n",
    "_ = plt.hist(df['call_duration__allweek__allday__call__mean__mean'].dropna(), bins=25, color='green')\n",
    "plt.title('Both Segments')\n",
    "\n",
    "# Plot Segment 1.\n",
    "plt.subplot(2,2,2)\n",
    "_ = plt.hist(sub_gr.get_group(0) ['call_duration__allweek__allday__call__mean__mean'].dropna().values, bins=25, color='red')\n",
    "plt.title('Segment 1')\n",
    "\n",
    "# Plot Segment 2.\n",
    "plt.subplot(2,2,3)\n",
    "_ = plt.hist(sub_gr.get_group( 1)['call_duration__allweek__allday__call__mean__mean'].dropna().values,bins=25)\n",
    "plt.title('Segment 2')"
   ]
  },
  {
   "cell_type": "markdown",
   "metadata": {},
   "source": [
    "#### 2.5.2 Are there any differences in the distribution of the number of interactions between the two groups?"
   ]
  },
  {
   "cell_type": "code",
   "execution_count": 138,
   "metadata": {},
   "outputs": [
    {
     "data": {
      "text/plain": [
       "Text(0.5, 1.0, 'Segment 2')"
      ]
     },
     "execution_count": 138,
     "metadata": {},
     "output_type": "execute_result"
    },
    {
     "data": {
      "image/png": "[encoded data removed]",
      "text/plain": [
       "<Figure size 1500x900 with 3 Axes>"
      ]
     },
     "metadata": {},
     "output_type": "display_data"
    }
   ],
   "source": [
    "# Plot both segments.\n",
    "plt.subplot(2,2,1)\n",
    "#df['call_duration__allweek__allday__call__mean__mean'].hist(bins=100)\n",
    "_ = plt.hist(df['number_of_interaction_in__allweek__night__text__mean'].dropna(), bins=25, color='green')\n",
    "plt.title('Both Segments')\n",
    "\n",
    "# Plot Segment 1.\n",
    "plt.subplot(2,2,2)\n",
    "_ = plt.hist(sub_gr.get_group(0)['number_of_interaction_in__allweek__night__text__mean'].dropna().values, bins=25, color='red')\n",
    "plt.title('Segment 1')\n",
    "\n",
    "# Plot Segment 2.\n",
    "plt.subplot(2,2,3)\n",
    "_ = plt.hist(sub_gr.get_group(1)['number_of_interaction_in__allweek__night__text__mean'].dropna().values,bins=25)\n",
    "plt.title('Segment 2')"
   ]
  },
  {
   "cell_type": "markdown",
   "metadata": {},
   "source": [
    "## 2.6 Data preprocessing"
   ]
  },
  {
   "cell_type": "markdown",
   "metadata": {},
   "source": [
    "In order to make use of the machine learning tools, the data needs to be preprocessed. This involves a number of activities such as:\n",
    "- Assigning numerical values to categorical data;\n",
    "- Handling missing values; and\n",
    "- Normalizing the features (so that features on small scales do not dominate when fitting a model to the data).\n",
    ">**Note:** Small scales imply big value. For example, assume you are classifying people based on their physiological characteristics. A small-scale feature would be height (measured in meters) compared to weight (measured in kilograms).\n",
    "\n",
    "First, filter the data set to only return records that have a non-null label. The target variable is a socioeconomic binary indicator that is in the column labeled \"df.attributes__sub\"."
   ]
  },
  {
   "cell_type": "markdown",
   "metadata": {},
   "source": [
    "#### 2.6.1 Drop records with missing label information"
   ]
  },
  {
   "cell_type": "code",
   "execution_count": 139,
   "metadata": {},
   "outputs": [],
   "source": [
    "# Drop records with missing labels in the target variable.\n",
    "df = df[~df.attributes__sub.isnull()]"
   ]
  },
  {
   "cell_type": "code",
   "execution_count": 140,
   "metadata": {},
   "outputs": [
    {
     "name": "stdout",
     "output_type": "stream",
     "text": [
      "Total number of labels is 127\n"
     ]
    },
    {
     "data": {
      "text/plain": [
       "array([0, 0, 1, 1, 1, 1, 1, 1, 0, 0, 1, 1, 0, 0, 0, 0, 0, 0, 0, 0, 0, 0,\n",
       "       0, 1, 0, 0, 0, 1, 0, 0, 1, 1, 0, 0, 1, 1, 1, 1, 1, 1, 1, 1, 1, 1,\n",
       "       1, 1, 1, 1, 1, 1, 1, 1, 1, 1, 0, 0, 1, 1, 1, 0, 0, 1, 1, 1, 1, 1,\n",
       "       1, 1, 1, 1, 1, 0, 0, 0, 0, 0, 0, 0, 0, 1, 1, 0, 1, 1, 1, 1, 1, 1,\n",
       "       0, 0, 1, 0, 0, 1, 1, 1, 1, 1, 0, 0, 1, 1, 1, 0, 1, 0, 0, 1, 0, 0,\n",
       "       0, 0, 0, 0, 0, 0, 0, 1, 0, 0, 0, 1, 0, 0, 1, 0, 1])"
      ]
     },
     "execution_count": 140,
     "metadata": {},
     "output_type": "execute_result"
    }
   ],
   "source": [
    "# Review the target or response variable.\n",
    "y = df.attributes__sub.astype(int).values\n",
    "print(f\"Total number of labels is {len(y)}\")\n",
    "y"
   ]
  },
  {
   "cell_type": "code",
   "execution_count": 141,
   "metadata": {},
   "outputs": [
    {
     "name": "stdout",
     "output_type": "stream",
     "text": [
      "Count of 0's: 59\n",
      "Count of 1's: 68\n"
     ]
    }
   ],
   "source": [
    "from collections import Counter\n",
    "\n",
    "# Assuming y is your binary target variable\n",
    "y = df.attributes__sub.astype(int).values\n",
    "\n",
    "# Count occurrences of 1's and 0's\n",
    "counter = Counter(y)\n",
    "\n",
    "count_of_zeros = counter[0]\n",
    "count_of_ones = counter[1]\n",
    "\n",
    "print(f\"Count of 0's: {count_of_zeros}\")\n",
    "print(f\"Count of 1's: {count_of_ones}\")\n"
   ]
  },
  {
   "cell_type": "code",
   "execution_count": 142,
   "metadata": {},
   "outputs": [
    {
     "name": "stdout",
     "output_type": "stream",
     "text": [
      "Counter({1: 68, 0: 59})\n"
     ]
    }
   ],
   "source": [
    "counter = Counter(y)\n",
    "print(counter)"
   ]
  },
  {
   "cell_type": "markdown",
   "metadata": {},
   "source": [
    "#### 2.6.2 Feature transformation"
   ]
  },
  {
   "cell_type": "code",
   "execution_count": 143,
   "metadata": {},
   "outputs": [
    {
     "data": {
      "text/plain": [
       "0      male\n",
       "1    female\n",
       "2      male\n",
       "3    female\n",
       "4      male\n",
       "Name: attributes__gender, dtype: object"
      ]
     },
     "execution_count": 143,
     "metadata": {},
     "output_type": "execute_result"
    }
   ],
   "source": [
    "# Call the values in column \"attributes__gender\"\n",
    "df.attributes__gender.head()"
   ]
  },
  {
   "cell_type": "code",
   "execution_count": 144,
   "metadata": {},
   "outputs": [
    {
     "name": "stderr",
     "output_type": "stream",
     "text": [
      "C:\\Users\\Pathways PC\\AppData\\Local\\Temp\\ipykernel_12692\\2188646744.py:3: SettingWithCopyWarning: \n",
      "A value is trying to be set on a copy of a slice from a DataFrame\n",
      "\n",
      "See the caveats in the documentation: https://pandas.pydata.org/pandas-docs/stable/user_guide/indexing.html#returning-a-view-versus-a-copy\n",
      "  df.attributes__gender.replace(d, inplace=True)\n"
     ]
    }
   ],
   "source": [
    "# Convert gender labels to binary values (zero or one):\n",
    "d = {'male': 0, 'female': 1}\n",
    "df.attributes__gender.replace(d, inplace=True)\n"
   ]
  },
  {
   "cell_type": "code",
   "execution_count": 145,
   "metadata": {},
   "outputs": [
    {
     "data": {
      "text/plain": [
       "0    0\n",
       "1    1\n",
       "2    0\n",
       "3    1\n",
       "4    0\n",
       "Name: attributes__gender, dtype: int64"
      ]
     },
     "execution_count": 145,
     "metadata": {},
     "output_type": "execute_result"
    }
   ],
   "source": [
    "df.attributes__gender.head()"
   ]
  },
  {
   "cell_type": "markdown",
   "metadata": {},
   "source": [
    "#### 2.6.3 Drop non-informative columns"
   ]
  },
  {
   "cell_type": "code",
   "execution_count": 146,
   "metadata": {},
   "outputs": [
    {
     "data": {
      "text/html": [
       "<div>\n",
       "<style scoped>\n",
       "    .dataframe tbody tr th:only-of-type {\n",
       "        vertical-align: middle;\n",
       "    }\n",
       "\n",
       "    .dataframe tbody tr th {\n",
       "        vertical-align: top;\n",
       "    }\n",
       "\n",
       "    .dataframe thead th {\n",
       "        text-align: right;\n",
       "    }\n",
       "</style>\n",
       "<table border=\"1\" class=\"dataframe\">\n",
       "  <thead>\n",
       "    <tr style=\"text-align: right;\">\n",
       "      <th></th>\n",
       "      <th>active_days__allweek__allday__callandtext__mean</th>\n",
       "      <th>active_days__allweek__allday__callandtext__std</th>\n",
       "      <th>active_days__allweek__day__callandtext__mean</th>\n",
       "      <th>active_days__allweek__day__callandtext__std</th>\n",
       "      <th>active_days__allweek__night__callandtext__mean</th>\n",
       "      <th>active_days__allweek__night__callandtext__std</th>\n",
       "      <th>active_days__weekday__allday__callandtext__mean</th>\n",
       "      <th>active_days__weekday__allday__callandtext__std</th>\n",
       "      <th>active_days__weekday__day__callandtext__mean</th>\n",
       "      <th>active_days__weekday__day__callandtext__std</th>\n",
       "      <th>...</th>\n",
       "      <th>frequent_antennas__weekday__day__std</th>\n",
       "      <th>frequent_antennas__weekday__night__mean</th>\n",
       "      <th>frequent_antennas__weekday__night__std</th>\n",
       "      <th>frequent_antennas__weekend__allday__mean</th>\n",
       "      <th>frequent_antennas__weekend__allday__std</th>\n",
       "      <th>frequent_antennas__weekend__day__mean</th>\n",
       "      <th>frequent_antennas__weekend__day__std</th>\n",
       "      <th>frequent_antennas__weekend__night__mean</th>\n",
       "      <th>frequent_antennas__weekend__night__std</th>\n",
       "      <th>attributes__individual_id</th>\n",
       "    </tr>\n",
       "  </thead>\n",
       "  <tbody>\n",
       "    <tr>\n",
       "      <th>0</th>\n",
       "      <td>6.52381</td>\n",
       "      <td>1.13888</td>\n",
       "      <td>6.39024</td>\n",
       "      <td>0.82279</td>\n",
       "      <td>5.45238</td>\n",
       "      <td>1.46714</td>\n",
       "      <td>4.69048</td>\n",
       "      <td>0.91256</td>\n",
       "      <td>4.70732</td>\n",
       "      <td>0.77283</td>\n",
       "      <td>...</td>\n",
       "      <td>0.0</td>\n",
       "      <td>1.0</td>\n",
       "      <td>0.0</td>\n",
       "      <td>1.0</td>\n",
       "      <td>0.0</td>\n",
       "      <td>1.0</td>\n",
       "      <td>0.0</td>\n",
       "      <td>1.0</td>\n",
       "      <td>0.0</td>\n",
       "      <td>fa10-01-01</td>\n",
       "    </tr>\n",
       "    <tr>\n",
       "      <th>1</th>\n",
       "      <td>5.88889</td>\n",
       "      <td>1.71558</td>\n",
       "      <td>5.53333</td>\n",
       "      <td>1.69444</td>\n",
       "      <td>3.90476</td>\n",
       "      <td>1.42778</td>\n",
       "      <td>4.37778</td>\n",
       "      <td>1.25236</td>\n",
       "      <td>4.28889</td>\n",
       "      <td>1.25826</td>\n",
       "      <td>...</td>\n",
       "      <td>0.0</td>\n",
       "      <td>1.0</td>\n",
       "      <td>0.0</td>\n",
       "      <td>1.0</td>\n",
       "      <td>0.0</td>\n",
       "      <td>1.0</td>\n",
       "      <td>0.0</td>\n",
       "      <td>1.0</td>\n",
       "      <td>0.0</td>\n",
       "      <td>fa10-01-02</td>\n",
       "    </tr>\n",
       "    <tr>\n",
       "      <th>2</th>\n",
       "      <td>4.88636</td>\n",
       "      <td>2.23826</td>\n",
       "      <td>4.61364</td>\n",
       "      <td>2.27852</td>\n",
       "      <td>3.36111</td>\n",
       "      <td>1.96006</td>\n",
       "      <td>3.76190</td>\n",
       "      <td>1.50886</td>\n",
       "      <td>3.63415</td>\n",
       "      <td>1.55792</td>\n",
       "      <td>...</td>\n",
       "      <td>0.0</td>\n",
       "      <td>1.0</td>\n",
       "      <td>0.0</td>\n",
       "      <td>1.0</td>\n",
       "      <td>0.0</td>\n",
       "      <td>1.0</td>\n",
       "      <td>0.0</td>\n",
       "      <td>1.0</td>\n",
       "      <td>0.0</td>\n",
       "      <td>fa10-01-03</td>\n",
       "    </tr>\n",
       "    <tr>\n",
       "      <th>3</th>\n",
       "      <td>4.53333</td>\n",
       "      <td>2.06128</td>\n",
       "      <td>4.26667</td>\n",
       "      <td>2.12812</td>\n",
       "      <td>3.07407</td>\n",
       "      <td>1.92307</td>\n",
       "      <td>3.44828</td>\n",
       "      <td>1.45238</td>\n",
       "      <td>3.27586</td>\n",
       "      <td>1.43591</td>\n",
       "      <td>...</td>\n",
       "      <td>0.0</td>\n",
       "      <td>1.0</td>\n",
       "      <td>0.0</td>\n",
       "      <td>1.0</td>\n",
       "      <td>0.0</td>\n",
       "      <td>1.0</td>\n",
       "      <td>0.0</td>\n",
       "      <td>1.0</td>\n",
       "      <td>0.0</td>\n",
       "      <td>fa10-01-04</td>\n",
       "    </tr>\n",
       "    <tr>\n",
       "      <th>4</th>\n",
       "      <td>5.30556</td>\n",
       "      <td>1.79226</td>\n",
       "      <td>4.97222</td>\n",
       "      <td>1.84821</td>\n",
       "      <td>3.29032</td>\n",
       "      <td>1.72633</td>\n",
       "      <td>4.02857</td>\n",
       "      <td>1.15846</td>\n",
       "      <td>3.80000</td>\n",
       "      <td>1.23751</td>\n",
       "      <td>...</td>\n",
       "      <td>0.0</td>\n",
       "      <td>1.0</td>\n",
       "      <td>0.0</td>\n",
       "      <td>1.0</td>\n",
       "      <td>0.0</td>\n",
       "      <td>1.0</td>\n",
       "      <td>0.0</td>\n",
       "      <td>1.0</td>\n",
       "      <td>0.0</td>\n",
       "      <td>fa10-01-05</td>\n",
       "    </tr>\n",
       "  </tbody>\n",
       "</table>\n",
       "<p>5 rows × 1441 columns</p>\n",
       "</div>"
      ],
      "text/plain": [
       "   active_days__allweek__allday__callandtext__mean  \\\n",
       "0                                          6.52381   \n",
       "1                                          5.88889   \n",
       "2                                          4.88636   \n",
       "3                                          4.53333   \n",
       "4                                          5.30556   \n",
       "\n",
       "   active_days__allweek__allday__callandtext__std  \\\n",
       "0                                         1.13888   \n",
       "1                                         1.71558   \n",
       "2                                         2.23826   \n",
       "3                                         2.06128   \n",
       "4                                         1.79226   \n",
       "\n",
       "   active_days__allweek__day__callandtext__mean  \\\n",
       "0                                       6.39024   \n",
       "1                                       5.53333   \n",
       "2                                       4.61364   \n",
       "3                                       4.26667   \n",
       "4                                       4.97222   \n",
       "\n",
       "   active_days__allweek__day__callandtext__std  \\\n",
       "0                                      0.82279   \n",
       "1                                      1.69444   \n",
       "2                                      2.27852   \n",
       "3                                      2.12812   \n",
       "4                                      1.84821   \n",
       "\n",
       "   active_days__allweek__night__callandtext__mean  \\\n",
       "0                                         5.45238   \n",
       "1                                         3.90476   \n",
       "2                                         3.36111   \n",
       "3                                         3.07407   \n",
       "4                                         3.29032   \n",
       "\n",
       "   active_days__allweek__night__callandtext__std  \\\n",
       "0                                        1.46714   \n",
       "1                                        1.42778   \n",
       "2                                        1.96006   \n",
       "3                                        1.92307   \n",
       "4                                        1.72633   \n",
       "\n",
       "   active_days__weekday__allday__callandtext__mean  \\\n",
       "0                                          4.69048   \n",
       "1                                          4.37778   \n",
       "2                                          3.76190   \n",
       "3                                          3.44828   \n",
       "4                                          4.02857   \n",
       "\n",
       "   active_days__weekday__allday__callandtext__std  \\\n",
       "0                                         0.91256   \n",
       "1                                         1.25236   \n",
       "2                                         1.50886   \n",
       "3                                         1.45238   \n",
       "4                                         1.15846   \n",
       "\n",
       "   active_days__weekday__day__callandtext__mean  \\\n",
       "0                                       4.70732   \n",
       "1                                       4.28889   \n",
       "2                                       3.63415   \n",
       "3                                       3.27586   \n",
       "4                                       3.80000   \n",
       "\n",
       "   active_days__weekday__day__callandtext__std  ...  \\\n",
       "0                                      0.77283  ...   \n",
       "1                                      1.25826  ...   \n",
       "2                                      1.55792  ...   \n",
       "3                                      1.43591  ...   \n",
       "4                                      1.23751  ...   \n",
       "\n",
       "   frequent_antennas__weekday__day__std  \\\n",
       "0                                   0.0   \n",
       "1                                   0.0   \n",
       "2                                   0.0   \n",
       "3                                   0.0   \n",
       "4                                   0.0   \n",
       "\n",
       "   frequent_antennas__weekday__night__mean  \\\n",
       "0                                      1.0   \n",
       "1                                      1.0   \n",
       "2                                      1.0   \n",
       "3                                      1.0   \n",
       "4                                      1.0   \n",
       "\n",
       "   frequent_antennas__weekday__night__std  \\\n",
       "0                                     0.0   \n",
       "1                                     0.0   \n",
       "2                                     0.0   \n",
       "3                                     0.0   \n",
       "4                                     0.0   \n",
       "\n",
       "   frequent_antennas__weekend__allday__mean  \\\n",
       "0                                       1.0   \n",
       "1                                       1.0   \n",
       "2                                       1.0   \n",
       "3                                       1.0   \n",
       "4                                       1.0   \n",
       "\n",
       "   frequent_antennas__weekend__allday__std  \\\n",
       "0                                      0.0   \n",
       "1                                      0.0   \n",
       "2                                      0.0   \n",
       "3                                      0.0   \n",
       "4                                      0.0   \n",
       "\n",
       "   frequent_antennas__weekend__day__mean  \\\n",
       "0                                    1.0   \n",
       "1                                    1.0   \n",
       "2                                    1.0   \n",
       "3                                    1.0   \n",
       "4                                    1.0   \n",
       "\n",
       "   frequent_antennas__weekend__day__std  \\\n",
       "0                                   0.0   \n",
       "1                                   0.0   \n",
       "2                                   0.0   \n",
       "3                                   0.0   \n",
       "4                                   0.0   \n",
       "\n",
       "   frequent_antennas__weekend__night__mean  \\\n",
       "0                                      1.0   \n",
       "1                                      1.0   \n",
       "2                                      1.0   \n",
       "3                                      1.0   \n",
       "4                                      1.0   \n",
       "\n",
       "   frequent_antennas__weekend__night__std  attributes__individual_id  \n",
       "0                                     0.0                 fa10-01-01  \n",
       "1                                     0.0                 fa10-01-02  \n",
       "2                                     0.0                 fa10-01-03  \n",
       "3                                     0.0                 fa10-01-04  \n",
       "4                                     0.0                 fa10-01-05  \n",
       "\n",
       "[5 rows x 1441 columns]"
      ]
     },
     "execution_count": 146,
     "metadata": {},
     "output_type": "execute_result"
    }
   ],
   "source": [
    "# Remove columns with reporting variables and attributes (that is, the first 39 and the last 2).\n",
    "df = pd.concat([df[df.columns[39:-5]],df[df.columns[-3]]], axis=1)\n",
    "df.head()"
   ]
  },
  {
   "cell_type": "code",
   "execution_count": 147,
   "metadata": {},
   "outputs": [
    {
     "name": "stdout",
     "output_type": "stream",
     "text": [
      "<class 'pandas.core.frame.DataFrame'>\n",
      "Int64Index: 127 entries, 0 to 128\n",
      "Columns: 1441 entries, active_days__allweek__allday__callandtext__mean to attributes__individual_id\n",
      "dtypes: float64(1440), object(1)\n",
      "memory usage: 1.4+ MB\n"
     ]
    }
   ],
   "source": [
    "df.info()"
   ]
  },
  {
   "cell_type": "code",
   "execution_count": 148,
   "metadata": {},
   "outputs": [],
   "source": [
    "# Identify features with constant values, or contain only missing values.\n",
    "numeric_cols = df.select_dtypes(include=['number'])\n",
    "to_drop = (numeric_cols.std().isnull()) | (abs(numeric_cols.std()) < 1e-6)"
   ]
  },
  {
   "cell_type": "code",
   "execution_count": 149,
   "metadata": {},
   "outputs": [],
   "source": [
    "# Keep only the columns with variability.\n",
    "to_keep = np.where(~to_drop.values)[0]\n",
    "df = df.iloc[:,to_keep]"
   ]
  },
  {
   "cell_type": "code",
   "execution_count": 150,
   "metadata": {},
   "outputs": [
    {
     "data": {
      "text/html": [
       "<div>\n",
       "<style scoped>\n",
       "    .dataframe tbody tr th:only-of-type {\n",
       "        vertical-align: middle;\n",
       "    }\n",
       "\n",
       "    .dataframe tbody tr th {\n",
       "        vertical-align: top;\n",
       "    }\n",
       "\n",
       "    .dataframe thead th {\n",
       "        text-align: right;\n",
       "    }\n",
       "</style>\n",
       "<table border=\"1\" class=\"dataframe\">\n",
       "  <thead>\n",
       "    <tr style=\"text-align: right;\">\n",
       "      <th></th>\n",
       "      <th>active_days__allweek__allday__callandtext__mean</th>\n",
       "      <th>active_days__allweek__allday__callandtext__std</th>\n",
       "      <th>active_days__allweek__day__callandtext__mean</th>\n",
       "      <th>active_days__allweek__day__callandtext__std</th>\n",
       "      <th>active_days__allweek__night__callandtext__mean</th>\n",
       "      <th>active_days__allweek__night__callandtext__std</th>\n",
       "      <th>active_days__weekday__allday__callandtext__mean</th>\n",
       "      <th>active_days__weekday__allday__callandtext__std</th>\n",
       "      <th>active_days__weekday__day__callandtext__mean</th>\n",
       "      <th>active_days__weekday__day__callandtext__std</th>\n",
       "      <th>...</th>\n",
       "      <th>number_of_interaction_out__weekend__allday__text__mean</th>\n",
       "      <th>number_of_interaction_out__weekend__allday__text__std</th>\n",
       "      <th>number_of_interaction_out__weekend__day__call__mean</th>\n",
       "      <th>number_of_interaction_out__weekend__day__call__std</th>\n",
       "      <th>number_of_interaction_out__weekend__day__text__mean</th>\n",
       "      <th>number_of_interaction_out__weekend__day__text__std</th>\n",
       "      <th>number_of_interaction_out__weekend__night__call__mean</th>\n",
       "      <th>number_of_interaction_out__weekend__night__call__std</th>\n",
       "      <th>number_of_interaction_out__weekend__night__text__mean</th>\n",
       "      <th>number_of_interaction_out__weekend__night__text__std</th>\n",
       "    </tr>\n",
       "  </thead>\n",
       "  <tbody>\n",
       "    <tr>\n",
       "      <th>0</th>\n",
       "      <td>6.52381</td>\n",
       "      <td>1.13888</td>\n",
       "      <td>6.39024</td>\n",
       "      <td>0.82279</td>\n",
       "      <td>5.45238</td>\n",
       "      <td>1.46714</td>\n",
       "      <td>4.69048</td>\n",
       "      <td>0.91256</td>\n",
       "      <td>4.70732</td>\n",
       "      <td>0.77283</td>\n",
       "      <td>...</td>\n",
       "      <td>11.87500</td>\n",
       "      <td>10.01795</td>\n",
       "      <td>8.36842</td>\n",
       "      <td>5.97548</td>\n",
       "      <td>8.87179</td>\n",
       "      <td>8.40994</td>\n",
       "      <td>3.43750</td>\n",
       "      <td>3.31604</td>\n",
       "      <td>3.68571</td>\n",
       "      <td>3.96248</td>\n",
       "    </tr>\n",
       "    <tr>\n",
       "      <th>1</th>\n",
       "      <td>5.88889</td>\n",
       "      <td>1.71558</td>\n",
       "      <td>5.53333</td>\n",
       "      <td>1.69444</td>\n",
       "      <td>3.90476</td>\n",
       "      <td>1.42778</td>\n",
       "      <td>4.37778</td>\n",
       "      <td>1.25236</td>\n",
       "      <td>4.28889</td>\n",
       "      <td>1.25826</td>\n",
       "      <td>...</td>\n",
       "      <td>7.81081</td>\n",
       "      <td>8.14675</td>\n",
       "      <td>2.47059</td>\n",
       "      <td>2.03261</td>\n",
       "      <td>5.35294</td>\n",
       "      <td>6.15430</td>\n",
       "      <td>1.61538</td>\n",
       "      <td>0.92308</td>\n",
       "      <td>4.28000</td>\n",
       "      <td>6.18721</td>\n",
       "    </tr>\n",
       "    <tr>\n",
       "      <th>2</th>\n",
       "      <td>4.88636</td>\n",
       "      <td>2.23826</td>\n",
       "      <td>4.61364</td>\n",
       "      <td>2.27852</td>\n",
       "      <td>3.36111</td>\n",
       "      <td>1.96006</td>\n",
       "      <td>3.76190</td>\n",
       "      <td>1.50886</td>\n",
       "      <td>3.63415</td>\n",
       "      <td>1.55792</td>\n",
       "      <td>...</td>\n",
       "      <td>0.41176</td>\n",
       "      <td>0.59988</td>\n",
       "      <td>4.10714</td>\n",
       "      <td>3.86689</td>\n",
       "      <td>0.25000</td>\n",
       "      <td>0.55902</td>\n",
       "      <td>3.00000</td>\n",
       "      <td>3.98609</td>\n",
       "      <td>0.50000</td>\n",
       "      <td>0.50000</td>\n",
       "    </tr>\n",
       "    <tr>\n",
       "      <th>3</th>\n",
       "      <td>4.53333</td>\n",
       "      <td>2.06128</td>\n",
       "      <td>4.26667</td>\n",
       "      <td>2.12812</td>\n",
       "      <td>3.07407</td>\n",
       "      <td>1.92307</td>\n",
       "      <td>3.44828</td>\n",
       "      <td>1.45238</td>\n",
       "      <td>3.27586</td>\n",
       "      <td>1.43591</td>\n",
       "      <td>...</td>\n",
       "      <td>8.60000</td>\n",
       "      <td>6.15955</td>\n",
       "      <td>6.50000</td>\n",
       "      <td>4.17333</td>\n",
       "      <td>6.44444</td>\n",
       "      <td>5.15560</td>\n",
       "      <td>2.27273</td>\n",
       "      <td>1.28565</td>\n",
       "      <td>4.66667</td>\n",
       "      <td>3.42377</td>\n",
       "    </tr>\n",
       "    <tr>\n",
       "      <th>4</th>\n",
       "      <td>5.30556</td>\n",
       "      <td>1.79226</td>\n",
       "      <td>4.97222</td>\n",
       "      <td>1.84821</td>\n",
       "      <td>3.29032</td>\n",
       "      <td>1.72633</td>\n",
       "      <td>4.02857</td>\n",
       "      <td>1.15846</td>\n",
       "      <td>3.80000</td>\n",
       "      <td>1.23751</td>\n",
       "      <td>...</td>\n",
       "      <td>5.55172</td>\n",
       "      <td>4.16543</td>\n",
       "      <td>6.00000</td>\n",
       "      <td>5.00000</td>\n",
       "      <td>4.10714</td>\n",
       "      <td>3.45728</td>\n",
       "      <td>3.00000</td>\n",
       "      <td>0.00000</td>\n",
       "      <td>2.42105</td>\n",
       "      <td>2.20802</td>\n",
       "    </tr>\n",
       "  </tbody>\n",
       "</table>\n",
       "<p>5 rows × 1326 columns</p>\n",
       "</div>"
      ],
      "text/plain": [
       "   active_days__allweek__allday__callandtext__mean  \\\n",
       "0                                          6.52381   \n",
       "1                                          5.88889   \n",
       "2                                          4.88636   \n",
       "3                                          4.53333   \n",
       "4                                          5.30556   \n",
       "\n",
       "   active_days__allweek__allday__callandtext__std  \\\n",
       "0                                         1.13888   \n",
       "1                                         1.71558   \n",
       "2                                         2.23826   \n",
       "3                                         2.06128   \n",
       "4                                         1.79226   \n",
       "\n",
       "   active_days__allweek__day__callandtext__mean  \\\n",
       "0                                       6.39024   \n",
       "1                                       5.53333   \n",
       "2                                       4.61364   \n",
       "3                                       4.26667   \n",
       "4                                       4.97222   \n",
       "\n",
       "   active_days__allweek__day__callandtext__std  \\\n",
       "0                                      0.82279   \n",
       "1                                      1.69444   \n",
       "2                                      2.27852   \n",
       "3                                      2.12812   \n",
       "4                                      1.84821   \n",
       "\n",
       "   active_days__allweek__night__callandtext__mean  \\\n",
       "0                                         5.45238   \n",
       "1                                         3.90476   \n",
       "2                                         3.36111   \n",
       "3                                         3.07407   \n",
       "4                                         3.29032   \n",
       "\n",
       "   active_days__allweek__night__callandtext__std  \\\n",
       "0                                        1.46714   \n",
       "1                                        1.42778   \n",
       "2                                        1.96006   \n",
       "3                                        1.92307   \n",
       "4                                        1.72633   \n",
       "\n",
       "   active_days__weekday__allday__callandtext__mean  \\\n",
       "0                                          4.69048   \n",
       "1                                          4.37778   \n",
       "2                                          3.76190   \n",
       "3                                          3.44828   \n",
       "4                                          4.02857   \n",
       "\n",
       "   active_days__weekday__allday__callandtext__std  \\\n",
       "0                                         0.91256   \n",
       "1                                         1.25236   \n",
       "2                                         1.50886   \n",
       "3                                         1.45238   \n",
       "4                                         1.15846   \n",
       "\n",
       "   active_days__weekday__day__callandtext__mean  \\\n",
       "0                                       4.70732   \n",
       "1                                       4.28889   \n",
       "2                                       3.63415   \n",
       "3                                       3.27586   \n",
       "4                                       3.80000   \n",
       "\n",
       "   active_days__weekday__day__callandtext__std  ...  \\\n",
       "0                                      0.77283  ...   \n",
       "1                                      1.25826  ...   \n",
       "2                                      1.55792  ...   \n",
       "3                                      1.43591  ...   \n",
       "4                                      1.23751  ...   \n",
       "\n",
       "   number_of_interaction_out__weekend__allday__text__mean  \\\n",
       "0                                           11.87500        \n",
       "1                                            7.81081        \n",
       "2                                            0.41176        \n",
       "3                                            8.60000        \n",
       "4                                            5.55172        \n",
       "\n",
       "   number_of_interaction_out__weekend__allday__text__std  \\\n",
       "0                                           10.01795       \n",
       "1                                            8.14675       \n",
       "2                                            0.59988       \n",
       "3                                            6.15955       \n",
       "4                                            4.16543       \n",
       "\n",
       "   number_of_interaction_out__weekend__day__call__mean  \\\n",
       "0                                            8.36842     \n",
       "1                                            2.47059     \n",
       "2                                            4.10714     \n",
       "3                                            6.50000     \n",
       "4                                            6.00000     \n",
       "\n",
       "   number_of_interaction_out__weekend__day__call__std  \\\n",
       "0                                            5.97548    \n",
       "1                                            2.03261    \n",
       "2                                            3.86689    \n",
       "3                                            4.17333    \n",
       "4                                            5.00000    \n",
       "\n",
       "   number_of_interaction_out__weekend__day__text__mean  \\\n",
       "0                                            8.87179     \n",
       "1                                            5.35294     \n",
       "2                                            0.25000     \n",
       "3                                            6.44444     \n",
       "4                                            4.10714     \n",
       "\n",
       "   number_of_interaction_out__weekend__day__text__std  \\\n",
       "0                                            8.40994    \n",
       "1                                            6.15430    \n",
       "2                                            0.55902    \n",
       "3                                            5.15560    \n",
       "4                                            3.45728    \n",
       "\n",
       "   number_of_interaction_out__weekend__night__call__mean  \\\n",
       "0                                            3.43750       \n",
       "1                                            1.61538       \n",
       "2                                            3.00000       \n",
       "3                                            2.27273       \n",
       "4                                            3.00000       \n",
       "\n",
       "   number_of_interaction_out__weekend__night__call__std  \\\n",
       "0                                            3.31604      \n",
       "1                                            0.92308      \n",
       "2                                            3.98609      \n",
       "3                                            1.28565      \n",
       "4                                            0.00000      \n",
       "\n",
       "   number_of_interaction_out__weekend__night__text__mean  \\\n",
       "0                                            3.68571       \n",
       "1                                            4.28000       \n",
       "2                                            0.50000       \n",
       "3                                            4.66667       \n",
       "4                                            2.42105       \n",
       "\n",
       "   number_of_interaction_out__weekend__night__text__std  \n",
       "0                                            3.96248     \n",
       "1                                            6.18721     \n",
       "2                                            0.50000     \n",
       "3                                            3.42377     \n",
       "4                                            2.20802     \n",
       "\n",
       "[5 rows x 1326 columns]"
      ]
     },
     "execution_count": 150,
     "metadata": {},
     "output_type": "execute_result"
    }
   ],
   "source": [
    "df.head()"
   ]
  },
  {
   "cell_type": "code",
   "execution_count": 151,
   "metadata": {},
   "outputs": [
    {
     "name": "stdout",
     "output_type": "stream",
     "text": [
      "<class 'pandas.core.frame.DataFrame'>\n",
      "Int64Index: 127 entries, 0 to 128\n",
      "Columns: 1326 entries, active_days__allweek__allday__callandtext__mean to number_of_interaction_out__weekend__night__text__std\n",
      "dtypes: float64(1326)\n",
      "memory usage: 1.3 MB\n"
     ]
    }
   ],
   "source": [
    "df.info()"
   ]
  },
  {
   "cell_type": "code",
   "execution_count": 152,
   "metadata": {},
   "outputs": [
    {
     "data": {
      "text/plain": [
       "array([[6.52381, 1.13888, 6.39024, ..., 3.31604, 3.68571, 3.96248],\n",
       "       [5.88889, 1.71558, 5.53333, ..., 0.92308, 4.28   , 6.18721],\n",
       "       [4.88636, 2.23826, 4.61364, ..., 3.98609, 0.5    , 0.5    ],\n",
       "       ...,\n",
       "       [4.52632, 1.90203, 4.05263, ..., 1.27775, 2.75   , 1.29904],\n",
       "       [3.2    , 1.72047, 3.07143, ...,     nan, 2.     , 0.     ],\n",
       "       [3.75   , 1.92029, 3.5    , ...,     nan, 0.     , 0.     ]])"
      ]
     },
     "execution_count": 152,
     "metadata": {},
     "output_type": "execute_result"
    }
   ],
   "source": [
    "# Assign predictors to a variable of ndarray (matrix) type .\n",
    "X = df.values\n",
    "X[:10]"
   ]
  },
  {
   "cell_type": "code",
   "execution_count": 153,
   "metadata": {},
   "outputs": [
    {
     "data": {
      "text/plain": [
       "numpy.ndarray"
      ]
     },
     "execution_count": 153,
     "metadata": {},
     "output_type": "execute_result"
    }
   ],
   "source": [
    "# Check the class of array\n",
    "type(X)"
   ]
  },
  {
   "cell_type": "code",
   "execution_count": 154,
   "metadata": {},
   "outputs": [
    {
     "data": {
      "text/plain": [
       "(127, 1326)"
      ]
     },
     "execution_count": 154,
     "metadata": {},
     "output_type": "execute_result"
    }
   ],
   "source": [
    "# Display number of dimensions and items in the array (matrix)\n",
    "# A 2-dimensional array of size 127 x 1326.\n",
    "X.shape"
   ]
  },
  {
   "cell_type": "code",
   "execution_count": 155,
   "metadata": {},
   "outputs": [
    {
     "data": {
      "text/plain": [
       "dtype('float64')"
      ]
     },
     "execution_count": 155,
     "metadata": {},
     "output_type": "execute_result"
    }
   ],
   "source": [
    "# Display data type in the array (matrix)\n",
    "X.dtype"
   ]
  },
  {
   "cell_type": "markdown",
   "metadata": {},
   "source": [
    "#### 2.6.4 Imputing missing values"
   ]
  },
  {
   "cell_type": "markdown",
   "metadata": {},
   "source": [
    "Data collected from experiments often contains missing values. Unfortunately, missing values can reduce the number of usable records for model building. In many cases, however, imputing the missing values can give better results than discarding affected samples. The effect of imputing missing values on model performance needs to be validated, because sometimes dropping affected rows can be more effective.\n",
    "A number of strategies are available for imputing. With Scikit-Learn, missing values can be replaced by the mean, the median or the most frequent value. In the following, you will replace missing values using the mean of the valid values for that field. "
   ]
  },
  {
   "cell_type": "code",
   "execution_count": 161,
   "metadata": {},
   "outputs": [],
   "source": [
    "# Impute the missing values using the mean values of the respective features.\n",
    "#imp = preprocessing.Imputer(missing_values='NaN', strategy='mean', axis=0)\n",
    "#imp.fit(X)\n",
    "#X = imp.transform(X)\n",
    "imputer = SimpleImputer(missing_values=np.nan, strategy='mean')\n",
    "imputer.fit(X)\n",
    "X = imputer.transform(X)"
   ]
  },
  {
   "cell_type": "code",
   "execution_count": 162,
   "metadata": {},
   "outputs": [
    {
     "data": {
      "text/plain": [
       "array([[6.52381  , 1.13888  , 6.39024  , ..., 3.31604  , 3.68571  ,\n",
       "        3.96248  ],\n",
       "       [5.88889  , 1.71558  , 5.53333  , ..., 0.92308  , 4.28     ,\n",
       "        6.18721  ],\n",
       "       [4.88636  , 2.23826  , 4.61364  , ..., 3.98609  , 0.5      ,\n",
       "        0.5      ],\n",
       "       ...,\n",
       "       [4.52632  , 1.90203  , 4.05263  , ..., 1.27775  , 2.75     ,\n",
       "        1.29904  ],\n",
       "       [3.2      , 1.72047  , 3.07143  , ..., 1.7430219, 2.       ,\n",
       "        0.       ],\n",
       "       [3.75     , 1.92029  , 3.5      , ..., 1.7430219, 0.       ,\n",
       "        0.       ]])"
      ]
     },
     "execution_count": 162,
     "metadata": {},
     "output_type": "execute_result"
    }
   ],
   "source": [
    "X[:10]"
   ]
  },
  {
   "cell_type": "code",
   "execution_count": 163,
   "metadata": {},
   "outputs": [
    {
     "data": {
      "text/plain": [
       "(127, 1326)"
      ]
     },
     "execution_count": 163,
     "metadata": {},
     "output_type": "execute_result"
    }
   ],
   "source": [
    "X.shape"
   ]
  },
  {
   "cell_type": "markdown",
   "metadata": {},
   "source": [
    "These two sets of the data ($X$ and $y$) are then used to build the classifier, and contain the following information:\n",
    "> The array y contains the labels you want to predict, representing the socioeconomic status of a person as 0 or 1. These labels are sometimes referred to as “Class 0” and “Class 1” in this notebook. The matrix X contains the features for all of the users (one column for one feature, and one line for one user)."
   ]
  },
  {
   "cell_type": "markdown",
   "metadata": {},
   "source": [
    "#### 2.6.5 Normalization\n",
    "Normalize the data to center it around zero and transform it to a similiar scale to prevent variables in \"small\" units (and therefore high values) to dominate the classification unreasonably."
   ]
  },
  {
   "cell_type": "code",
   "execution_count": 159,
   "metadata": {},
   "outputs": [],
   "source": [
    "# Normalize the  data (center around 0 and scale to remove the variance).\n",
    "scaler = preprocessing.StandardScaler()\n",
    "Xs = scaler.fit_transform(X)"
   ]
  },
  {
   "cell_type": "code",
   "execution_count": 160,
   "metadata": {},
   "outputs": [
    {
     "data": {
      "text/plain": [
       "array([[ 1.66941561e+00, -9.40828900e-01,  1.85195405e+00, ...,\n",
       "         1.28631035e+00,  1.10803054e+00,  7.95245674e-01],\n",
       "       [ 1.21402984e+00,  8.03596598e-02,  1.20951279e+00, ...,\n",
       "        -6.70494359e-01,  1.44858815e+00,  1.62107379e+00],\n",
       "       [ 4.94981929e-01,  1.00589258e+00,  5.20004199e-01, ...,\n",
       "         1.83423301e+00, -7.17539096e-01, -4.90039888e-01],\n",
       "       ...,\n",
       "       [ 2.36749248e-01,  4.10515039e-01,  9.94046337e-02, ...,\n",
       "        -3.80468647e-01,  5.71822362e-01, -1.93433243e-01],\n",
       "       [-7.14531636e-01,  8.90186022e-02, -6.36219141e-01, ...,\n",
       "        -1.81573419e-16,  1.42035209e-01, -6.75641764e-01],\n",
       "       [-3.20053315e-01,  4.42848840e-01, -3.14912291e-01, ...,\n",
       "        -1.81573419e-16, -1.00406386e+00, -6.75641764e-01]])"
      ]
     },
     "execution_count": 160,
     "metadata": {},
     "output_type": "execute_result"
    }
   ],
   "source": [
    "Xs[:10]"
   ]
  },
  {
   "cell_type": "code",
   "execution_count": null,
   "metadata": {},
   "outputs": [],
   "source": []
  },
  {
   "cell_type": "code",
   "execution_count": null,
   "metadata": {},
   "outputs": [],
   "source": []
  },
  {
   "cell_type": "code",
   "execution_count": null,
   "metadata": {},
   "outputs": [],
   "source": []
  }
 ],
 "metadata": {
  "hide_input": false,
  "kernelspec": {
   "display_name": "Python 3 (ipykernel)",
   "language": "python",
   "name": "python3"
  },
  "language_info": {
   "codemirror_mode": {
    "name": "ipython",
    "version": 3
   },
   "file_extension": ".py",
   "mimetype": "text/x-python",
   "name": "python",
   "nbconvert_exporter": "python",
   "pygments_lexer": "ipython3",
   "version": "3.11.5"
  },
  "toc": {
   "toc_cell": false,
   "toc_number_sections": false,
   "toc_threshold": 6,
   "toc_window_display": false
  }
 },
 "nbformat": 4,
 "nbformat_minor": 1
}
