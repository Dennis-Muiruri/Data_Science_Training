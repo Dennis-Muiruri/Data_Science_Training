{
 "cells": [
  {
   "cell_type": "markdown",
   "metadata": {},
   "source": [
    "<div align=\"right\">Python 3.6 Jupyter Notebook</div>\n",
    "\n",
    "# Introduction to Bandicoot\n",
    "\n",
    "### Your completion of the notebook exercises will be graded based on your ability to do the following: \n",
    "\n",
    "> **Understand**: Do your pseudo-code and comments show evidence that you recall and understand technical concepts?\n",
    "\n",
    "> **Apply**: Are you able to execute code (using the supplied examples) that performs the required functionality on supplied or generated data sets? \n",
    "\n",
    "> **Evaluate**: Are you able to interpret the results and justify your interpretation based on the observed data?"
   ]
  },
  {
   "cell_type": "code",
   "execution_count": null,
   "metadata": {},
   "outputs": [
    {
     "ename": "",
     "evalue": "",
     "output_type": "error",
     "traceback": [
      "\u001b[1;31mRunning cells with 'Python 3.6.0' requires the ipykernel package.\n",
      "\u001b[1;31mRun the following command to install 'ipykernel' into the Python environment. \n",
      "\u001b[1;31mCommand: 'c:/Users/Pathways/.pyenv/pyenv-win/versions/3.6.0/python.exe -m pip install ipykernel -U --force-reinstall'"
     ]
    }
   ],
   "source": [
    "import sys\n",
    "print(sys.version)\n"
   ]
  },
  {
   "cell_type": "markdown",
   "metadata": {},
   "source": [
    "#### Notebook objectives\n",
    "By the end of this notebook, you will be expected to:\n",
    "\n",
    "> - Understand the use of Bandicoot in automating the analysis of mobile phone data records; and\n",
    "- Understand data error handling.\n",
    " \n",
    "####  List of exercises\n",
    ">   - **Exercise 1**: Calculating the number of call contacts.\n",
    "  - **Exercise 2**: Determining average day and night weekly call activity rates.\n",
    "  - **Exercise 3**: Interpreting gender assortativity values.\n",
    "  - **Exercise 4**: Handling data errors."
   ]
  },
  {
   "cell_type": "markdown",
   "metadata": {},
   "source": [
    "# Notebook introduction\n",
    "\n",
    "This course started by introducing you to tools and techniques that can be applied in analyzing data. This notebook briefly revisits the “Friends and Family” data set (for context purposes), before demonstrating how to generate summary statistics manually, and through Bandicoot. Subsequent sections briefly demonstrate Bandicoot's visualization capabilities, how to use Bandicoot in combination with network and graph content (introduced in Module 4), error handling, and loading files from a directory."
   ]
  },
  {
   "cell_type": "markdown",
   "metadata": {},
   "source": [
    "\n",
    "<div class=\"alert alert-warning\">\n",
    "<b>Note</b>:<br>\n",
    "It is strongly recommended that you save and checkpoint after applying significant changes or completing exercises. This allows you to return the notebook to a previous state should you wish to do so. On the Jupyter menu, select \"File\", then \"Save and Checkpoint\" from the dropdown menu that appears.\n",
    "</div>"
   ]
  },
  {
   "cell_type": "markdown",
   "metadata": {},
   "source": [
    "#### Load libraries"
   ]
  },
  {
   "cell_type": "code",
   "execution_count": 2,
   "metadata": {},
   "outputs": [
    {
     "ename": "ModuleNotFoundError",
     "evalue": "No module named 'pandas'",
     "output_type": "error",
     "traceback": [
      "\u001b[1;31m---------------------------------------------------------------------------\u001b[0m",
      "\u001b[1;31mModuleNotFoundError\u001b[0m                       Traceback (most recent call last)",
      "\u001b[1;32m<ipython-input-2-9aaa998e58e0>\u001b[0m in \u001b[0;36m<module>\u001b[1;34m\u001b[0m\n\u001b[0;32m      1\u001b[0m \u001b[1;32mimport\u001b[0m \u001b[0mos\u001b[0m\u001b[1;33m\u001b[0m\u001b[0m\n\u001b[1;32m----> 2\u001b[1;33m \u001b[1;32mimport\u001b[0m \u001b[0mpandas\u001b[0m \u001b[1;32mas\u001b[0m \u001b[0mpd\u001b[0m\u001b[1;33m\u001b[0m\u001b[0m\n\u001b[0m\u001b[0;32m      3\u001b[0m \u001b[1;32mimport\u001b[0m \u001b[0mbandicoot\u001b[0m \u001b[1;32mas\u001b[0m \u001b[0mbc\u001b[0m\u001b[1;33m\u001b[0m\u001b[0m\n\u001b[0;32m      4\u001b[0m \u001b[1;32mimport\u001b[0m \u001b[0mnumpy\u001b[0m \u001b[1;32mas\u001b[0m \u001b[0mnp\u001b[0m\u001b[1;33m\u001b[0m\u001b[0m\n\u001b[0;32m      5\u001b[0m \u001b[1;32mimport\u001b[0m \u001b[0mmatplotlib\u001b[0m\u001b[1;33m\u001b[0m\u001b[0m\n",
      "\u001b[1;31mModuleNotFoundError\u001b[0m: No module named 'pandas'"
     ]
    }
   ],
   "source": [
    "import os\n",
    "import pandas as pd\n",
    "import bandicoot as bc\n",
    "import numpy as np\n",
    "import matplotlib"
   ]
  },
  {
   "cell_type": "markdown",
   "metadata": {},
   "source": [
    "# 1. Data set review\n",
    " Some of the relevant information pertaining to the “Friends and Family” data set is repeated here, as you will be focusing on the content of the data in this module's notebooks.\n",
    " \n",
    "An experiment was designed in 2011 to study how people make decisions (with emphasis on the social aspects involved) and how people can be empowered to make better decisions using personal and social tools. The data set was collected by Nadav Aharony, Wei Pan, Cory Ip, Inas Khayal, and Alex Pentland. More details about this data set are available through the [MIT Reality Commons resource](http://realitycommons.media.mit.edu/friendsdataset.html).\n",
    "\n",
    "The subjects are members of a young-family, residential, living community adjacent to a major research university in North America. All members of the community are couples, and at least one of the members is affiliated with the university. The community comprises over 400 residents, approximately half of whom have children. A pilot phase of 55 participants was launched in March 2010. In September 2010, phase two of the study included 130 participants – approximately 64 families. Participants were selected out of approximately 200 applicants in a way that would achieve a representative sample of the community and sub-communities (Aharony et al. 2011).\n",
    "\n",
    "In this module, you will prepare and analyze the data in a social context, using tools and methods introduced in previous modules.\n",
    "\n",
    "# 2. Calculating summary statistics\n",
    "To better understand the process of creating features (referred to as behavioral indicators in Bandicoot), you will start by manually creating a feature. Creating features is a tedious process. Using libraries that are tailored for specific domains (such as Bandicoot) can significantly reduce the time required to generate features that you would use as input in machine-learning algorithms. It is important for you to both understand the process and ensure that the results produced by the libraries are as expected. In other words, you need to make sure that you use the correct function from the library to produce the expected results.\n",
    "## 2.1 Average weekly call duration\n",
    "\n",
    "In the first demonstration of automated analysis using Bandicoot, you will evaluate the average weekly call duration for a specific user, based on the interaction log file.\n"
   ]
  },
  {
   "cell_type": "markdown",
   "metadata": {},
   "source": [
    "#### 2.1.1 Data preparation"
   ]
  },
  {
   "cell_type": "markdown",
   "metadata": {},
   "source": [
    "First, review the content of the text file containing the records using the bash (command line) command, \"head\". This function has been demonstrated in earlier notebooks, and it is extremely useful when you need to get a quick view of a data set without loading it into your analysis environment. Should the contents prove useful, you can load it as a DataFrame."
   ]
  },
  {
   "cell_type": "code",
   "execution_count": 2,
   "metadata": {},
   "outputs": [
    {
     "name": "stderr",
     "output_type": "stream",
     "text": [
      "'head' is not recognized as an internal or external command,\n",
      "operable program or batch file.\n"
     ]
    }
   ],
   "source": [
    "# Retrieve the first three rows from the \"clean_records\" data set.\n",
    "!head -n 3 ../data/bandicoot/clean_records/fa10-01-08.csv"
   ]
  },
  {
   "cell_type": "code",
   "execution_count": 8,
   "metadata": {},
   "outputs": [],
   "source": [
    "import pandas as pd"
   ]
  },
  {
   "cell_type": "code",
   "execution_count": null,
   "metadata": {},
   "outputs": [],
   "source": [
    "df = pd_read.csv(\"../data/bandicoot/clean_records/fa10-01-08.csv\")"
   ]
  },
  {
   "cell_type": "code",
   "execution_count": null,
   "metadata": {},
   "outputs": [],
   "source": [
    "df.head(4)"
   ]
  },
  {
   "cell_type": "markdown",
   "metadata": {},
   "source": [
    "The first three lines of the file are displayed.  They contain a header row, as well as two data rows.\n",
    "\n",
    "Next, load the data set using the Pandas \"`read_csv`\" function, and use the \"datetime\" field as the DataFrame index. This example only focuses on calls.  You will create a new DataFrame containing only call data by filtering by the type of interaction."
   ]
  },
  {
   "cell_type": "code",
   "execution_count": 3,
   "metadata": {},
   "outputs": [
    {
     "data": {
      "text/html": [
       "<div>\n",
       "<style scoped>\n",
       "    .dataframe tbody tr th:only-of-type {\n",
       "        vertical-align: middle;\n",
       "    }\n",
       "\n",
       "    .dataframe tbody tr th {\n",
       "        vertical-align: top;\n",
       "    }\n",
       "\n",
       "    .dataframe thead th {\n",
       "        text-align: right;\n",
       "    }\n",
       "</style>\n",
       "<table border=\"1\" class=\"dataframe\">\n",
       "  <thead>\n",
       "    <tr style=\"text-align: right;\">\n",
       "      <th></th>\n",
       "      <th>interaction</th>\n",
       "      <th>direction</th>\n",
       "      <th>correspondent_id</th>\n",
       "      <th>datetime</th>\n",
       "      <th>call_duration</th>\n",
       "    </tr>\n",
       "    <tr>\n",
       "      <th>datetime</th>\n",
       "      <th></th>\n",
       "      <th></th>\n",
       "      <th></th>\n",
       "      <th></th>\n",
       "      <th></th>\n",
       "    </tr>\n",
       "  </thead>\n",
       "  <tbody>\n",
       "    <tr>\n",
       "      <th>2011-02-16 15:28:27</th>\n",
       "      <td>call</td>\n",
       "      <td>out</td>\n",
       "      <td>fa10-01-04</td>\n",
       "      <td>2011-02-16 15:28:27</td>\n",
       "      <td>58.0</td>\n",
       "    </tr>\n",
       "    <tr>\n",
       "      <th>2011-02-16 20:05:33</th>\n",
       "      <td>call</td>\n",
       "      <td>out</td>\n",
       "      <td>906fad226144b8d883211608d1f9642f6c584299</td>\n",
       "      <td>2011-02-16 20:05:33</td>\n",
       "      <td>42.0</td>\n",
       "    </tr>\n",
       "    <tr>\n",
       "      <th>2011-02-16 20:29:59</th>\n",
       "      <td>call</td>\n",
       "      <td>in</td>\n",
       "      <td>906fad226144b8d883211608d1f9642f6c584299</td>\n",
       "      <td>2011-02-16 20:29:59</td>\n",
       "      <td>365.0</td>\n",
       "    </tr>\n",
       "  </tbody>\n",
       "</table>\n",
       "</div>"
      ],
      "text/plain": [
       "                    interaction direction  \\\n",
       "datetime                                    \n",
       "2011-02-16 15:28:27        call       out   \n",
       "2011-02-16 20:05:33        call       out   \n",
       "2011-02-16 20:29:59        call        in   \n",
       "\n",
       "                                             correspondent_id  \\\n",
       "datetime                                                        \n",
       "2011-02-16 15:28:27                                fa10-01-04   \n",
       "2011-02-16 20:05:33  906fad226144b8d883211608d1f9642f6c584299   \n",
       "2011-02-16 20:29:59  906fad226144b8d883211608d1f9642f6c584299   \n",
       "\n",
       "                                datetime  call_duration  \n",
       "datetime                                                 \n",
       "2011-02-16 15:28:27  2011-02-16 15:28:27           58.0  \n",
       "2011-02-16 20:05:33  2011-02-16 20:05:33           42.0  \n",
       "2011-02-16 20:29:59  2011-02-16 20:29:59          365.0  "
      ]
     },
     "execution_count": 3,
     "metadata": {},
     "output_type": "execute_result"
    }
   ],
   "source": [
    "# Specify the user for review.\n",
    "user_id = 'sp10-01-08'\n",
    "\n",
    "# Load the data set and set the index.\n",
    "interactions = pd.read_csv('../data/bandicoot/clean_records/' + user_id + '.csv')\n",
    "interactions = pd.read_csv('../data/bandicoot/clean_records/sp10-01-08.csv')\n",
    "interactions.set_index(pd.DatetimeIndex(interactions['datetime']), inplace=True)\n",
    "insurace.set_index(pd.DatetimeIndex(insurance['paymentdate']), inplace=True)\n",
    "# Extract the calls. \n",
    "calls = interactions[interactions.interaction == 'call'].copy()\n",
    "messages = interactions[interactions.interaction == 'messages'].copy()\n",
    "# Display the head of the new calls dataframe.\n",
    "calls.head(3)\n",
    "messages.head()\n",
    "messages"
   ]
  },
  {
   "cell_type": "markdown",
   "metadata": {},
   "source": [
    "The \"correspondent_id\" field contains the user ID for the other party involved in a specific call interaction. Each \"correpondent_id\" is encoded in one of two formats: \n",
    "1. A hexadecimal integer that indicates the corresponding party did not form part of the study.\n",
    "2. A non-hexadecimal (string) data type for a party within the study group. \n",
    "\n",
    "The provided function below, \"``is_hex``\", checks if a string is hexadecimal or not."
   ]
  },
  {
   "cell_type": "code",
   "execution_count": 4,
   "metadata": {},
   "outputs": [],
   "source": [
    "def is_hex(s):\n",
    "    '''\n",
    "    Check if a string is hexadecimal.\n",
    "    '''\n",
    "    try:\n",
    "        int(s, 16)\n",
    "        return True\n",
    "    except ValueError:\n",
    "        return False"
   ]
  },
  {
   "cell_type": "markdown",
   "metadata": {},
   "source": [
    "Add a column that returns a Boolean indicating whether the value of \"correspondent_id\" is a hexadecimal or not, using the function defined above. This column can be used to filter interactions that only involve those users in the study population. "
   ]
  },
  {
   "cell_type": "code",
   "execution_count": 5,
   "metadata": {},
   "outputs": [],
   "source": [
    "calls['is_hex_correspondent_id'] = calls.correspondent_id.apply(lambda x: is_hex(x)).values"
   ]
  },
  {
   "cell_type": "code",
   "execution_count": 6,
   "metadata": {},
   "outputs": [
    {
     "data": {
      "text/html": [
       "<div>\n",
       "<style scoped>\n",
       "    .dataframe tbody tr th:only-of-type {\n",
       "        vertical-align: middle;\n",
       "    }\n",
       "\n",
       "    .dataframe tbody tr th {\n",
       "        vertical-align: top;\n",
       "    }\n",
       "\n",
       "    .dataframe thead th {\n",
       "        text-align: right;\n",
       "    }\n",
       "</style>\n",
       "<table border=\"1\" class=\"dataframe\">\n",
       "  <thead>\n",
       "    <tr style=\"text-align: right;\">\n",
       "      <th></th>\n",
       "      <th>interaction</th>\n",
       "      <th>direction</th>\n",
       "      <th>correspondent_id</th>\n",
       "      <th>datetime</th>\n",
       "      <th>call_duration</th>\n",
       "      <th>is_hex_correspondent_id</th>\n",
       "    </tr>\n",
       "    <tr>\n",
       "      <th>datetime</th>\n",
       "      <th></th>\n",
       "      <th></th>\n",
       "      <th></th>\n",
       "      <th></th>\n",
       "      <th></th>\n",
       "      <th></th>\n",
       "    </tr>\n",
       "  </thead>\n",
       "  <tbody>\n",
       "    <tr>\n",
       "      <th>2011-02-16 15:28:27</th>\n",
       "      <td>call</td>\n",
       "      <td>out</td>\n",
       "      <td>fa10-01-04</td>\n",
       "      <td>2011-02-16 15:28:27</td>\n",
       "      <td>58.0</td>\n",
       "      <td>False</td>\n",
       "    </tr>\n",
       "    <tr>\n",
       "      <th>2011-02-16 20:05:33</th>\n",
       "      <td>call</td>\n",
       "      <td>out</td>\n",
       "      <td>906fad226144b8d883211608d1f9642f6c584299</td>\n",
       "      <td>2011-02-16 20:05:33</td>\n",
       "      <td>42.0</td>\n",
       "      <td>True</td>\n",
       "    </tr>\n",
       "    <tr>\n",
       "      <th>2011-02-16 20:29:59</th>\n",
       "      <td>call</td>\n",
       "      <td>in</td>\n",
       "      <td>906fad226144b8d883211608d1f9642f6c584299</td>\n",
       "      <td>2011-02-16 20:29:59</td>\n",
       "      <td>365.0</td>\n",
       "      <td>True</td>\n",
       "    </tr>\n",
       "    <tr>\n",
       "      <th>2011-02-16 20:55:06</th>\n",
       "      <td>call</td>\n",
       "      <td>in</td>\n",
       "      <td>caf86d3d59c0866ac05cde465cffc2056e3cf441</td>\n",
       "      <td>2011-02-16 20:55:06</td>\n",
       "      <td>0.0</td>\n",
       "      <td>True</td>\n",
       "    </tr>\n",
       "    <tr>\n",
       "      <th>2011-02-16 21:12:25</th>\n",
       "      <td>call</td>\n",
       "      <td>out</td>\n",
       "      <td>fa10-01-04</td>\n",
       "      <td>2011-02-16 21:12:25</td>\n",
       "      <td>172.0</td>\n",
       "      <td>False</td>\n",
       "    </tr>\n",
       "  </tbody>\n",
       "</table>\n",
       "</div>"
      ],
      "text/plain": [
       "                    interaction direction  \\\n",
       "datetime                                    \n",
       "2011-02-16 15:28:27        call       out   \n",
       "2011-02-16 20:05:33        call       out   \n",
       "2011-02-16 20:29:59        call        in   \n",
       "2011-02-16 20:55:06        call        in   \n",
       "2011-02-16 21:12:25        call       out   \n",
       "\n",
       "                                             correspondent_id  \\\n",
       "datetime                                                        \n",
       "2011-02-16 15:28:27                                fa10-01-04   \n",
       "2011-02-16 20:05:33  906fad226144b8d883211608d1f9642f6c584299   \n",
       "2011-02-16 20:29:59  906fad226144b8d883211608d1f9642f6c584299   \n",
       "2011-02-16 20:55:06  caf86d3d59c0866ac05cde465cffc2056e3cf441   \n",
       "2011-02-16 21:12:25                                fa10-01-04   \n",
       "\n",
       "                                datetime  call_duration  \\\n",
       "datetime                                                  \n",
       "2011-02-16 15:28:27  2011-02-16 15:28:27           58.0   \n",
       "2011-02-16 20:05:33  2011-02-16 20:05:33           42.0   \n",
       "2011-02-16 20:29:59  2011-02-16 20:29:59          365.0   \n",
       "2011-02-16 20:55:06  2011-02-16 20:55:06            0.0   \n",
       "2011-02-16 21:12:25  2011-02-16 21:12:25          172.0   \n",
       "\n",
       "                     is_hex_correspondent_id  \n",
       "datetime                                      \n",
       "2011-02-16 15:28:27                    False  \n",
       "2011-02-16 20:05:33                     True  \n",
       "2011-02-16 20:29:59                     True  \n",
       "2011-02-16 20:55:06                     True  \n",
       "2011-02-16 21:12:25                    False  "
      ]
     },
     "execution_count": 6,
     "metadata": {},
     "output_type": "execute_result"
    }
   ],
   "source": [
    "calls.call_duration.Mean()"
   ]
  },
  {
   "cell_type": "markdown",
   "metadata": {
    "collapsed": true
   },
   "source": [
    "#### 2.1.2 Calculating the weekly average call duration"
   ]
  },
  {
   "cell_type": "markdown",
   "metadata": {},
   "source": [
    "Performing the calculation is a two-step process:\n",
    "1. Attribute each call that has the value for the week the interaction occurred to the variable \"week\". \n",
    "> **Note**: This is possible, in this case, because the data  range is within a specific year. Otherwise, you would have attributed the call to both the year and the week the interaction occurred.\n",
    "2. Use the Pandas \"``pd.group_by()``\" method (demonstrated in Module 2) to bin the data on the basis of the week of interaction."
   ]
  },
  {
   "cell_type": "code",
   "execution_count": 7,
   "metadata": {},
   "outputs": [
    {
     "data": {
      "text/html": [
       "<div>\n",
       "<style scoped>\n",
       "    .dataframe tbody tr th:only-of-type {\n",
       "        vertical-align: middle;\n",
       "    }\n",
       "\n",
       "    .dataframe tbody tr th {\n",
       "        vertical-align: top;\n",
       "    }\n",
       "\n",
       "    .dataframe thead th {\n",
       "        text-align: right;\n",
       "    }\n",
       "</style>\n",
       "<table border=\"1\" class=\"dataframe\">\n",
       "  <thead>\n",
       "    <tr style=\"text-align: right;\">\n",
       "      <th></th>\n",
       "      <th>mean_duration</th>\n",
       "      <th>std_duration</th>\n",
       "    </tr>\n",
       "    <tr>\n",
       "      <th>week</th>\n",
       "      <th></th>\n",
       "      <th></th>\n",
       "    </tr>\n",
       "  </thead>\n",
       "  <tbody>\n",
       "    <tr>\n",
       "      <th>7</th>\n",
       "      <td>89.076923</td>\n",
       "      <td>106.805691</td>\n",
       "    </tr>\n",
       "    <tr>\n",
       "      <th>8</th>\n",
       "      <td>50.891892</td>\n",
       "      <td>57.033316</td>\n",
       "    </tr>\n",
       "    <tr>\n",
       "      <th>9</th>\n",
       "      <td>58.950000</td>\n",
       "      <td>57.964192</td>\n",
       "    </tr>\n",
       "    <tr>\n",
       "      <th>11</th>\n",
       "      <td>129.750000</td>\n",
       "      <td>160.824244</td>\n",
       "    </tr>\n",
       "    <tr>\n",
       "      <th>12</th>\n",
       "      <td>95.340000</td>\n",
       "      <td>143.375676</td>\n",
       "    </tr>\n",
       "  </tbody>\n",
       "</table>\n",
       "</div>"
      ],
      "text/plain": [
       "      mean_duration  std_duration\n",
       "week                             \n",
       "7         89.076923    106.805691\n",
       "8         50.891892     57.033316\n",
       "9         58.950000     57.964192\n",
       "11       129.750000    160.824244\n",
       "12        95.340000    143.375676"
      ]
     },
     "execution_count": 7,
     "metadata": {},
     "output_type": "execute_result"
    }
   ],
   "source": [
    "# Add a field that contains the week number corresponding to a call record. \n",
    "calls['week'] = calls.index.isocalendar().week\n",
    "calls.head()\n",
    "\n",
    "# Get the mean and population(ddof=0) standard deviation of each grouping.\n",
    "weekly_averages = calls.groupby('week')['call_duration'].agg([np.mean, lambda x: np.std(x, ddof=0)])\n",
    "\n",
    "# Give the columns names that are intuitive.\n",
    "weekly_averages.columns = ['mean_duration', 'std_duration']\n",
    "\n",
    "                                                              \n",
    "# Review the data.\n",
    "weekly_averages.head()"
   ]
  },
  {
   "cell_type": "code",
   "execution_count": 8,
   "metadata": {},
   "outputs": [
    {
     "data": {
      "text/plain": [
       "[7, 8, 9, 11, 12, 13, 14, 15, 16, 17, 18, 19, 20, 21]"
      ]
     },
     "execution_count": 8,
     "metadata": {},
     "output_type": "execute_result"
    }
   ],
   "source": [
    "# Retrieve the bins (weeks).\n",
    "list(weekly_averages.index)"
   ]
  },
  {
   "cell_type": "code",
   "execution_count": 9,
   "metadata": {},
   "outputs": [
    {
     "name": "stdout",
     "output_type": "stream",
     "text": [
      "food\n"
     ]
    }
   ],
   "source": [
    "print(\"food\")"
   ]
  },
  {
   "cell_type": "markdown",
   "metadata": {},
   "source": [
    "Now that you have the weekly averages and standard deviation of the call duration, you can compute the mean weekly call duration and the mean weekly call duration standard deviation."
   ]
  },
  {
   "cell_type": "code",
   "execution_count": 9,
   "metadata": {
    "scrolled": false
   },
   "outputs": [
    {
     "name": "stdout",
     "output_type": "stream",
     "text": [
      "The average weekly call duration for the user is 78.536, while the average weekly standard deviation is 123.400.\n"
     ]
    }
   ],
   "source": [
    "print (\"The average weekly call duration for the user is {:.2f}, while the average weekly standard deviation is {:.3f}.\"\n",
    "       .format(weekly_averages.mean_duration.mean(), weekly_averages.std_duration.mean()))"
   ]
  },
  {
   "cell_type": "markdown",
   "metadata": {},
   "source": [
    "It is possible to use generic data analysis libraries (such as Pandas) that were introduced to you in earlier modules. However, in the next section of this notebook, you will return to a library briefly introduced to you in Module 2 of this course, namely Bandicoot."
   ]
  },
  {
   "cell_type": "code",
   "execution_count": 10,
   "metadata": {},
   "outputs": [
    {
     "data": {
      "text/html": [
       "<div>\n",
       "<style scoped>\n",
       "    .dataframe tbody tr th:only-of-type {\n",
       "        vertical-align: middle;\n",
       "    }\n",
       "\n",
       "    .dataframe tbody tr th {\n",
       "        vertical-align: top;\n",
       "    }\n",
       "\n",
       "    .dataframe thead th {\n",
       "        text-align: right;\n",
       "    }\n",
       "</style>\n",
       "<table border=\"1\" class=\"dataframe\">\n",
       "  <thead>\n",
       "    <tr style=\"text-align: right;\">\n",
       "      <th></th>\n",
       "      <th>mean_duration</th>\n",
       "      <th>std_duration</th>\n",
       "    </tr>\n",
       "  </thead>\n",
       "  <tbody>\n",
       "    <tr>\n",
       "      <th>count</th>\n",
       "      <td>14.000000</td>\n",
       "      <td>14.000000</td>\n",
       "    </tr>\n",
       "    <tr>\n",
       "      <th>mean</th>\n",
       "      <td>78.535608</td>\n",
       "      <td>123.400028</td>\n",
       "    </tr>\n",
       "    <tr>\n",
       "      <th>std</th>\n",
       "      <td>22.871163</td>\n",
       "      <td>67.149227</td>\n",
       "    </tr>\n",
       "    <tr>\n",
       "      <th>min</th>\n",
       "      <td>47.969697</td>\n",
       "      <td>55.472890</td>\n",
       "    </tr>\n",
       "    <tr>\n",
       "      <th>25%</th>\n",
       "      <td>62.004365</td>\n",
       "      <td>81.833478</td>\n",
       "    </tr>\n",
       "    <tr>\n",
       "      <th>50%</th>\n",
       "      <td>76.884146</td>\n",
       "      <td>106.724466</td>\n",
       "    </tr>\n",
       "    <tr>\n",
       "      <th>75%</th>\n",
       "      <td>88.737179</td>\n",
       "      <td>148.623888</td>\n",
       "    </tr>\n",
       "    <tr>\n",
       "      <th>max</th>\n",
       "      <td>129.750000</td>\n",
       "      <td>281.684580</td>\n",
       "    </tr>\n",
       "  </tbody>\n",
       "</table>\n",
       "</div>"
      ],
      "text/plain": [
       "       mean_duration  std_duration\n",
       "count      14.000000     14.000000\n",
       "mean       78.535608    123.400028\n",
       "std        22.871163     67.149227\n",
       "min        47.969697     55.472890\n",
       "25%        62.004365     81.833478\n",
       "50%        76.884146    106.724466\n",
       "75%        88.737179    148.623888\n",
       "max       129.750000    281.684580"
      ]
     },
     "execution_count": 10,
     "metadata": {},
     "output_type": "execute_result"
    }
   ],
   "source": [
    "weekly_averages.describe()"
   ]
  },
  {
   "cell_type": "markdown",
   "metadata": {
    "collapsed": true
   },
   "source": [
    "## 2.2 Using Bandicoot\n",
    "[Bandicoot](http://bandicoot.mit.edu/docs/index.html) is an open-source Python toolbox used to analyze mobile phone metadata. You can perform actions – similar to your manual steps – with a single command, using this library. \n",
    "\n",
    "The manual analysis of data sets can be an extremely tedious and resource-intensive process. Although it is outside of the scope of this course, it is important to start considering memory utilization, reproducibility of results, and the reuse of intermediate steps when working with large data sets. Toolboxes, such as Bandicoot, are optimized for improved performance,  and specific to mobile phone metadata analysis, meaning that the functions available are specific to the type of data to be analyzed.\n",
    "\n",
    "Please review the [Bandicoot reference manual](http://bandicoot.mit.edu/docs/reference/index.html) for details on functions, modules, and objects included in Bandicoot. Bandicoot has been preinstalled on your virtual analysis environment. Revisit the [Bandicoot quick guide](http://bandicoot.mit.edu/docs/quickstart.html) should you wish to set up this library in another environment.\n",
    "\n",
    "In the following example, you will redo the analysis from the previous section, and work on additional examples of data manipulation using Bandicoot."
   ]
  },
  {
   "cell_type": "markdown",
   "metadata": {},
   "source": [
    "#### Load the data\n",
    "This example starts with using the Bandicoot “import” function to load the input files. Note that the “import” function expects data in a specific format, and it provides additional information that allows you to better understand your data set."
   ]
  },
  {
   "cell_type": "code",
   "execution_count": 11,
   "metadata": {
    "scrolled": true
   },
   "outputs": [
    {
     "name": "stdout",
     "output_type": "stream",
     "text": [
      "\u001b[32m[x]\u001b[0m 3018 records from 2010-07-23 10:02:55 to 2011-05-27 16:23:21\n",
      "\u001b[32m[x]\u001b[0m 95 contacts\n",
      "\u001b[32m[ ]\u001b[0m No attribute stored\n",
      "\u001b[32m[x]\u001b[0m 27 antennas\n",
      "\u001b[32m[ ]\u001b[0m No recharges\n",
      "\u001b[32m[x]\u001b[0m Has home\n",
      "\u001b[32m[x]\u001b[0m Has texts\n",
      "\u001b[32m[x]\u001b[0m Has calls\n",
      "\u001b[32m[ ]\u001b[0m No network\n"
     ]
    },
    {
     "name": "stderr",
     "output_type": "stream",
     "text": [
      "\u001b[33mWarning: 100.00% of the records are missing a location.\n",
      "\u001b[0m"
     ]
    }
   ],
   "source": [
    "# Specify the user for review.\n",
    "user_id = 'sp10-01-08'\n",
    "# Load the data\n",
    "B = bc.read_csv(user_id, '../data/bandicoot/clean_records/', '../data/bandicoot/antennas.csv')\n",
    "# Load the data\n",
    "B = bc.read_csv('dennis.csv')"
   ]
  },
  {
   "cell_type": "markdown",
   "metadata": {},
   "source": [
    "> **Note**:\n",
    "\n",
    "> ```WARNING:root:100.00% of the records are missing a location.```\n",
    "\n",
    "> This message indicates that our data set does not include any antenna IDs. This column was removed from the DataFrame in order to preserve user privacy. A research study on the [privacy bounds of human mobility](http://www.nature.com/articles/srep01376/) indicated that knowing four spatio-temporal points (approximate places and times of an individual) is enough to re-identify an individual in an anonymized data set in 95% of the cases.\n"
   ]
  },
  {
   "cell_type": "markdown",
   "metadata": {},
   "source": [
    "### 2.2.1 Compute the weekly average call duration\n",
    "In Bandicoot, you can achieve the same result demonstrated earlier with a single method call named \"[call_duration](http://bandicoot.mit.edu/docs/reference/generated/bandicoot.individual.call_duration.html)\"."
   ]
  },
  {
   "cell_type": "code",
   "execution_count": 12,
   "metadata": {},
   "outputs": [
    {
     "data": {
      "text/plain": [
       "{\n",
       "    \"allweek\": {\n",
       "        \"allday\": {\n",
       "            \"call\": {\n",
       "                \"mean\": {\n",
       "                    \"mean\": 78.53560794244065,\n",
       "                    \"std\": 22.039203979301334\n",
       "                },\n",
       "                \"std\": {\n",
       "                    \"mean\": 123.40002832412657,\n",
       "                    \"std\": 64.70661423960068\n",
       "                }\n",
       "            }\n",
       "        }\n",
       "    }\n",
       "}"
      ]
     },
     "execution_count": 12,
     "metadata": {},
     "output_type": "execute_result"
    }
   ],
   "source": [
    "# Calculate the call_duration summary statistics using Bandicoot.\n",
    "bc.individual.call_duration(B)"
   ]
  },
  {
   "cell_type": "markdown",
   "metadata": {},
   "source": [
    "You can see that the results (above) are in line with the manual calculation (which was rounded to five decimals) that you performed earlier.\n",
    "By default, Bandicoot computes indicators on a weekly basis, and returns the average (mean) over all of the weeks available, and the standard deviation (std), in a nested dictionary. You can read more about the [creation of indicators](http://bandicoot.mit.edu/docs/quickstart.html#computing-indicators) in the Bandicoot documentation.\n",
    "The screenshot below demonstrates the format of the output produced.\n",
    "![Screenshot of bandicoot weekly patterns for call duration](bandicoot-training-master/mini-mockups-02.png \"Screenshot of bandicoot weekly patterns for call duration.\")"
   ]
  },
  {
   "cell_type": "markdown",
   "metadata": {},
   "source": [
    "To change the default behavior, and review the daily resolution, you can use “groupby”, in Bandicoot, as a method call argument. Other grouping parameters include \"month\", \"year\", and “None”.\n",
    "Now, change the grouping resolution to \"day\", in the following call, and display a summary of additional statistics by including a parameter for the summary argument."
   ]
  },
  {
   "cell_type": "code",
   "execution_count": 13,
   "metadata": {},
   "outputs": [
    {
     "data": {
      "text/plain": [
       "{\n",
       "    \"allweek\": {\n",
       "        \"allday\": {\n",
       "            \"call\": {\n",
       "                \"mean\": {\n",
       "                    \"mean\": 64.60487040060214,\n",
       "                    \"std\": 38.88886397177002\n",
       "                },\n",
       "                \"std\": {\n",
       "                    \"mean\": 71.27957421293777,\n",
       "                    \"std\": 75.43950476977011\n",
       "                },\n",
       "                \"median\": {\n",
       "                    \"mean\": 40.18292682926829,\n",
       "                    \"std\": 25.307199423349523\n",
       "                },\n",
       "                \"skewness\": {\n",
       "                    \"mean\": 0.7950038691706697,\n",
       "                    \"std\": 0.9017034751166386\n",
       "                },\n",
       "                \"kurtosis\": {\n",
       "                    \"mean\": 2.7993518047575847,\n",
       "                    \"std\": 2.4264955228944887\n",
       "                },\n",
       "                \"min\": {\n",
       "                    \"mean\": 9.024390243902438,\n",
       "                    \"std\": 17.071567869010913\n",
       "                },\n",
       "                \"max\": {\n",
       "                    \"mean\": 229.64634146341464,\n",
       "                    \"std\": 268.5035936513481\n",
       "                }\n",
       "            }\n",
       "        }\n",
       "    }\n",
       "}"
      ]
     },
     "execution_count": 13,
     "metadata": {},
     "output_type": "execute_result"
    }
   ],
   "source": [
    "bc.individual.call_duration(B, groupby='day', interaction='call')#, summary='extended')"
   ]
  },
  {
   "cell_type": "markdown",
   "metadata": {},
   "source": [
    "> **Note**:\n",
    "    \n",
    "> You will notice that you can switch between groupings by day, week, or month with ease. This is one of the advantages referred to earlier. In cases where you manually analyze the data, you would have had to manually create these features, or utilize  much more resource-intensive parsing functions in order to achieve similar results. You can choose to include all options or change to a new grouping with minimal changes required from your side, and no additional functions needing to be created."
   ]
  },
  {
   "cell_type": "markdown",
   "metadata": {},
   "source": [
    "<br>\n",
    "<div class=\"alert alert-info\">\n",
    "<b>Exercise 1 Start.</b>\n",
    "</div>\n",
    "\n",
    "### Instructions\n",
    "\n",
    "> 1. Compute the average **number of call contacts** for data set, B, grouped by:\n",
    "      1. Month; and\n",
    "      2. Week.\n",
    "\n",
    "> **Hint**: You can review the help file for the \"[number_of_contacts](http://bandicoot.mit.edu/docs/reference/generated/bandicoot.individual.number_of_contacts.html#bandicoot.individual.number_of_contacts)\" function to get started."
   ]
  },
  {
   "cell_type": "code",
   "execution_count": 14,
   "metadata": {},
   "outputs": [
    {
     "data": {
      "text/plain": [
       "{\n",
       "    \"allweek\": {\n",
       "        \"allday\": {\n",
       "            \"call\": {\n",
       "                \"mean\": 24.0,\n",
       "                \"std\": 5.244044240850758\n",
       "            }\n",
       "        }\n",
       "    }\n",
       "}"
      ]
     },
     "execution_count": 14,
     "metadata": {},
     "output_type": "execute_result"
    }
   ],
   "source": [
    "# Average number of call contacts for data set, B, grouped by month\n",
    "bc.individual.number_of_contacts(B, groupby='month', interaction='call')"
   ]
  },
  {
   "cell_type": "code",
   "execution_count": 15,
   "metadata": {},
   "outputs": [
    {
     "data": {
      "text/plain": [
       "{\n",
       "    \"allweek\": {\n",
       "        \"allday\": {\n",
       "            \"call\": {\n",
       "                \"mean\": 10.857142857142858,\n",
       "                \"std\": 3.4404555939406554\n",
       "            }\n",
       "        }\n",
       "    }\n",
       "}"
      ]
     },
     "execution_count": 15,
     "metadata": {},
     "output_type": "execute_result"
    }
   ],
   "source": [
    "# Average number of call contacts for data set, B, grouped by week\n",
    "bc.individual.number_of_contacts(B, groupby='week', interaction='call')"
   ]
  },
  {
   "cell_type": "markdown",
   "metadata": {},
   "source": [
    "<br>\n",
    "<div class=\"alert alert-info\">\n",
    "<b>Exercise 1 End.</b>\n",
    "</div>\n",
    "\n",
    "> **Exercise complete**:\n",
    "    \n",
    "> This is a good time to \"Save and Checkpoint\"."
   ]
  },
  {
   "cell_type": "markdown",
   "metadata": {},
   "source": [
    "### 2.2.2 Splitting records\n",
    "Regardless of the grouping time resolution, it is often useful to stratify the data between weekday and weekend, or day and night. Bandicoot allows you to achieve this with its Boolean split arguments, \"split_week\" and \"split_day\". You can read more about Bandicoot’s \"[number_of_interactions](http://bandicoot.mit.edu/docs/reference/generated/bandicoot.individual.number_of_interactions.html)\", and then execute the code below to view the data on the daily number of interactions stratified with \"split_week\". \n",
    "\n",
    "> **Note**: \n",
    "\n",
    "> This strategy is employed to generate features to be processed by machine learning algorithms, where the algorithms can identify behavior which is not visible at small scale. In 2015, a study, titled \"[Predicting Gender from Mobile Phone Metadata](https://docs.google.com/presentation/d/1gdPju5QW1bsjnZuTdqZEhCP-SbyJ1J8JleXaqkD8s2c/edit?usp=sharing)\" (presented at the Netmob Conference, Cambridge), showed that the most predictive feature for men in a South Asian country is the \"percent of calls initiated by the person during weekend nights\", while the most predictive feature for men in the European Union is \"the maximum text response delay during the week\" (Jahani et al. 2015).\n",
    "\n",
    "> <img src=\"Gender_features.png\" alt=\"Drawing\" style=\"width: 500px;\"/>\n"
   ]
  },
  {
   "cell_type": "code",
   "execution_count": 16,
   "metadata": {
    "scrolled": false
   },
   "outputs": [
    {
     "data": {
      "text/plain": [
       "{\n",
       "    \"allweek\": {\n",
       "        \"allday\": {\n",
       "            \"text\": {\n",
       "                \"mean\": 9.561068702290076,\n",
       "                \"std\": 8.063801620067244\n",
       "            }\n",
       "        }\n",
       "    }\n",
       "}"
      ]
     },
     "execution_count": 16,
     "metadata": {},
     "output_type": "execute_result"
    }
   ],
   "source": [
    "# Use bandicoot to split the records by day.\n",
    "bc.individual.number_of_interactions(B, groupby='day', interaction='text')"
   ]
  },
  {
   "cell_type": "code",
   "execution_count": 17,
   "metadata": {},
   "outputs": [
    {
     "data": {
      "text/plain": [
       "<Axes: title={'center': 'Daily vs nightly interactions'}, xlabel='period'>"
      ]
     },
     "execution_count": 17,
     "metadata": {},
     "output_type": "execute_result"
    },
    {
     "data": {
      "image/png": "[encoded data removed]",
      "text/plain": [
       "<Figure size 640x480 with 1 Axes>"
      ]
     },
     "metadata": {},
     "output_type": "display_data"
    }
   ],
   "source": [
    "# Plot the results. The mean is plotted as a barplot, with the std deviation as an error bar.\n",
    "%matplotlib inline\n",
    "\n",
    "interactions_split_by_day = bc.individual.number_of_interactions(B, groupby='day', split_day=True, interaction='call')\n",
    "\n",
    "interactions_split = []\n",
    "for period, values in interactions_split_by_day['allweek'].items():\n",
    "    interactions_split.append([period, values['call']['mean'], values['call']['std']])\n",
    "\n",
    "interactions_split = pd.DataFrame(interactions_split,columns=['period', 'mean','std'])    \n",
    "interactions_split[['period', 'mean']].plot(kind='bar' , x='period', title='Daily vs nightly interactions',\n",
    "                                            yerr=interactions_split['std'].values, )"
   ]
  },
  {
   "cell_type": "markdown",
   "metadata": {},
   "source": [
    "The argument \"`split_day`\" is now demonstrated (below) to allow you to view all available strata."
   ]
  },
  {
   "cell_type": "code",
   "execution_count": 18,
   "metadata": {
    "scrolled": false
   },
   "outputs": [
    {
     "data": {
      "text/plain": [
       "{\n",
       "    \"allweek\": {\n",
       "        \"allday\": {\n",
       "            \"call\": {\n",
       "                \"mean\": 6.2560975609756095,\n",
       "                \"std\": 4.119587285774633\n",
       "            }\n",
       "        },\n",
       "        \"day\": {\n",
       "            \"call\": {\n",
       "                \"mean\": 4.8076923076923075,\n",
       "                \"std\": 3.1462541517456484\n",
       "            }\n",
       "        },\n",
       "        \"night\": {\n",
       "            \"call\": {\n",
       "                \"mean\": 2.3793103448275863,\n",
       "                \"std\": 1.9811837823756178\n",
       "            }\n",
       "        }\n",
       "    },\n",
       "    \"weekday\": {\n",
       "        \"allday\": {\n",
       "            \"call\": {\n",
       "                \"mean\": 6.5,\n",
       "                \"std\": 3.947573094109004\n",
       "            }\n",
       "        },\n",
       "        \"day\": {\n",
       "            \"call\": {\n",
       "                \"mean\": 4.964912280701754,\n",
       "                \"std\": 3.1453943622477163\n",
       "            }\n",
       "        },\n",
       "        \"night\": {\n",
       "            \"call\": {\n",
       "                \"mean\": 2.276595744680851,\n",
       "                \"std\": 1.5804945046189909\n",
       "            }\n",
       "        }\n",
       "    },\n",
       "    \"weekend\": {\n",
       "        \"allday\": {\n",
       "            \"call\": {\n",
       "                \"mean\": 5.590909090909091,\n",
       "                \"std\": 4.488967191490821\n",
       "            }\n",
       "        },\n",
       "        \"day\": {\n",
       "            \"call\": {\n",
       "                \"mean\": 4.380952380952381,\n",
       "                \"std\": 3.1087616655141836\n",
       "            }\n",
       "        },\n",
       "        \"night\": {\n",
       "            \"call\": {\n",
       "                \"mean\": 2.8181818181818183,\n",
       "                \"std\": 3.1281182789245916\n",
       "            }\n",
       "        }\n",
       "    }\n",
       "}"
      ]
     },
     "execution_count": 18,
     "metadata": {},
     "output_type": "execute_result"
    }
   ],
   "source": [
    "bc.individual.number_of_interactions(B, groupby='day', split_week=True, split_day=True, interaction='call')"
   ]
  },
  {
   "cell_type": "markdown",
   "metadata": {},
   "source": [
    "> **Note**:\n",
    "\n",
    "> The number of interactions is higher for “day” compared to “night”, as well as for “weekday” compared to “weekend”. "
   ]
  },
  {
   "cell_type": "markdown",
   "metadata": {},
   "source": [
    "### 2.2.3 Other indicators\n",
    "Machine learning algorithms use features for prediction and clustering tasks. Difficulty arises when manually generating these features. However, using custom libraries (such as Bandicoot) to generate them on your behalf can significantly speed up and standardize the process. In earlier modules, you performed manual checks on data quality. Experience will teach you that this step always takes longer than anticipated, and requires significant effort to determine the relevant questions, and then to execute them. Using a standardized library such as Bandicoot saves time in analyzing data sets, and spotting data quality issues, and makes the actions repeatable or comparable with other data sets or analyses.\n",
    "\n",
    "Two additional features are demonstrated here. You can refer to the Bandicoot reference material for additional available features.\n",
    "\n",
    "#### Active days (days with at least one interaction)"
   ]
  },
  {
   "cell_type": "code",
   "execution_count": 19,
   "metadata": {},
   "outputs": [
    {
     "data": {
      "text/plain": [
       "{\n",
       "    \"allweek\": {\n",
       "        \"allday\": {\n",
       "            \"callandtext\": {\n",
       "                \"mean\": 6.068181818181818,\n",
       "                \"std\": 1.3211174208485112\n",
       "            }\n",
       "        }\n",
       "    }\n",
       "}"
      ]
     },
     "execution_count": 19,
     "metadata": {},
     "output_type": "execute_result"
    }
   ],
   "source": [
    "# Active days.\n",
    "bc.individual.active_days(B)"
   ]
  },
  {
   "cell_type": "markdown",
   "metadata": {},
   "source": [
    "> **Note**: \n",
    "\n",
    "> Remember that Bandicoot defaults to grouping by week, if the grouping is not explicitly specified."
   ]
  },
  {
   "cell_type": "markdown",
   "metadata": {},
   "source": [
    "#### Number of contacts\n",
    "This number can be interesting, as some research suggests that it is predictable for humans, and that, in the long run, it is near constant for any individual. Review the following articles for additional information:\n",
    "- [Your Brain Limits You to Just Five BFFs](https://www.technologyreview.com/s/601369/your-brain-limits-you-to-just-five-bffs/)\n",
    "- [Limited communication capacity unveils strategies for human interaction](http://www.nature.com/articles/srep01950)"
   ]
  },
  {
   "cell_type": "code",
   "execution_count": 20,
   "metadata": {},
   "outputs": [
    {
     "data": {
      "text/plain": [
       "{\n",
       "    \"allweek\": {\n",
       "        \"allday\": {\n",
       "            \"call\": {\n",
       "                \"mean\": 10.857142857142858,\n",
       "                \"std\": 3.4404555939406554\n",
       "            },\n",
       "            \"text\": {\n",
       "                \"mean\": 6.5,\n",
       "                \"std\": 2.2309802166923687\n",
       "            }\n",
       "        }\n",
       "    },\n",
       "    \"weekday\": {\n",
       "        \"allday\": {\n",
       "            \"call\": {\n",
       "                \"mean\": 9.384615384615385,\n",
       "                \"std\": 2.020603928702107\n",
       "            },\n",
       "            \"text\": {\n",
       "                \"mean\": 5.604651162790698,\n",
       "                \"std\": 1.7932630370843723\n",
       "            }\n",
       "        }\n",
       "    },\n",
       "    \"weekend\": {\n",
       "        \"allday\": {\n",
       "            \"call\": {\n",
       "                \"mean\": 4.3076923076923075,\n",
       "                \"std\": 2.16207220347003\n",
       "            },\n",
       "            \"text\": {\n",
       "                \"mean\": 3.225,\n",
       "                \"std\": 1.8505066873697054\n",
       "            }\n",
       "        }\n",
       "    }\n",
       "}"
      ]
     },
     "execution_count": 20,
     "metadata": {},
     "output_type": "execute_result"
    }
   ],
   "source": [
    "# Number of contacts. \n",
    "bc.individual.number_of_contacts(B, split_week=True)"
   ]
  },
  {
   "cell_type": "markdown",
   "metadata": {},
   "source": [
    "> **Note**:\n",
    "\n",
    "> It appears as though there might be a difference between the number of people contacted by phone between the weekend and weekdays.\n",
    "\n",
    "#### All available features\n",
    "Bandicoot currently contains 1442 features. You can obtain a quick overview of the features for this data set using the Bandicoot \"[utils.all](http://bandicoot.mit.edu/docs/reference/generated/bandicoot.utils.all.html#bandicoot.utils.all)\" function. The three categories of indicators are individual, spatial, and network-related features."
   ]
  },
  {
   "cell_type": "code",
   "execution_count": 21,
   "metadata": {
    "scrolled": false
   },
   "outputs": [
    {
     "data": {
      "text/plain": [
       "{\n",
       "    \"name\": \"sp10-01-08\",\n",
       "    \"reporting\": {\n",
       "        \"antennas_path\": \"../data/bandicoot/antennas.csv\",\n",
       "        \"attributes_path\": None,\n",
       "        \"recharges_path\": None,\n",
       "        \"version\": \"0.6.0\",\n",
       "        \"code_signature\": \"393d9a4492531c67c9f48116813b98e8157142be\",\n",
       "        \"groupby\": \"week\",\n",
       "        \"split_week\": false,\n",
       "        \"split_day\": false,\n",
       "        \"start_time\": \"2010-07-23 10:02:55\",\n",
       "        \"end_time\": \"2011-05-27 16:23:21\",\n",
       "        \"night_start\": \"19:00:00\",\n",
       "        \"night_end\": \"07:00:00\",\n",
       "        \"weekend\": [\n",
       "            6,\n",
       "            7\n",
       "        ],\n",
       "        \"number_of_records\": 3018,\n",
       "        \"number_of_antennas\": 27,\n",
       "        \"number_of_recharges\": 0,\n",
       "        \"bins\": 45,\n",
       "        \"bins_with_data\": 44,\n",
       "        \"bins_without_data\": 1,\n",
       "        \"has_call\": true,\n",
       "        \"has_text\": true,\n",
       "        \"has_home\": true,\n",
       "        \"has_recharges\": false,\n",
       "        \"has_attributes\": false,\n",
       "        \"has_network\": false,\n",
       "        \"percent_records_missing_location\": 1.0,\n",
       "        \"antennas_missing_locations\": 0,\n",
       "        \"percent_outofnetwork_calls\": 0,\n",
       "        \"percent_outofnetwork_texts\": 0,\n",
       "        \"percent_outofnetwork_contacts\": 0,\n",
       "        \"percent_outofnetwork_call_durations\": 0,\n",
       "        \"ignored_records\": {\n",
       "            \"all\": 0,\n",
       "            \"interaction\": 0,\n",
       "            \"direction\": 0,\n",
       "            \"correspondent_id\": 0,\n",
       "            \"datetime\": 0,\n",
       "            \"call_duration\": 0,\n",
       "            \"location\": 0\n",
       "        }\n",
       "    },\n",
       "    \"active_days\": {\n",
       "        \"allweek\": {\n",
       "            \"allday\": {\n",
       "                \"callandtext\": {\n",
       "                    \"mean\": 6.068181818181818,\n",
       "                    \"std\": 1.3211174208485112\n",
       "                }\n",
       "            }\n",
       "        }\n",
       "    },\n",
       "    \"number_of_contacts\": {\n",
       "        \"allweek\": {\n",
       "            \"allday\": {\n",
       "                \"call\": {\n",
       "                    \"mean\": 10.857142857142858,\n",
       "                    \"std\": 3.4404555939406554\n",
       "                },\n",
       "                \"text\": {\n",
       "                    \"mean\": 6.5,\n",
       "                    \"std\": 2.2309802166923687\n",
       "                }\n",
       "            }\n",
       "        }\n",
       "    },\n",
       "    \"call_duration\": {\n",
       "        \"allweek\": {\n",
       "            \"allday\": {\n",
       "                \"call\": {\n",
       "                    \"mean\": {\n",
       "                        \"mean\": 78.53560794244065,\n",
       "                        \"std\": 22.039203979301334\n",
       "                    },\n",
       "                    \"std\": {\n",
       "                        \"mean\": 123.40002832412657,\n",
       "                        \"std\": 64.70661423960068\n",
       "                    }\n",
       "                }\n",
       "            }\n",
       "        }\n",
       "    },\n",
       "    \"percent_nocturnal\": {\n",
       "        \"allweek\": {\n",
       "            \"allday\": {\n",
       "                \"call\": {\n",
       "                    \"mean\": 0.25899330786511954,\n",
       "                    \"std\": 0.09486493471738665\n",
       "                },\n",
       "                \"text\": {\n",
       "                    \"mean\": 0.27227957420805143,\n",
       "                    \"std\": 0.16016889649535024\n",
       "                }\n",
       "            }\n",
       "        }\n",
       "    },\n",
       "    \"percent_initiated_conversations\": {\n",
       "        \"allweek\": {\n",
       "            \"allday\": {\n",
       "                \"callandtext\": {\n",
       "                    \"mean\": 0.4528475374210382,\n",
       "                    \"std\": 0.13616423502535188\n",
       "                }\n",
       "            }\n",
       "        }\n",
       "    },\n",
       "    \"percent_initiated_interactions\": {\n",
       "        \"allweek\": {\n",
       "            \"allday\": {\n",
       "                \"call\": {\n",
       "                    \"mean\": 0.6794430521762506,\n",
       "                    \"std\": 0.13597509713665354\n",
       "                }\n",
       "            }\n",
       "        }\n",
       "    },\n",
       "    \"response_delay_text\": {\n",
       "        \"allweek\": {\n",
       "            \"allday\": {\n",
       "                \"callandtext\": {\n",
       "                    \"mean\": {\n",
       "                        \"mean\": 839.2384576488857,\n",
       "                        \"std\": 518.9938642189124\n",
       "                    },\n",
       "                    \"std\": {\n",
       "                        \"mean\": 775.3050759323017,\n",
       "                        \"std\": 303.02270140703934\n",
       "                    }\n",
       "                }\n",
       "            }\n",
       "        }\n",
       "    },\n",
       "    \"response_rate_text\": {\n",
       "        \"allweek\": {\n",
       "            \"allday\": {\n",
       "                \"callandtext\": {\n",
       "                    \"mean\": 0.45199581335417255,\n",
       "                    \"std\": 0.19005257633511494\n",
       "                }\n",
       "            }\n",
       "        }\n",
       "    },\n",
       "    \"entropy_of_contacts\": {\n",
       "        \"allweek\": {\n",
       "            \"allday\": {\n",
       "                \"call\": {\n",
       "                    \"mean\": 1.8159238274742457,\n",
       "                    \"std\": 0.282863417749868\n",
       "                },\n",
       "                \"text\": {\n",
       "                    \"mean\": 1.3867236772903455,\n",
       "                    \"std\": 0.3817229337326083\n",
       "                }\n",
       "            }\n",
       "        }\n",
       "    },\n",
       "    \"balance_of_contacts\": {\n",
       "        \"allweek\": {\n",
       "            \"allday\": {\n",
       "                \"call\": {\n",
       "                    \"mean\": {\n",
       "                        \"mean\": 0.07482959672600675,\n",
       "                        \"std\": 0.051769333237471474\n",
       "                    },\n",
       "                    \"std\": {\n",
       "                        \"mean\": 0.09162055114592219,\n",
       "                        \"std\": 0.0388758929731408\n",
       "                    }\n",
       "                },\n",
       "                \"text\": {\n",
       "                    \"mean\": {\n",
       "                        \"mean\": 0.08928202373487627,\n",
       "                        \"std\": 0.07863143909767484\n",
       "                    },\n",
       "                    \"std\": {\n",
       "                        \"mean\": 0.07419744901736243,\n",
       "                        \"std\": 0.043255958219468746\n",
       "                    }\n",
       "                }\n",
       "            }\n",
       "        }\n",
       "    },\n",
       "    \"interactions_per_contact\": {\n",
       "        \"allweek\": {\n",
       "            \"allday\": {\n",
       "                \"call\": {\n",
       "                    \"mean\": {\n",
       "                        \"mean\": 3.269665762575426,\n",
       "                        \"std\": 0.9117014746471332\n",
       "                    },\n",
       "                    \"std\": {\n",
       "                        \"mean\": 4.010896471422428,\n",
       "                        \"std\": 1.7930570859396797\n",
       "                    }\n",
       "                },\n",
       "                \"text\": {\n",
       "                    \"mean\": {\n",
       "                        \"mean\": 8.733665387642658,\n",
       "                        \"std\": 4.053615963371151\n",
       "                    },\n",
       "                    \"std\": {\n",
       "                        \"mean\": 8.395742518319373,\n",
       "                        \"std\": 5.3919895370915425\n",
       "                    }\n",
       "                }\n",
       "            }\n",
       "        }\n",
       "    },\n",
       "    \"interevent_time\": {\n",
       "        \"allweek\": {\n",
       "            \"allday\": {\n",
       "                \"call\": {\n",
       "                    \"mean\": {\n",
       "                        \"mean\": 14349.034892754877,\n",
       "                        \"std\": 4164.875365143588\n",
       "                    },\n",
       "                    \"std\": {\n",
       "                        \"mean\": 23980.841556900185,\n",
       "                        \"std\": 7052.467773592711\n",
       "                    }\n",
       "                },\n",
       "                \"text\": {\n",
       "                    \"mean\": {\n",
       "                        \"mean\": 12670.521637795498,\n",
       "                        \"std\": 9866.540875192557\n",
       "                    },\n",
       "                    \"std\": {\n",
       "                        \"mean\": 24753.764052411032,\n",
       "                        \"std\": 14552.945111270034\n",
       "                    }\n",
       "                }\n",
       "            }\n",
       "        }\n",
       "    },\n",
       "    \"percent_pareto_interactions\": {\n",
       "        \"allweek\": {\n",
       "            \"allday\": {\n",
       "                \"call\": {\n",
       "                    \"mean\": 0.16570068662395185,\n",
       "                    \"std\": 0.07646431444354586\n",
       "                },\n",
       "                \"text\": {\n",
       "                    \"mean\": 0.08668567944678947,\n",
       "                    \"std\": 0.0849635585015579\n",
       "                }\n",
       "            }\n",
       "        }\n",
       "    },\n",
       "    \"percent_pareto_durations\": {\n",
       "        \"allweek\": {\n",
       "            \"allday\": {\n",
       "                \"call\": {\n",
       "                    \"mean\": 0.11838819204406757,\n",
       "                    \"std\": 0.05407866532867487\n",
       "                }\n",
       "            }\n",
       "        }\n",
       "    },\n",
       "    \"number_of_interactions\": {\n",
       "        \"allweek\": {\n",
       "            \"allday\": {\n",
       "                \"call\": {\n",
       "                    \"mean\": 36.642857142857146,\n",
       "                    \"std\": 17.339497203359333\n",
       "                },\n",
       "                \"text\": {\n",
       "                    \"mean\": 56.93181818181818,\n",
       "                    \"std\": 31.96830655456967\n",
       "                }\n",
       "            }\n",
       "        }\n",
       "    },\n",
       "    \"number_of_interaction_in\": {\n",
       "        \"allweek\": {\n",
       "            \"allday\": {\n",
       "                \"call\": {\n",
       "                    \"mean\": 11.785714285714286,\n",
       "                    \"std\": 5.808596725403421\n",
       "                },\n",
       "                \"text\": {\n",
       "                    \"mean\": 30.295454545454547,\n",
       "                    \"std\": 16.408949256502666\n",
       "                }\n",
       "            }\n",
       "        }\n",
       "    },\n",
       "    \"number_of_interaction_out\": {\n",
       "        \"allweek\": {\n",
       "            \"allday\": {\n",
       "                \"call\": {\n",
       "                    \"mean\": 24.857142857142858,\n",
       "                    \"std\": 13.308735814478842\n",
       "                },\n",
       "                \"text\": {\n",
       "                    \"mean\": 26.636363636363637,\n",
       "                    \"std\": 16.322169682382793\n",
       "                }\n",
       "            }\n",
       "        }\n",
       "    },\n",
       "    \"number_of_antennas\": {\n",
       "        \"allweek\": {\n",
       "            \"allday\": {\n",
       "                \"mean\": 1.0,\n",
       "                \"std\": 0.0\n",
       "            }\n",
       "        }\n",
       "    },\n",
       "    \"entropy_of_antennas\": {\n",
       "        \"allweek\": {\n",
       "            \"allday\": {\n",
       "                \"mean\": 0.0,\n",
       "                \"std\": 0.0\n",
       "            }\n",
       "        }\n",
       "    },\n",
       "    \"percent_at_home\": {\n",
       "        \"allweek\": {\n",
       "            \"allday\": {\n",
       "                \"mean\": 1.0,\n",
       "                \"std\": 0.0\n",
       "            }\n",
       "        }\n",
       "    },\n",
       "    \"radius_of_gyration\": {\n",
       "        \"allweek\": {\n",
       "            \"allday\": {\n",
       "                \"mean\": None,\n",
       "                \"std\": None\n",
       "            }\n",
       "        }\n",
       "    },\n",
       "    \"frequent_antennas\": {\n",
       "        \"allweek\": {\n",
       "            \"allday\": {\n",
       "                \"mean\": 1.0,\n",
       "                \"std\": 0.0\n",
       "            }\n",
       "        }\n",
       "    },\n",
       "    \"churn_rate\": {\n",
       "        \"mean\": 0.0,\n",
       "        \"std\": 0.0\n",
       "    }\n",
       "}"
      ]
     },
     "execution_count": 21,
     "metadata": {},
     "output_type": "execute_result"
    }
   ],
   "source": [
    "bc.utils.all(B)"
   ]
  },
  {
   "cell_type": "markdown",
   "metadata": {},
   "source": [
    "> **Note**:\n",
    "\n",
    "> The “reporting” variables allow you to better understand the nature and origin of the data, as well as which computations have been performed (which version of the code, etc.). "
   ]
  },
  {
   "cell_type": "markdown",
   "metadata": {},
   "source": [
    "<br>\n",
    "<div class=\"alert alert-info\">\n",
    "<b>Exercise 2 Start.</b>\n",
    "</div>\n",
    "\n",
    "### Instructions\n",
    "\n",
    "> 1. Using Bandicoot, find the user activity rate during the week and on weekends. Show your calculations and express your answer as a percentage using the print statement. \n",
    ">> **Note**: Five days constitute the maximum number of weekdays, and two days are the maximum possible number of weekend days."
   ]
  },
  {
   "cell_type": "code",
   "execution_count": 22,
   "metadata": {},
   "outputs": [
    {
     "data": {
      "text/plain": [
       "{\n",
       "    \"allweek\": {\n",
       "        \"allday\": {\n",
       "            \"callandtext\": {\n",
       "                \"mean\": 6.068181818181818,\n",
       "                \"std\": 1.3211174208485112\n",
       "            }\n",
       "        }\n",
       "    },\n",
       "    \"weekday\": {\n",
       "        \"allday\": {\n",
       "            \"callandtext\": {\n",
       "                \"mean\": 4.604651162790698,\n",
       "                \"std\": 0.7817551773940277\n",
       "            }\n",
       "        }\n",
       "    },\n",
       "    \"weekend\": {\n",
       "        \"allday\": {\n",
       "            \"callandtext\": {\n",
       "                \"mean\": 1.6829268292682926,\n",
       "                \"std\": 0.46533619581314434\n",
       "            }\n",
       "        }\n",
       "    }\n",
       "}"
      ]
     },
     "execution_count": 22,
     "metadata": {},
     "output_type": "execute_result"
    }
   ],
   "source": [
    "# Active days during the week and on weekends.\n",
    "bc.individual.active_days(B, split_week=True)"
   ]
  },
  {
   "cell_type": "code",
   "execution_count": 23,
   "metadata": {},
   "outputs": [
    {
     "name": "stdout",
     "output_type": "stream",
     "text": [
      "User activity rate during week : 92.09 percent, and on weekends :84.15 percent.\n"
     ]
    }
   ],
   "source": [
    "# Calculations and answer as a percentage using the print statement.\n",
    "active_days_weekday = 4.604651162790698\n",
    "active_days_weekend = 1.6829268292682926\n",
    "print('User activity rate during week : {:.2f} percent, and on weekends :{:.2f} percent.'\n",
    "      .format(((active_days_weekday/5)*100),(active_days_weekend/2)*100))"
   ]
  },
  {
   "cell_type": "markdown",
   "metadata": {},
   "source": [
    "<br>\n",
    "<div class=\"alert alert-info\">\n",
    "<b>Exercise 2 End.</b>\n",
    "</div>\n",
    "\n",
    "> **Exercise complete**:\n",
    "    \n",
    "> This is a good time to \"Save and Checkpoint\"."
   ]
  },
  {
   "cell_type": "markdown",
   "metadata": {},
   "source": [
    "# 3. Visualization with Bandicoot\n",
    "\n",
    "Now that you have more background information on the toolbox and its capabilities, the visualization demonstrated in Module 2 will be repeated. As Yves-Alexandre de Montjoye mentioned in the video content, visualization is a powerful tool. This is not only with regard to communicating your final results, but also in terms of checking the validity of your data, in order to identify errors and outliers. Bandicoot is also a powerful tool when used in visually identifying useful patterns that are hidden by the aggregation processes applied to the raw data."
   ]
  },
  {
   "cell_type": "code",
   "execution_count": null,
   "metadata": {},
   "outputs": [
    {
     "name": "stdout",
     "output_type": "stream",
     "text": [
      "Successfully exported the visualization to C:\\Users\\PATHWA~1\\AppData\\Local\\Temp\\tmp0t3oku0x\n",
      "Serving bandicoot visualization at http://0.0.0.0:4242\n"
     ]
    }
   ],
   "source": [
    "# Visualize the user outside Jupyter Notebook.\n",
    "bc.visualization.run(B)"
   ]
  },
  {
   "cell_type": "markdown",
   "metadata": {},
   "source": [
    "> **Note**:\n",
    "\n",
    "> To serve the results in the notebook, \"IFrame\" is used. You can also serve the results as a web page using tools provided in Bandicoot. This function will not be demonstrated in this course, as the required ports on the AWS virtual analysis environment have not been opened.\n",
    "\n",
    "> You can review the [Bandicoot quickstart guide](http://bandicoot.mit.edu/docs/quickstart.html#visualizing-a-user) for more details on the \"bc.visualization.run(U)\" command. You can use this function to serve the visualization as a web page if you choose to install bandicoot on infrastructure where you do have access to the default port (4242). (This port is not open on your AWS virtual analysis environment.)"
   ]
  },
  {
   "cell_type": "markdown",
   "metadata": {},
   "source": [
    "# 4. Graphs and matrices\n",
    "\n",
    "This section contains network indicators, a gender assortativity example, and a brief demonstration of how to use Bandicoot to generate input for visualizations, using NetworkX. At the start of the course, Professor Pentland described general patterns in behavior that are observed between individuals. Understanding an individual as a part of a network is an extremely useful way to evaluate how they resemble or do not resemble their friends, as well as the role they play in their network or community.\n",
    "\n",
    "In the current “Friends and Family” data set, the majority of interactions take place outside of the population in the study. Therefore, performing the calculations on this data set does not make sense. This is because the data is not representative of the full network of contacts. In a commercial application, you would most likely encounter a similar situation as there are multiple carriers, each with only a portion of the total market share. The figures differ per country, but typically fall in the range of 10-30% market share for the main (dominant) carriers.\n",
    "You need to prepare a separate, trimmed data set to demonstrate this example.\n",
    "\n",
    "A useful feature of Bandicoot is that it analyzes a user's ego network, or individual focus node quickly, if the input data is properly formatted. Start by loading the \"ego\" in question to a Bandicoot object. You need to set the network parameter to \"True\". Bandicoot will attempt to extract all \"ego\" interaction data, and do the network analysis for the data contained in the specified network folder."
   ]
  },
  {
   "cell_type": "markdown",
   "metadata": {},
   "source": [
    "## 4.1 Load the data"
   ]
  },
  {
   "cell_type": "code",
   "execution_count": null,
   "metadata": {},
   "outputs": [],
   "source": [
    "# Specify the network folder containing all the data.\n",
    "network_folder  = '../data/bandicoot/network_records/'\n",
    "\n",
    "# Create Bandicoot object.\n",
    "BN = bc.read_csv(user_id, network_folder, attributes_path='../data/bandicoot/attributes',network=True)"
   ]
  },
  {
   "cell_type": "markdown",
   "metadata": {},
   "source": [
    "The Bandicoot \"read_csv()\" function loads the data, provides summary information, and removes the records that are not of interest in the analysis.  Typically, performing the data cleansing steps is time-consuming, and prone to error or inconsistencies.\n",
    "\n",
    "The graph data is stored as an adjacency matrix.\n",
    "\n",
    "> **Note**:\n",
    "\n",
    "> You will recall adjacency matrices (from Module 4) as a useful mechanism to represent finite graphs. Bandicoot stores graph information in an adjacency matrix, and said matrix indexes in a different object. Once the data has been loaded, you can start exploring the graph."
   ]
  },
  {
   "cell_type": "markdown",
   "metadata": {},
   "source": [
    "## 4.2 Network indicators"
   ]
  },
  {
   "cell_type": "code",
   "execution_count": 36,
   "metadata": {},
   "outputs": [
    {
     "data": {
      "text/plain": [
       "['sp10-01-08',\n",
       " 'fa10-01-14',\n",
       " 'fa10-01-20',\n",
       " 'sp10-01-07',\n",
       " 'sp10-01-38',\n",
       " 'sp10-01-39',\n",
       " 'sp10-01-41',\n",
       " 'sp10-01-49']"
      ]
     },
     "execution_count": 36,
     "metadata": {},
     "output_type": "execute_result"
    }
   ],
   "source": []
  },
  {
   "cell_type": "markdown",
   "metadata": {},
   "source": [
    "There are several types of adjacency matrices available in Bandicoot, including the following:\n",
    "\n",
    "* `bc.network.matrix_directed_weighted(network_user)`\n",
    "* `bc.network.matrix_directed_unweighted(network_user)`\n",
    "* `bc.network.matrix_undirected_weighted(network_user)`\n",
    "* `bc.network.matrix_undirected_unweighted(network_user)`\n",
    "\n",
    "You can review the [Bandicoot network documentation](http://bandicoot.mit.edu/docs/reference/bandicoot.network.html) for additional information."
   ]
  },
  {
   "cell_type": "code",
   "execution_count": null,
   "metadata": {},
   "outputs": [],
   "source": [
    "# Directed unweighted matrix.\n",
    "directed_unweighted = bc.network.matrix_directed_weighted(BN)\n",
    "directed_unweighted"
   ]
  },
  {
   "cell_type": "code",
   "execution_count": 38,
   "metadata": {},
   "outputs": [
    {
     "data": {
      "text/plain": [
       "[[0, 6, 7, 397, 6, 130, 8, 544],\n",
       " [6, 0, 0, 0, 0, 3, 10, 14],\n",
       " [7, 0, 0, 0, 0, 0, 0, 0],\n",
       " [397, 0, 0, 0, 56, 0, 0, 0],\n",
       " [6, 0, 0, 56, 0, 1052, 2, 0],\n",
       " [130, 3, 0, 0, 1052, 0, 27, 216],\n",
       " [8, 10, 0, 0, 2, 27, 0, 39],\n",
       " [544, 14, 0, 0, 0, 216, 39, 0]]"
      ]
     },
     "execution_count": 38,
     "metadata": {},
     "output_type": "execute_result"
    }
   ],
   "source": [
    "# Undirected weighted matrix.\n",
    "undirected_weighted = bc.network.matrix_undirected_weighted(BN)\n",
    "undirected_weighted"
   ]
  },
  {
   "cell_type": "markdown",
   "metadata": {},
   "source": [
    "## 4.3 Gender assortativity\n",
    "This indicator computes the assortativity of nominal attributes. More specifically, it measures the similarity of the current user to their correspondents for all Bandicoot indicators. For each one, it calculates the variance of the current user’s value with the values for all of their correspondents. This indicator measures the homophily of the current user with their correspondents, for each attribute. It returns a value between 0 (no assortativity) and 1 (all the contacts share the same value), which indicates the percentage of contacts sharing the same value.\n",
    "\n",
    "Let's demonstrate this by reviewing the gender assortativity."
   ]
  },
  {
   "cell_type": "code",
   "execution_count": null,
   "metadata": {},
   "outputs": [],
   "source": [
    "bc.network.assortativity_attributes(BN)['individual_id']"
   ]
  },
  {
   "cell_type": "markdown",
   "metadata": {},
   "source": [
    "<br>\n",
    "<div class=\"alert alert-info\">\n",
    "<b>Exercise 3 Start.</b>\n",
    "</div>\n",
    "\n",
    "### Instructions\n",
    "\n",
    "In the previous example, you obtained a value of 0.714 or 71.4% for gender assortativity. Random behavior would typically deliver a value centered around 50%, if you have enough data points. \n",
    "\n",
    "> **Question**: Do you think the value of 71.4% is meaningful or relevant?\n",
    "\n",
    "> Your answer should consist of “Yes” or “No”, and a short description of what you think the value obtained means, in terms of the data set."
   ]
  },
  {
   "cell_type": "markdown",
   "metadata": {},
   "source": [
    "YES,The value of 71.4% for gender assortativity seems relatively high, indicating that there is a significant level of gender homophily or preference for connections between individuals within the given dataset or network"
   ]
  },
  {
   "cell_type": "markdown",
   "metadata": {},
   "source": [
    "<br>\n",
    "<div class=\"alert alert-info\">\n",
    "<b>Exercise 3 End.</b>\n",
    "</div>\n",
    "\n",
    "> **Exercise complete**:\n",
    "    \n",
    "> This is a good time to \"Save and Checkpoint\"."
   ]
  },
  {
   "cell_type": "markdown",
   "metadata": {},
   "source": [
    "## 4.4 Ego network visualization"
   ]
  },
  {
   "cell_type": "markdown",
   "metadata": {},
   "source": [
    "You can use the ego network adjacency matrices for further analyses in NetworkX."
   ]
  },
  {
   "cell_type": "code",
   "execution_count": 40,
   "metadata": {},
   "outputs": [],
   "source": [
    "# Load the relevant libraries and set plotting options.\n",
    "import networkx as nx\n",
    "%matplotlib inline\n",
    "matplotlib.rcParams['figure.figsize'] = (18,11)"
   ]
  },
  {
   "cell_type": "markdown",
   "metadata": {},
   "source": [
    "Create directed unweighted and undirected weighted graphs to visualize  network, in order to better understand the user behavior (as per the examples in Section 1.2 of Module 4’s Notebook 2)."
   ]
  },
  {
   "cell_type": "code",
   "execution_count": 41,
   "metadata": {},
   "outputs": [],
   "source": [
    "# Create the graph objects.\n",
    "G_directed_unweighted = nx.DiGraph(nx.from_numpy_matrix(np.array(directed_unweighted)))\n",
    "G_undirected_weighted = nx.from_numpy_matrix(np.array(undirected_weighted)) \n",
    "node_labels = dict(enumerate(node_labels))"
   ]
  },
  {
   "cell_type": "markdown",
   "metadata": {},
   "source": [
    "#### 4.4.1 Plot the directed unweighted graph\n",
    "This can typically be utilized to better understand the flow or spread of information in a network."
   ]
  },
  {
   "cell_type": "code",
   "execution_count": 42,
   "metadata": {},
   "outputs": [
    {
     "data": {
      "image/png": "[encoded data removed]",
      "text/plain": [
       "<Figure size 1800x1100 with 1 Axes>"
      ]
     },
     "metadata": {},
     "output_type": "display_data"
    }
   ],
   "source": [
    "# Plot the graph.\n",
    "layout = nx.spring_layout(G_directed_unweighted)\n",
    "nx.draw_networkx(G_directed_unweighted, layout, node_color='blue', alpha=0.4, node_size=2000)\n",
    "_ = nx.draw_networkx_labels(G_directed_unweighted, layout, node_labels)\n",
    "_ = nx.draw_networkx_edges(G_directed_unweighted, layout,arrows=True)"
   ]
  },
  {
   "cell_type": "markdown",
   "metadata": {},
   "source": [
    "#### 4.4.2 Plot the undirected weighted graph\n",
    "\n",
    "This can typically be utilized to better understand the importance of the various individuals and their interactions in the network."
   ]
  },
  {
   "cell_type": "code",
   "execution_count": 43,
   "metadata": {},
   "outputs": [
    {
     "data": {
      "image/png": "[encoded data removed]",
      "text/plain": [
       "<Figure size 1800x1100 with 1 Axes>"
      ]
     },
     "metadata": {},
     "output_type": "display_data"
    }
   ],
   "source": [
    "# Plot the graph.\n",
    "layout = nx.spring_layout(G_directed_unweighted)\n",
    "nx.draw_networkx(G_undirected_weighted, layout, node_color='blue', alpha=0.4, node_size=2000)\n",
    "_ = nx.draw_networkx_labels(G_undirected_weighted, layout, node_labels)"
   ]
  },
  {
   "cell_type": "markdown",
   "metadata": {},
   "source": [
    "> **Note**:\n",
    "\n",
    "> Can you think of use cases for the various networks introduced in Module 4? \n",
    "\n",
    "> Feel free to discuss these with your fellow students on the forums."
   ]
  },
  {
   "cell_type": "code",
   "execution_count": null,
   "metadata": {},
   "outputs": [],
   "source": []
  }
 ],
 "metadata": {
  "kernelspec": {
   "display_name": "Python 3 (ipykernel)",
   "language": "python",
   "name": "python3"
  },
  "language_info": {
   "codemirror_mode": {
    "name": "ipython",
    "version": 3
   },
   "file_extension": ".py",
   "mimetype": "text/x-python",
   "name": "python",
   "nbconvert_exporter": "python",
   "pygments_lexer": "ipython3",
   "version": "3.6.2"
  }
 },
 "nbformat": 4,
 "nbformat_minor": 1
}
